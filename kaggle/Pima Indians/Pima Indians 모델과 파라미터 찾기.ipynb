{
 "cells": [
  {
   "cell_type": "code",
   "execution_count": 1,
   "metadata": {},
   "outputs": [],
   "source": [
    "import pandas as pd\n",
    "import numpy as np\n",
    "import seaborn as sns\n",
    "import matplotlib.pyplot as plt\n",
    "\n",
    "%matplotlib inline"
   ]
  },
  {
   "cell_type": "code",
   "execution_count": 2,
   "metadata": {},
   "outputs": [],
   "source": [
    "df = pd.read_csv('C:\\Users\\wkddn\\OneDrive\\문서\\GitHub\\Kaggle\\kaggle\\Pima Indians\\diabetes(preprocessing).csv')"
   ]
  },
  {
   "cell_type": "code",
   "execution_count": 3,
   "metadata": {},
   "outputs": [
    {
     "data": {
      "text/plain": [
       "(768, 16)"
      ]
     },
     "execution_count": 3,
     "metadata": {},
     "output_type": "execute_result"
    }
   ],
   "source": [
    "df.shape"
   ]
  },
  {
   "cell_type": "code",
   "execution_count": 4,
   "metadata": {},
   "outputs": [
    {
     "data": {
      "text/plain": [
       "Index(['Pregnancies', 'Glucose', 'BloodPressure', 'SkinThickness', 'Insulin',\n",
       "       'BMI', 'DiabetesPedigreeFunction', 'Age', 'Outcome', 'Pregnancies_high',\n",
       "       'Age_low', 'Age_middle', 'Age_high', 'Insulin_nan', 'Insulin_log',\n",
       "       'low_glu_insulin'],\n",
       "      dtype='object')"
      ]
     },
     "execution_count": 4,
     "metadata": {},
     "output_type": "execute_result"
    }
   ],
   "source": [
    "df.columns"
   ]
  },
  {
   "cell_type": "code",
   "execution_count": 5,
   "metadata": {},
   "outputs": [
    {
     "data": {
      "text/plain": [
       "(768, 12)"
      ]
     },
     "execution_count": 5,
     "metadata": {},
     "output_type": "execute_result"
    }
   ],
   "source": [
    "X = df[['Glucose', 'BloodPressure', 'SkinThickness', 'Insulin', 'BMI', 'DiabetesPedigreeFunction', 'Age', 'Pregnancies_high', 'Age_low', 'Age_middle', 'Insulin_nan', 'low_glu_insulin']]\n",
    "\n",
    "X.shape"
   ]
  },
  {
   "cell_type": "code",
   "execution_count": 6,
   "metadata": {},
   "outputs": [
    {
     "data": {
      "text/plain": [
       "(768,)"
      ]
     },
     "execution_count": 6,
     "metadata": {},
     "output_type": "execute_result"
    }
   ],
   "source": [
    "y = df['Outcome']\n",
    "y.shape"
   ]
  },
  {
   "cell_type": "code",
   "execution_count": 7,
   "metadata": {},
   "outputs": [],
   "source": [
    "# test_set을 test_size 옵션을 통해 20%로 지정합니다.\n",
    "from sklearn.model_selection import train_test_split\n",
    "X_train, X_test, y_train, y_test = train_test_split(X, y, test_size=0.2, random_state=42\n",
    ")"
   ]
  },
  {
   "cell_type": "code",
   "execution_count": 8,
   "metadata": {},
   "outputs": [
    {
     "data": {
      "text/plain": [
       "((614, 12), (614,))"
      ]
     },
     "execution_count": 8,
     "metadata": {},
     "output_type": "execute_result"
    }
   ],
   "source": [
    "X_train.shape, y_train.shape"
   ]
  },
  {
   "cell_type": "code",
   "execution_count": 9,
   "metadata": {},
   "outputs": [
    {
     "data": {
      "text/plain": [
       "((154, 12), (154,))"
      ]
     },
     "execution_count": 9,
     "metadata": {},
     "output_type": "execute_result"
    }
   ],
   "source": [
    "X_test.shape, y_test.shape"
   ]
  },
  {
   "cell_type": "code",
   "execution_count": 10,
   "metadata": {},
   "outputs": [
    {
     "data": {
      "text/plain": [
       "DecisionTreeClassifier(max_depth=11, random_state=42)"
      ]
     },
     "execution_count": 10,
     "metadata": {},
     "output_type": "execute_result"
    }
   ],
   "source": [
    "from sklearn.tree import DecisionTreeClassifier\n",
    "model = DecisionTreeClassifier(max_depth=11, random_state=42)\n",
    "model"
   ]
  },
  {
   "cell_type": "code",
   "execution_count": 11,
   "metadata": {},
   "outputs": [
    {
     "data": {
      "text/plain": [
       "DecisionTreeClassifier(max_depth=11, random_state=42)"
      ]
     },
     "execution_count": 11,
     "metadata": {},
     "output_type": "execute_result"
    }
   ],
   "source": [
    "# model 학습\n",
    "model.fit(X_train, y_train)"
   ]
  },
  {
   "cell_type": "code",
   "execution_count": 12,
   "metadata": {},
   "outputs": [
    {
     "data": {
      "text/plain": [
       "array([1, 0, 0, 0, 0, 1, 0, 0, 0, 0, 1, 0, 1, 0, 1, 1, 0, 0, 1, 1, 0, 0,\n",
       "       0, 0, 1, 1, 0, 0, 0, 0, 0, 1, 1, 1, 0, 1, 1, 1, 0, 1, 0, 0, 0, 1,\n",
       "       0, 1, 1, 0, 0, 1, 0, 0, 1, 1, 0, 0, 0, 0, 0, 1, 1, 0, 1, 0, 0, 0,\n",
       "       0, 1, 0, 1, 1, 0, 0, 0, 0, 0, 0, 0, 0, 0, 1, 0, 0, 0, 0, 1, 1, 0,\n",
       "       0, 0, 0, 0, 0, 1, 0, 0, 0, 0, 1, 0, 0, 0, 1, 0, 1, 0, 1, 1, 0, 1,\n",
       "       0, 0, 0, 1, 0, 0, 1, 0, 0, 0, 0, 1, 1, 0, 0, 1, 1, 1, 1, 0, 1, 0,\n",
       "       0, 0, 1, 0, 1, 1, 1, 1, 0, 0, 0, 0, 0, 0, 1, 0, 0, 1, 0, 0, 1, 0],\n",
       "      dtype=int64)"
      ]
     },
     "execution_count": 12,
     "metadata": {},
     "output_type": "execute_result"
    }
   ],
   "source": [
    "# 예측을 하고, 결과를 y_predict에 담기\n",
    "# 0이면 당뇨병이 발병하지않고, 1은 발병\n",
    "y_predict = model.predict(X_test)\n",
    "y_predict"
   ]
  },
  {
   "cell_type": "code",
   "execution_count": 13,
   "metadata": {},
   "outputs": [
    {
     "data": {
      "text/plain": [
       "21"
      ]
     },
     "execution_count": 13,
     "metadata": {},
     "output_type": "execute_result"
    }
   ],
   "source": [
    "abs(y_predict - y_test).sum()"
   ]
  },
  {
   "cell_type": "code",
   "execution_count": 14,
   "metadata": {},
   "outputs": [
    {
     "data": {
      "text/plain": [
       "86.36363636363636"
      ]
     },
     "execution_count": 14,
     "metadata": {},
     "output_type": "execute_result"
    }
   ],
   "source": [
    "from sklearn.metrics import accuracy_score\n",
    "\n",
    "accuracy_score(y_test, y_predict) * 100"
   ]
  },
  {
   "cell_type": "code",
   "execution_count": 15,
   "metadata": {},
   "outputs": [],
   "source": [
    "feature_names = X_train.columns.tolist()"
   ]
  },
  {
   "cell_type": "code",
   "execution_count": 16,
   "metadata": {},
   "outputs": [
    {
     "data": {
      "image/png": "[encoded data removed]",
      "text/plain": [
       "<Figure size 1080x1080 with 1 Axes>"
      ]
     },
     "metadata": {
      "needs_background": "light"
     },
     "output_type": "display_data"
    }
   ],
   "source": [
    "'''\n",
    "Insulin이 가장 상위 조건으로 나뉘고, gini 계수가 0이면 tree 그리기를 멈춥니다.\n",
    "샘플의 개수가 밑으로 갈수록 줄어듭니다.\n",
    "'''\n",
    "from sklearn.tree import plot_tree\n",
    "\n",
    "plt.figure(figsize=(15,15))\n",
    "tree = plot_tree(model, feature_names=feature_names, fontsize=10, filled=True)"
   ]
  },
  {
   "cell_type": "markdown",
   "metadata": {},
   "source": [
    "## 최적의 max_depth 값 찾기"
   ]
  },
  {
   "cell_type": "code",
   "execution_count": 17,
   "metadata": {},
   "outputs": [
    {
     "name": "stdout",
     "output_type": "stream",
     "text": [
      "3 86.36363636363636\n",
      "4 87.66233766233766\n",
      "5 85.71428571428571\n",
      "6 85.71428571428571\n",
      "7 85.06493506493507\n",
      "8 84.4155844155844\n",
      "9 83.76623376623377\n",
      "10 85.71428571428571\n",
      "11 86.36363636363636\n"
     ]
    }
   ],
   "source": [
    "# for문 안에 모델을 넣으면 max_depth 파라미터를 바꿔가면서 모델을 학습\n",
    "from sklearn.metrics import accuracy_score\n",
    "\n",
    "for max_depth in range(3, 12):\n",
    "    model = DecisionTreeClassifier(max_depth=max_depth, random_state=42)\n",
    "    y_predict = model.fit(X_train, y_train).predict(X_test)\n",
    "    score = accuracy_score(y_test, y_predict) * 100\n",
    "    print(max_depth, score)"
   ]
  },
  {
   "cell_type": "markdown",
   "metadata": {},
   "source": [
    "## Grid Search"
   ]
  },
  {
   "cell_type": "code",
   "execution_count": 18,
   "metadata": {},
   "outputs": [
    {
     "name": "stdout",
     "output_type": "stream",
     "text": [
      "Fitting 5 folds for each of 45 candidates, totalling 225 fits\n"
     ]
    },
    {
     "data": {
      "text/plain": [
       "GridSearchCV(cv=5, estimator=DecisionTreeClassifier(random_state=42), n_jobs=-1,\n",
       "             param_grid={'max_depth': range(3, 12),\n",
       "                         'max_features': [0.3, 0.5, 0.7, 0.9, 1]},\n",
       "             verbose=2)"
      ]
     },
     "execution_count": 18,
     "metadata": {},
     "output_type": "execute_result"
    }
   ],
   "source": [
    "'''\n",
    "param_grid - 튜닝하고 싶은 파라미터 정보 \n",
    "max_features - 일부 feature만 사용, 1은 전체\n",
    "n_jobs - -1로 설정하여 사용 가능한 모든 장비를 학습에 이용\n",
    "cv - cross validation을 5개로 나눔\n",
    "verbose - 1로 하여 로그를 찍으면서 학습, 0이면 로그 출력 x\n",
    "'''\n",
    "\n",
    "from sklearn.model_selection import GridSearchCV\n",
    "\n",
    "model = DecisionTreeClassifier(random_state=42)\n",
    "param_grid = {'max_depth':range(3, 12),\n",
    "\"max_features\":[0.3, 0.5, 0.7, 0.9, 1]}\n",
    "clf = GridSearchCV(model, param_grid=param_grid, n_jobs=-1, cv=5, verbose=2)\n",
    "clf.fit(X_train, y_train)"
   ]
  },
  {
   "cell_type": "code",
   "execution_count": 19,
   "metadata": {},
   "outputs": [
    {
     "data": {
      "text/plain": [
       "{'max_depth': 5, 'max_features': 0.9}"
      ]
     },
     "execution_count": 19,
     "metadata": {},
     "output_type": "execute_result"
    }
   ],
   "source": [
    "clf.best_params_ # 가장 성능이 좋은 파라미터"
   ]
  },
  {
   "cell_type": "code",
   "execution_count": 20,
   "metadata": {},
   "outputs": [
    {
     "data": {
      "text/plain": [
       "DecisionTreeClassifier(max_depth=5, max_features=0.9, random_state=42)"
      ]
     },
     "execution_count": 20,
     "metadata": {},
     "output_type": "execute_result"
    }
   ],
   "source": [
    "clf.best_estimator_ # 가장 좋은 성능을 내는 파라미터 조합 전체"
   ]
  },
  {
   "cell_type": "code",
   "execution_count": 21,
   "metadata": {},
   "outputs": [
    {
     "data": {
      "text/plain": [
       "0.889257630281221"
      ]
     },
     "execution_count": 21,
     "metadata": {},
     "output_type": "execute_result"
    }
   ],
   "source": [
    "clf.best_score_ # 가장 좋은 점수"
   ]
  },
  {
   "cell_type": "code",
   "execution_count": 22,
   "metadata": {},
   "outputs": [
    {
     "data": {
      "text/html": [
       "<div>\n",
       "<style scoped>\n",
       "    .dataframe tbody tr th:only-of-type {\n",
       "        vertical-align: middle;\n",
       "    }\n",
       "\n",
       "    .dataframe tbody tr th {\n",
       "        vertical-align: top;\n",
       "    }\n",
       "\n",
       "    .dataframe thead th {\n",
       "        text-align: right;\n",
       "    }\n",
       "</style>\n",
       "<table border=\"1\" class=\"dataframe\">\n",
       "  <thead>\n",
       "    <tr style=\"text-align: right;\">\n",
       "      <th></th>\n",
       "      <th>mean_fit_time</th>\n",
       "      <th>std_fit_time</th>\n",
       "      <th>mean_score_time</th>\n",
       "      <th>std_score_time</th>\n",
       "      <th>param_max_depth</th>\n",
       "      <th>param_max_features</th>\n",
       "      <th>params</th>\n",
       "      <th>split0_test_score</th>\n",
       "      <th>split1_test_score</th>\n",
       "      <th>split2_test_score</th>\n",
       "      <th>split3_test_score</th>\n",
       "      <th>split4_test_score</th>\n",
       "      <th>mean_test_score</th>\n",
       "      <th>std_test_score</th>\n",
       "      <th>rank_test_score</th>\n",
       "    </tr>\n",
       "  </thead>\n",
       "  <tbody>\n",
       "    <tr>\n",
       "      <th>13</th>\n",
       "      <td>0.006401</td>\n",
       "      <td>0.003200</td>\n",
       "      <td>0.0048</td>\n",
       "      <td>0.003919</td>\n",
       "      <td>5</td>\n",
       "      <td>0.9</td>\n",
       "      <td>{'max_depth': 5, 'max_features': 0.9}</td>\n",
       "      <td>0.869919</td>\n",
       "      <td>0.926829</td>\n",
       "      <td>0.869919</td>\n",
       "      <td>0.886179</td>\n",
       "      <td>0.893443</td>\n",
       "      <td>0.889258</td>\n",
       "      <td>0.020912</td>\n",
       "      <td>1</td>\n",
       "    </tr>\n",
       "    <tr>\n",
       "      <th>8</th>\n",
       "      <td>0.006400</td>\n",
       "      <td>0.003200</td>\n",
       "      <td>0.0016</td>\n",
       "      <td>0.003200</td>\n",
       "      <td>4</td>\n",
       "      <td>0.9</td>\n",
       "      <td>{'max_depth': 4, 'max_features': 0.9}</td>\n",
       "      <td>0.861789</td>\n",
       "      <td>0.943089</td>\n",
       "      <td>0.861789</td>\n",
       "      <td>0.869919</td>\n",
       "      <td>0.877049</td>\n",
       "      <td>0.882727</td>\n",
       "      <td>0.030714</td>\n",
       "      <td>2</td>\n",
       "    </tr>\n",
       "    <tr>\n",
       "      <th>17</th>\n",
       "      <td>0.004800</td>\n",
       "      <td>0.003919</td>\n",
       "      <td>0.0048</td>\n",
       "      <td>0.003919</td>\n",
       "      <td>6</td>\n",
       "      <td>0.7</td>\n",
       "      <td>{'max_depth': 6, 'max_features': 0.7}</td>\n",
       "      <td>0.853659</td>\n",
       "      <td>0.918699</td>\n",
       "      <td>0.845528</td>\n",
       "      <td>0.878049</td>\n",
       "      <td>0.885246</td>\n",
       "      <td>0.876236</td>\n",
       "      <td>0.025847</td>\n",
       "      <td>3</td>\n",
       "    </tr>\n",
       "    <tr>\n",
       "      <th>3</th>\n",
       "      <td>0.006400</td>\n",
       "      <td>0.003200</td>\n",
       "      <td>0.0032</td>\n",
       "      <td>0.003919</td>\n",
       "      <td>3</td>\n",
       "      <td>0.9</td>\n",
       "      <td>{'max_depth': 3, 'max_features': 0.9}</td>\n",
       "      <td>0.853659</td>\n",
       "      <td>0.902439</td>\n",
       "      <td>0.861789</td>\n",
       "      <td>0.878049</td>\n",
       "      <td>0.885246</td>\n",
       "      <td>0.876236</td>\n",
       "      <td>0.017260</td>\n",
       "      <td>3</td>\n",
       "    </tr>\n",
       "    <tr>\n",
       "      <th>23</th>\n",
       "      <td>0.006400</td>\n",
       "      <td>0.003200</td>\n",
       "      <td>0.0016</td>\n",
       "      <td>0.003200</td>\n",
       "      <td>7</td>\n",
       "      <td>0.9</td>\n",
       "      <td>{'max_depth': 7, 'max_features': 0.9}</td>\n",
       "      <td>0.861789</td>\n",
       "      <td>0.918699</td>\n",
       "      <td>0.861789</td>\n",
       "      <td>0.861789</td>\n",
       "      <td>0.877049</td>\n",
       "      <td>0.876223</td>\n",
       "      <td>0.022045</td>\n",
       "      <td>5</td>\n",
       "    </tr>\n",
       "  </tbody>\n",
       "</table>\n",
       "</div>"
      ],
      "text/plain": [
       "    mean_fit_time  std_fit_time  mean_score_time  std_score_time  \\\n",
       "13       0.006401      0.003200           0.0048        0.003919   \n",
       "8        0.006400      0.003200           0.0016        0.003200   \n",
       "17       0.004800      0.003919           0.0048        0.003919   \n",
       "3        0.006400      0.003200           0.0032        0.003919   \n",
       "23       0.006400      0.003200           0.0016        0.003200   \n",
       "\n",
       "   param_max_depth param_max_features                                 params  \\\n",
       "13               5                0.9  {'max_depth': 5, 'max_features': 0.9}   \n",
       "8                4                0.9  {'max_depth': 4, 'max_features': 0.9}   \n",
       "17               6                0.7  {'max_depth': 6, 'max_features': 0.7}   \n",
       "3                3                0.9  {'max_depth': 3, 'max_features': 0.9}   \n",
       "23               7                0.9  {'max_depth': 7, 'max_features': 0.9}   \n",
       "\n",
       "    split0_test_score  split1_test_score  split2_test_score  \\\n",
       "13           0.869919           0.926829           0.869919   \n",
       "8            0.861789           0.943089           0.861789   \n",
       "17           0.853659           0.918699           0.845528   \n",
       "3            0.853659           0.902439           0.861789   \n",
       "23           0.861789           0.918699           0.861789   \n",
       "\n",
       "    split3_test_score  split4_test_score  mean_test_score  std_test_score  \\\n",
       "13           0.886179           0.893443         0.889258        0.020912   \n",
       "8            0.869919           0.877049         0.882727        0.030714   \n",
       "17           0.878049           0.885246         0.876236        0.025847   \n",
       "3            0.878049           0.885246         0.876236        0.017260   \n",
       "23           0.861789           0.877049         0.876223        0.022045   \n",
       "\n",
       "    rank_test_score  \n",
       "13                1  \n",
       "8                 2  \n",
       "17                3  \n",
       "3                 3  \n",
       "23                5  "
      ]
     },
     "execution_count": 22,
     "metadata": {},
     "output_type": "execute_result"
    }
   ],
   "source": [
    "pd.DataFrame(clf.cv_results_).sort_values(by='rank_test_score').head()"
   ]
  },
  {
   "cell_type": "code",
   "execution_count": 23,
   "metadata": {},
   "outputs": [
    {
     "data": {
      "text/plain": [
       "array([1, 0, 0, 0, 0, 1, 0, 0, 0, 0, 1, 0, 0, 0, 0, 0, 0, 0, 1, 0, 0, 0,\n",
       "       0, 0, 1, 1, 0, 0, 0, 0, 0, 1, 1, 1, 0, 1, 1, 1, 0, 1, 0, 0, 0, 1,\n",
       "       0, 1, 1, 0, 0, 1, 0, 0, 1, 1, 0, 0, 0, 0, 0, 1, 1, 0, 0, 0, 0, 0,\n",
       "       0, 1, 0, 1, 1, 0, 0, 0, 0, 0, 0, 0, 0, 0, 1, 0, 0, 0, 0, 1, 1, 0,\n",
       "       0, 0, 0, 0, 0, 1, 0, 0, 0, 0, 1, 0, 0, 0, 1, 1, 1, 0, 0, 1, 0, 1,\n",
       "       0, 0, 0, 1, 0, 0, 1, 0, 0, 0, 0, 0, 1, 0, 0, 0, 1, 0, 1, 0, 1, 1,\n",
       "       0, 0, 1, 0, 1, 1, 1, 0, 0, 0, 0, 0, 0, 0, 1, 0, 0, 1, 0, 0, 0, 0],\n",
       "      dtype=int64)"
      ]
     },
     "execution_count": 23,
     "metadata": {},
     "output_type": "execute_result"
    }
   ],
   "source": [
    "clf.predict(X_test)"
   ]
  },
  {
   "cell_type": "code",
   "execution_count": 24,
   "metadata": {},
   "outputs": [
    {
     "data": {
      "text/plain": [
       "0.8701298701298701"
      ]
     },
     "execution_count": 24,
     "metadata": {},
     "output_type": "execute_result"
    }
   ],
   "source": [
    "clf.score(X_test, y_test)"
   ]
  },
  {
   "cell_type": "markdown",
   "metadata": {},
   "source": [
    "## Grid Search - 우리가 설정한 범위 안에섬나 parameter을 탐색\n",
    "## Random Search는 좋은 성능을 낼 수 있는 랜덤 값을 탐색"
   ]
  },
  {
   "cell_type": "code",
   "execution_count": 25,
   "metadata": {},
   "outputs": [],
   "source": [
    "max_depth = np.random.randint(3, 20, 10)\n",
    "max_depth\n",
    " \n",
    "max_features = np.random.uniform(0.7, 1.0, 100)\n",
    " \n",
    "param_distributions = {\"max_depth\" :max_depth,\n",
    "           \"max_features\": max_features,\n",
    "           \"min_samples_split\" : list(range(2, 7))\n",
    "           }\n"
   ]
  },
  {
   "cell_type": "code",
   "execution_count": 26,
   "metadata": {},
   "outputs": [
    {
     "data": {
      "text/plain": [
       "RandomizedSearchCV(cv=5, estimator=DecisionTreeClassifier(random_state=42),\n",
       "                   n_iter=1000, n_jobs=-1,\n",
       "                   param_distributions={'max_depth': array([ 8, 18, 17, 10,  7, 19, 18, 15, 11, 10]),\n",
       "                                        'max_features': array([0.9452264 , 0.85242337, 0.91222139, 0.89088946, 0.86439672,\n",
       "       0.89903002, 0.82701705, 0.70252685, 0.78093181, 0.80817531,\n",
       "       0.76479516, 0.8190964 , 0.89667215, 0.73730873, 0.80693595...\n",
       "       0.83967108, 0.92469188, 0.73691879, 0.79858275, 0.88844703,\n",
       "       0.91929883, 0.72541299, 0.75967416, 0.81815797, 0.7575103 ,\n",
       "       0.99705433, 0.76764331, 0.77349905, 0.7545435 , 0.72492987,\n",
       "       0.98932634, 0.8444388 , 0.96706962, 0.87345199, 0.80311253,\n",
       "       0.72386782, 0.70674719, 0.94404922, 0.98717528, 0.70202202,\n",
       "       0.70212696, 0.73998376, 0.94751177, 0.9768296 , 0.84323744]),\n",
       "                                        'min_samples_split': [2, 3, 4, 5, 6]},\n",
       "                   random_state=42, scoring='accuracy')"
      ]
     },
     "execution_count": 26,
     "metadata": {},
     "output_type": "execute_result"
    }
   ],
   "source": [
    "from sklearn.model_selection import RandomizedSearchCV\n",
    "\n",
    "clf = RandomizedSearchCV(model,\n",
    "    param_distributions,\n",
    "    n_iter=1000,\n",
    "    scoring=\"accuracy\",\n",
    "    n_jobs=-1,\n",
    "    cv=5,\n",
    "    random_state=42\n",
    "    )\n",
    "\n",
    "clf.fit(X_train, y_train)"
   ]
  },
  {
   "cell_type": "code",
   "execution_count": 27,
   "metadata": {},
   "outputs": [
    {
     "data": {
      "text/plain": [
       "{'min_samples_split': 6, 'max_features': 0.9840872498798896, 'max_depth': 8}"
      ]
     },
     "execution_count": 27,
     "metadata": {},
     "output_type": "execute_result"
    }
   ],
   "source": [
    "clf.best_params_"
   ]
  },
  {
   "cell_type": "code",
   "execution_count": 28,
   "metadata": {},
   "outputs": [
    {
     "data": {
      "text/plain": [
       "0.8843395974943355"
      ]
     },
     "execution_count": 28,
     "metadata": {},
     "output_type": "execute_result"
    }
   ],
   "source": [
    "clf.best_score_"
   ]
  },
  {
   "cell_type": "code",
   "execution_count": 29,
   "metadata": {},
   "outputs": [
    {
     "data": {
      "text/plain": [
       "0.8506493506493507"
      ]
     },
     "execution_count": 29,
     "metadata": {},
     "output_type": "execute_result"
    }
   ],
   "source": [
    "clf.score(X_test, y_test)"
   ]
  },
  {
   "cell_type": "code",
   "execution_count": 30,
   "metadata": {},
   "outputs": [
    {
     "data": {
      "text/html": [
       "<div>\n",
       "<style scoped>\n",
       "    .dataframe tbody tr th:only-of-type {\n",
       "        vertical-align: middle;\n",
       "    }\n",
       "\n",
       "    .dataframe tbody tr th {\n",
       "        vertical-align: top;\n",
       "    }\n",
       "\n",
       "    .dataframe thead th {\n",
       "        text-align: right;\n",
       "    }\n",
       "</style>\n",
       "<table border=\"1\" class=\"dataframe\">\n",
       "  <thead>\n",
       "    <tr style=\"text-align: right;\">\n",
       "      <th></th>\n",
       "      <th>mean_fit_time</th>\n",
       "      <th>std_fit_time</th>\n",
       "      <th>mean_score_time</th>\n",
       "      <th>std_score_time</th>\n",
       "      <th>param_min_samples_split</th>\n",
       "      <th>param_max_features</th>\n",
       "      <th>param_max_depth</th>\n",
       "      <th>params</th>\n",
       "      <th>split0_test_score</th>\n",
       "      <th>split1_test_score</th>\n",
       "      <th>split2_test_score</th>\n",
       "      <th>split3_test_score</th>\n",
       "      <th>split4_test_score</th>\n",
       "      <th>mean_test_score</th>\n",
       "      <th>std_test_score</th>\n",
       "      <th>rank_test_score</th>\n",
       "    </tr>\n",
       "  </thead>\n",
       "  <tbody>\n",
       "    <tr>\n",
       "      <th>159</th>\n",
       "      <td>0.008000</td>\n",
       "      <td>5.687370e-06</td>\n",
       "      <td>0.001600</td>\n",
       "      <td>0.003200</td>\n",
       "      <td>6</td>\n",
       "      <td>0.949202</td>\n",
       "      <td>8</td>\n",
       "      <td>{'min_samples_split': 6, 'max_features': 0.949...</td>\n",
       "      <td>0.861789</td>\n",
       "      <td>0.926829</td>\n",
       "      <td>0.861789</td>\n",
       "      <td>0.902439</td>\n",
       "      <td>0.868852</td>\n",
       "      <td>0.88434</td>\n",
       "      <td>0.026038</td>\n",
       "      <td>1</td>\n",
       "    </tr>\n",
       "    <tr>\n",
       "      <th>139</th>\n",
       "      <td>0.006400</td>\n",
       "      <td>3.199887e-03</td>\n",
       "      <td>0.001598</td>\n",
       "      <td>0.003197</td>\n",
       "      <td>6</td>\n",
       "      <td>0.931389</td>\n",
       "      <td>8</td>\n",
       "      <td>{'min_samples_split': 6, 'max_features': 0.931...</td>\n",
       "      <td>0.861789</td>\n",
       "      <td>0.926829</td>\n",
       "      <td>0.861789</td>\n",
       "      <td>0.902439</td>\n",
       "      <td>0.868852</td>\n",
       "      <td>0.88434</td>\n",
       "      <td>0.026038</td>\n",
       "      <td>1</td>\n",
       "    </tr>\n",
       "    <tr>\n",
       "      <th>981</th>\n",
       "      <td>0.008001</td>\n",
       "      <td>5.722046e-07</td>\n",
       "      <td>0.003200</td>\n",
       "      <td>0.003919</td>\n",
       "      <td>6</td>\n",
       "      <td>0.95805</td>\n",
       "      <td>8</td>\n",
       "      <td>{'min_samples_split': 6, 'max_features': 0.958...</td>\n",
       "      <td>0.861789</td>\n",
       "      <td>0.926829</td>\n",
       "      <td>0.861789</td>\n",
       "      <td>0.902439</td>\n",
       "      <td>0.868852</td>\n",
       "      <td>0.88434</td>\n",
       "      <td>0.026038</td>\n",
       "      <td>1</td>\n",
       "    </tr>\n",
       "    <tr>\n",
       "      <th>479</th>\n",
       "      <td>0.003200</td>\n",
       "      <td>3.919192e-03</td>\n",
       "      <td>0.004800</td>\n",
       "      <td>0.003919</td>\n",
       "      <td>6</td>\n",
       "      <td>0.997236</td>\n",
       "      <td>8</td>\n",
       "      <td>{'min_samples_split': 6, 'max_features': 0.997...</td>\n",
       "      <td>0.861789</td>\n",
       "      <td>0.926829</td>\n",
       "      <td>0.861789</td>\n",
       "      <td>0.902439</td>\n",
       "      <td>0.868852</td>\n",
       "      <td>0.88434</td>\n",
       "      <td>0.026038</td>\n",
       "      <td>1</td>\n",
       "    </tr>\n",
       "    <tr>\n",
       "      <th>367</th>\n",
       "      <td>0.001600</td>\n",
       "      <td>3.199673e-03</td>\n",
       "      <td>0.008000</td>\n",
       "      <td>0.005059</td>\n",
       "      <td>6</td>\n",
       "      <td>0.989326</td>\n",
       "      <td>8</td>\n",
       "      <td>{'min_samples_split': 6, 'max_features': 0.989...</td>\n",
       "      <td>0.861789</td>\n",
       "      <td>0.926829</td>\n",
       "      <td>0.861789</td>\n",
       "      <td>0.902439</td>\n",
       "      <td>0.868852</td>\n",
       "      <td>0.88434</td>\n",
       "      <td>0.026038</td>\n",
       "      <td>1</td>\n",
       "    </tr>\n",
       "  </tbody>\n",
       "</table>\n",
       "</div>"
      ],
      "text/plain": [
       "     mean_fit_time  std_fit_time  mean_score_time  std_score_time  \\\n",
       "159       0.008000  5.687370e-06         0.001600        0.003200   \n",
       "139       0.006400  3.199887e-03         0.001598        0.003197   \n",
       "981       0.008001  5.722046e-07         0.003200        0.003919   \n",
       "479       0.003200  3.919192e-03         0.004800        0.003919   \n",
       "367       0.001600  3.199673e-03         0.008000        0.005059   \n",
       "\n",
       "    param_min_samples_split param_max_features param_max_depth  \\\n",
       "159                       6           0.949202               8   \n",
       "139                       6           0.931389               8   \n",
       "981                       6            0.95805               8   \n",
       "479                       6           0.997236               8   \n",
       "367                       6           0.989326               8   \n",
       "\n",
       "                                                params  split0_test_score  \\\n",
       "159  {'min_samples_split': 6, 'max_features': 0.949...           0.861789   \n",
       "139  {'min_samples_split': 6, 'max_features': 0.931...           0.861789   \n",
       "981  {'min_samples_split': 6, 'max_features': 0.958...           0.861789   \n",
       "479  {'min_samples_split': 6, 'max_features': 0.997...           0.861789   \n",
       "367  {'min_samples_split': 6, 'max_features': 0.989...           0.861789   \n",
       "\n",
       "     split1_test_score  split2_test_score  split3_test_score  \\\n",
       "159           0.926829           0.861789           0.902439   \n",
       "139           0.926829           0.861789           0.902439   \n",
       "981           0.926829           0.861789           0.902439   \n",
       "479           0.926829           0.861789           0.902439   \n",
       "367           0.926829           0.861789           0.902439   \n",
       "\n",
       "     split4_test_score  mean_test_score  std_test_score  rank_test_score  \n",
       "159           0.868852          0.88434        0.026038                1  \n",
       "139           0.868852          0.88434        0.026038                1  \n",
       "981           0.868852          0.88434        0.026038                1  \n",
       "479           0.868852          0.88434        0.026038                1  \n",
       "367           0.868852          0.88434        0.026038                1  "
      ]
     },
     "execution_count": 30,
     "metadata": {},
     "output_type": "execute_result"
    }
   ],
   "source": [
    "pd.DataFrame(clf.cv_results_).sort_values(by=\"rank_test_score\").head()"
   ]
  },
  {
   "cell_type": "markdown",
   "metadata": {},
   "source": [
    "## Random Forest - 샘플링하여 여러 데이터를 만들며, 이 샘플은 부트스트랩이라고 함\n",
    "## 이를 통해 오버피팅을 방지할 수 있음"
   ]
  },
  {
   "cell_type": "code",
   "execution_count": 31,
   "metadata": {},
   "outputs": [
    {
     "data": {
      "text/plain": [
       "DecisionTreeClassifier(random_state=42)"
      ]
     },
     "execution_count": 31,
     "metadata": {},
     "output_type": "execute_result"
    }
   ],
   "source": [
    "from sklearn.tree import DecisionTreeClassifier\n",
    "\n",
    "model = DecisionTreeClassifier(random_state=42)\n",
    "model"
   ]
  },
  {
   "cell_type": "code",
   "execution_count": 32,
   "metadata": {},
   "outputs": [
    {
     "data": {
      "text/plain": [
       "DecisionTreeClassifier(random_state=42)"
      ]
     },
     "execution_count": 32,
     "metadata": {},
     "output_type": "execute_result"
    }
   ],
   "source": [
    "model.fit(X_train, y_train)"
   ]
  },
  {
   "cell_type": "code",
   "execution_count": 33,
   "metadata": {},
   "outputs": [
    {
     "data": {
      "text/plain": [
       "array([1, 0, 0, 0, 0], dtype=int64)"
      ]
     },
     "execution_count": 33,
     "metadata": {},
     "output_type": "execute_result"
    }
   ],
   "source": [
    "y_predict = model.predict(X_test)\n",
    "y_predict[:5]"
   ]
  },
  {
   "cell_type": "code",
   "execution_count": 34,
   "metadata": {},
   "outputs": [
    {
     "data": {
      "text/plain": [
       "21"
      ]
     },
     "execution_count": 34,
     "metadata": {},
     "output_type": "execute_result"
    }
   ],
   "source": [
    "# 다르게 예측한 데이터들을 카운트하여 갯수를 세줌\n",
    "(y_predict != y_test).sum()\n"
   ]
  },
  {
   "cell_type": "code",
   "execution_count": 35,
   "metadata": {},
   "outputs": [
    {
     "data": {
      "text/plain": [
       "0.8636363636363636"
      ]
     },
     "execution_count": 35,
     "metadata": {},
     "output_type": "execute_result"
    }
   ],
   "source": [
    "from sklearn.metrics import accuracy_score\n",
    "\n",
    "accuracy_score(y_test, y_predict)"
   ]
  },
  {
   "cell_type": "code",
   "execution_count": 36,
   "metadata": {},
   "outputs": [
    {
     "data": {
      "text/plain": [
       "GradientBoostingClassifier(random_state=42)"
      ]
     },
     "execution_count": 36,
     "metadata": {},
     "output_type": "execute_result"
    }
   ],
   "source": [
    "# 랜덤포레스트\n",
    "from sklearn.ensemble import GradientBoostingClassifier\n",
    "\n",
    "model = GradientBoostingClassifier(random_state=42)\n",
    "model"
   ]
  },
  {
   "cell_type": "code",
   "execution_count": 37,
   "metadata": {},
   "outputs": [
    {
     "data": {
      "text/plain": [
       "GradientBoostingClassifier(random_state=42)"
      ]
     },
     "execution_count": 37,
     "metadata": {},
     "output_type": "execute_result"
    }
   ],
   "source": [
    "model.fit(X_train, y_train)"
   ]
  },
  {
   "cell_type": "code",
   "execution_count": 38,
   "metadata": {},
   "outputs": [
    {
     "data": {
      "text/plain": [
       "array([0, 0, 0, 0, 0], dtype=int64)"
      ]
     },
     "execution_count": 38,
     "metadata": {},
     "output_type": "execute_result"
    }
   ],
   "source": [
    "y_predict = model.predict(X_test)\n",
    "y_predict[:5]"
   ]
  },
  {
   "cell_type": "code",
   "execution_count": 39,
   "metadata": {},
   "outputs": [
    {
     "data": {
      "text/plain": [
       "17"
      ]
     },
     "execution_count": 39,
     "metadata": {},
     "output_type": "execute_result"
    }
   ],
   "source": [
    "# DecisionTree에서 21개였는데 17개로 줄음\n",
    "(y_predict != y_test).sum()"
   ]
  },
  {
   "cell_type": "code",
   "execution_count": 40,
   "metadata": {},
   "outputs": [
    {
     "data": {
      "text/plain": [
       "0.8896103896103896"
      ]
     },
     "execution_count": 40,
     "metadata": {},
     "output_type": "execute_result"
    }
   ],
   "source": [
    "# 점수 상승\n",
    "from sklearn.metrics import accuracy_score\n",
    "\n",
    "accuracy_score(y_test, y_predict)"
   ]
  },
  {
   "cell_type": "code",
   "execution_count": 41,
   "metadata": {},
   "outputs": [
    {
     "data": {
      "text/plain": [
       "array([0.1286992 , 0.00616818, 0.01537256, 0.20329252, 0.02818364,\n",
       "       0.02233634, 0.07542635, 0.00158216, 0.00611567, 0.00228346,\n",
       "       0.51053992, 0.        ])"
      ]
     },
     "execution_count": 41,
     "metadata": {},
     "output_type": "execute_result"
    }
   ],
   "source": [
    "model.feature_importances_"
   ]
  },
  {
   "cell_type": "code",
   "execution_count": 42,
   "metadata": {},
   "outputs": [
    {
     "data": {
      "text/plain": [
       "<AxesSubplot:>"
      ]
     },
     "execution_count": 42,
     "metadata": {},
     "output_type": "execute_result"
    },
    {
     "data": {
      "image/png": "[encoded data removed]",
      "text/plain": [
       "<Figure size 432x288 with 1 Axes>"
      ]
     },
     "metadata": {
      "needs_background": "light"
     },
     "output_type": "display_data"
    }
   ],
   "source": [
    "feature_names = X_train.columns.tolist()\n",
    " \n",
    "sns.barplot(x=model.feature_importances_, y=feature_names)"
   ]
  },
  {
   "cell_type": "code",
   "execution_count": 43,
   "metadata": {},
   "outputs": [
    {
     "data": {
      "text/plain": [
       "GradientBoostingClassifier(random_state=42)"
      ]
     },
     "execution_count": 43,
     "metadata": {},
     "output_type": "execute_result"
    }
   ],
   "source": [
    "from sklearn.ensemble import GradientBoostingClassifier\n",
    "\n",
    "model = GradientBoostingClassifier(random_state=42)\n",
    "model"
   ]
  },
  {
   "cell_type": "code",
   "execution_count": 44,
   "metadata": {},
   "outputs": [
    {
     "data": {
      "text/plain": [
       "GradientBoostingClassifier(random_state=42)"
      ]
     },
     "execution_count": 44,
     "metadata": {},
     "output_type": "execute_result"
    }
   ],
   "source": [
    "model.fit(X_train, y_train)"
   ]
  },
  {
   "cell_type": "code",
   "execution_count": 45,
   "metadata": {},
   "outputs": [
    {
     "data": {
      "text/plain": [
       "array([0.1286992 , 0.00616818, 0.01537256, 0.20329252, 0.02818364,\n",
       "       0.02233634, 0.07542635, 0.00158216, 0.00611567, 0.00228346,\n",
       "       0.51053992, 0.        ])"
      ]
     },
     "execution_count": 45,
     "metadata": {},
     "output_type": "execute_result"
    }
   ],
   "source": [
    "model.feature_importances_"
   ]
  },
  {
   "cell_type": "code",
   "execution_count": 46,
   "metadata": {},
   "outputs": [
    {
     "data": {
      "text/plain": [
       "<AxesSubplot:>"
      ]
     },
     "execution_count": 46,
     "metadata": {},
     "output_type": "execute_result"
    },
    {
     "data": {
      "image/png": "[encoded data removed]",
      "text/plain": [
       "<Figure size 432x288 with 1 Axes>"
      ]
     },
     "metadata": {
      "needs_background": "light"
     },
     "output_type": "display_data"
    }
   ],
   "source": [
    "feature_names = X_train.columns.tolist()\n",
    " \n",
    "sns.barplot(x=model.feature_importances_, y=feature_names)"
   ]
  },
  {
   "cell_type": "code",
   "execution_count": 47,
   "metadata": {},
   "outputs": [
    {
     "data": {
      "text/plain": [
       "array([0, 0, 0, 0, 0], dtype=int64)"
      ]
     },
     "execution_count": 47,
     "metadata": {},
     "output_type": "execute_result"
    }
   ],
   "source": [
    "y_predict = model.predict(X_test)\n",
    "y_predict[:5]\n"
   ]
  },
  {
   "cell_type": "code",
   "execution_count": 48,
   "metadata": {},
   "outputs": [
    {
     "data": {
      "text/plain": [
       "17"
      ]
     },
     "execution_count": 48,
     "metadata": {},
     "output_type": "execute_result"
    }
   ],
   "source": [
    "(y_predict != y_test).sum()"
   ]
  },
  {
   "cell_type": "code",
   "execution_count": 49,
   "metadata": {},
   "outputs": [
    {
     "data": {
      "text/plain": [
       "0.8896103896103896"
      ]
     },
     "execution_count": 49,
     "metadata": {},
     "output_type": "execute_result"
    }
   ],
   "source": [
    "from sklearn.metrics import accuracy_score\n",
    "\n",
    "accuracy_score(y_test, y_predict)"
   ]
  },
  {
   "cell_type": "markdown",
   "metadata": {},
   "source": [
    "## 여러 개의 알고리즘을 사용해서 비교하기"
   ]
  },
  {
   "cell_type": "code",
   "execution_count": 50,
   "metadata": {},
   "outputs": [
    {
     "data": {
      "text/plain": [
       "DecisionTreeClassifier(random_state=42)"
      ]
     },
     "execution_count": 50,
     "metadata": {},
     "output_type": "execute_result"
    }
   ],
   "source": [
    "from sklearn.tree import DecisionTreeClassifier\n",
    "\n",
    "estimator = DecisionTreeClassifier(random_state=42)\n",
    "estimator"
   ]
  },
  {
   "cell_type": "code",
   "execution_count": 51,
   "metadata": {},
   "outputs": [
    {
     "name": "stdout",
     "output_type": "stream",
     "text": [
      "Fitting 5 folds for each of 100 candidates, totalling 500 fits\n"
     ]
    },
    {
     "data": {
      "text/plain": [
       "RandomizedSearchCV(cv=5, estimator=DecisionTreeClassifier(random_state=42),\n",
       "                   n_iter=100, n_jobs=-1,\n",
       "                   param_distributions={'max_depth': array([ 5, 15, 12, 14,  7,  7,  4, 13,  9, 12]),\n",
       "                                        'max_features': array([0.91213127, 0.42406796, 0.63593953, 0.99953858, 0.81905099,\n",
       "       0.91839553, 0.87836785, 0.46532788, 0.95401738, 0.62603307])},\n",
       "                   scoring='accuracy', verbose=2)"
      ]
     },
     "execution_count": 51,
     "metadata": {},
     "output_type": "execute_result"
    }
   ],
   "source": [
    "from sklearn.model_selection import RandomizedSearchCV\n",
    "\n",
    "max_depth = np.random.randint(2, 20, 10)\n",
    "max_features = np.random.uniform(0.3, 1.0, 10)\n",
    "\n",
    "param_distributions = {\"max_depth\": max_depth,\n",
    "\"max_features\": max_features}\n",
    " \n",
    "clf = RandomizedSearchCV(estimator,\n",
    "param_distributions,\n",
    "n_iter=100,\n",
    "scoring=\"accuracy\",\n",
    "n_jobs=-1,\n",
    "cv=5,\n",
    "verbose=2\n",
    ")\n",
    "\n",
    "clf.fit(X_train, y_train)"
   ]
  },
  {
   "cell_type": "code",
   "execution_count": 52,
   "metadata": {},
   "outputs": [
    {
     "data": {
      "text/plain": [
       "{'max_features': 0.6359395262321976, 'max_depth': 4}"
      ]
     },
     "execution_count": 52,
     "metadata": {},
     "output_type": "execute_result"
    }
   ],
   "source": [
    "clf.best_params_"
   ]
  },
  {
   "cell_type": "code",
   "execution_count": 53,
   "metadata": {},
   "outputs": [
    {
     "data": {
      "text/plain": [
       "0.8924963347994135"
      ]
     },
     "execution_count": 53,
     "metadata": {},
     "output_type": "execute_result"
    }
   ],
   "source": [
    "clf.best_score_"
   ]
  },
  {
   "cell_type": "code",
   "execution_count": 54,
   "metadata": {},
   "outputs": [
    {
     "data": {
      "text/plain": [
       "[DecisionTreeClassifier(random_state=42),\n",
       " RandomForestClassifier(random_state=42),\n",
       " GradientBoostingClassifier(random_state=42)]"
      ]
     },
     "execution_count": 54,
     "metadata": {},
     "output_type": "execute_result"
    }
   ],
   "source": [
    "from sklearn.tree import DecisionTreeClassifier\n",
    "from sklearn.ensemble import RandomForestClassifier, GradientBoostingClassifier\n",
    "\n",
    "estimators = [DecisionTreeClassifier(random_state=42),\n",
    "RandomForestClassifier(random_state=42),\n",
    "GradientBoostingClassifier(random_state=42)\n",
    "]\n",
    "estimators\n"
   ]
  },
  {
   "cell_type": "code",
   "execution_count": 55,
   "metadata": {},
   "outputs": [
    {
     "data": {
      "text/plain": [
       "[['DecisionTreeClassifier'],\n",
       " ['RandomForestClassifier'],\n",
       " ['GradientBoostingClassifier']]"
      ]
     },
     "execution_count": 55,
     "metadata": {},
     "output_type": "execute_result"
    }
   ],
   "source": [
    "results = []\n",
    "for estimator in estimators:\n",
    "    result = []\n",
    "    result.append(estimator.__class__.__name__)\n",
    "    results.append(result)\n",
    "results"
   ]
  },
  {
   "cell_type": "code",
   "execution_count": 56,
   "metadata": {},
   "outputs": [
    {
     "name": "stdout",
     "output_type": "stream",
     "text": [
      "Fitting 5 folds for each of 100 candidates, totalling 500 fits\n",
      "Fitting 5 folds for each of 100 candidates, totalling 500 fits\n",
      "Fitting 5 folds for each of 100 candidates, totalling 500 fits\n"
     ]
    }
   ],
   "source": [
    "'''\n",
    "clf를 estimator가 있는 for문 안으로 넣어서 3개의 모델을 모두 번갈아 학습시킬 수 있도록 한다.\n",
    "Decision Tree는 n_estimators라는 트리의 개수를 뜻하는 파라미터를 사용할 수 있음\n",
    "n_estimator의 크기가 클수록 모델을 학습하는 데에 시간이 오래 걸림\n",
    "각 모델 중 가장 좋은 스코어를 result에 기록\n",
    "'''\n",
    "from sklearn.model_selection import RandomizedSearchCV\n",
    "\n",
    "max_depth = np.random.randint(2, 20, 10)\n",
    "max_features = np.random.uniform(0.3, 1.0, 10)\n",
    "\n",
    "param_distributions = {\"max_depth\": max_depth, \n",
    "                       \"max_features\": max_features}\n",
    "\n",
    "results = []\n",
    "for estimator in estimators:\n",
    "    result = []\n",
    "    if estimator.__class__.__name__ != 'DecisionTreeClassifier':\n",
    "        param_distributions[\"n_estimators\"] = np.random.randint(100, 200, 10)\n",
    "        \n",
    "    clf = RandomizedSearchCV(estimator, \n",
    "                       param_distributions, \n",
    "                       n_iter=100,\n",
    "                       scoring=\"accuracy\",\n",
    "                       n_jobs=-1,\n",
    "                       cv=5, \n",
    "                       verbose=2\n",
    "                      )\n",
    "\n",
    "    clf.fit(X_train, y_train)\n",
    "    result.append(estimator.__class__.__name__)\n",
    "    result.append(clf.best_params_)\n",
    "    result.append(clf.best_score_)\n",
    "    result.append(clf.score(X_test, y_test))\n",
    "    result.append(clf.cv_results_)\n",
    "    results.append(result)"
   ]
  },
  {
   "cell_type": "code",
   "execution_count": 57,
   "metadata": {},
   "outputs": [
    {
     "data": {
      "text/html": [
       "<div>\n",
       "<style scoped>\n",
       "    .dataframe tbody tr th:only-of-type {\n",
       "        vertical-align: middle;\n",
       "    }\n",
       "\n",
       "    .dataframe tbody tr th {\n",
       "        vertical-align: top;\n",
       "    }\n",
       "\n",
       "    .dataframe thead th {\n",
       "        text-align: right;\n",
       "    }\n",
       "</style>\n",
       "<table border=\"1\" class=\"dataframe\">\n",
       "  <thead>\n",
       "    <tr style=\"text-align: right;\">\n",
       "      <th></th>\n",
       "      <th>estimator</th>\n",
       "      <th>best_params</th>\n",
       "      <th>train_score</th>\n",
       "      <th>test_score</th>\n",
       "      <th>cv_result</th>\n",
       "    </tr>\n",
       "  </thead>\n",
       "  <tbody>\n",
       "    <tr>\n",
       "      <th>0</th>\n",
       "      <td>DecisionTreeClassifier</td>\n",
       "      <td>{'max_features': 0.46566474117970835, 'max_dep...</td>\n",
       "      <td>0.890897</td>\n",
       "      <td>0.902597</td>\n",
       "      <td>{'mean_fit_time': [0.008005380630493164, 0.006...</td>\n",
       "    </tr>\n",
       "    <tr>\n",
       "      <th>1</th>\n",
       "      <td>RandomForestClassifier</td>\n",
       "      <td>{'n_estimators': 143, 'max_features': 0.629941...</td>\n",
       "      <td>0.905544</td>\n",
       "      <td>0.876623</td>\n",
       "      <td>{'mean_fit_time': [0.3587786674499512, 0.44591...</td>\n",
       "    </tr>\n",
       "    <tr>\n",
       "      <th>2</th>\n",
       "      <td>GradientBoostingClassifier</td>\n",
       "      <td>{'n_estimators': 198, 'max_features': 0.381748...</td>\n",
       "      <td>0.900666</td>\n",
       "      <td>0.883117</td>\n",
       "      <td>{'mean_fit_time': [0.9500644207000732, 1.30691...</td>\n",
       "    </tr>\n",
       "  </tbody>\n",
       "</table>\n",
       "</div>"
      ],
      "text/plain": [
       "                    estimator  \\\n",
       "0      DecisionTreeClassifier   \n",
       "1      RandomForestClassifier   \n",
       "2  GradientBoostingClassifier   \n",
       "\n",
       "                                         best_params  train_score  test_score  \\\n",
       "0  {'max_features': 0.46566474117970835, 'max_dep...     0.890897    0.902597   \n",
       "1  {'n_estimators': 143, 'max_features': 0.629941...     0.905544    0.876623   \n",
       "2  {'n_estimators': 198, 'max_features': 0.381748...     0.900666    0.883117   \n",
       "\n",
       "                                           cv_result  \n",
       "0  {'mean_fit_time': [0.008005380630493164, 0.006...  \n",
       "1  {'mean_fit_time': [0.3587786674499512, 0.44591...  \n",
       "2  {'mean_fit_time': [0.9500644207000732, 1.30691...  "
      ]
     },
     "execution_count": 57,
     "metadata": {},
     "output_type": "execute_result"
    }
   ],
   "source": [
    "df = pd.DataFrame(results, \n",
    "             columns=[\"estimator\", \"best_params\", \"train_score\", \"test_score\", \"cv_result\"])\n",
    "df"
   ]
  },
  {
   "cell_type": "code",
   "execution_count": 58,
   "metadata": {},
   "outputs": [
    {
     "data": {
      "text/html": [
       "<div>\n",
       "<style scoped>\n",
       "    .dataframe tbody tr th:only-of-type {\n",
       "        vertical-align: middle;\n",
       "    }\n",
       "\n",
       "    .dataframe tbody tr th {\n",
       "        vertical-align: top;\n",
       "    }\n",
       "\n",
       "    .dataframe thead th {\n",
       "        text-align: right;\n",
       "    }\n",
       "</style>\n",
       "<table border=\"1\" class=\"dataframe\">\n",
       "  <thead>\n",
       "    <tr style=\"text-align: right;\">\n",
       "      <th></th>\n",
       "      <th>mean_fit_time</th>\n",
       "      <th>std_fit_time</th>\n",
       "      <th>mean_score_time</th>\n",
       "      <th>std_score_time</th>\n",
       "      <th>param_n_estimators</th>\n",
       "      <th>param_max_features</th>\n",
       "      <th>param_max_depth</th>\n",
       "      <th>params</th>\n",
       "      <th>split0_test_score</th>\n",
       "      <th>split1_test_score</th>\n",
       "      <th>split2_test_score</th>\n",
       "      <th>split3_test_score</th>\n",
       "      <th>split4_test_score</th>\n",
       "      <th>mean_test_score</th>\n",
       "      <th>std_test_score</th>\n",
       "      <th>rank_test_score</th>\n",
       "    </tr>\n",
       "  </thead>\n",
       "  <tbody>\n",
       "    <tr>\n",
       "      <th>61</th>\n",
       "      <td>0.461010</td>\n",
       "      <td>0.046465</td>\n",
       "      <td>0.024241</td>\n",
       "      <td>0.000481</td>\n",
       "      <td>143</td>\n",
       "      <td>0.629942</td>\n",
       "      <td>18</td>\n",
       "      <td>{'n_estimators': 143, 'max_features': 0.629941...</td>\n",
       "      <td>0.869919</td>\n",
       "      <td>0.951220</td>\n",
       "      <td>0.894309</td>\n",
       "      <td>0.902439</td>\n",
       "      <td>0.909836</td>\n",
       "      <td>0.905544</td>\n",
       "      <td>0.026494</td>\n",
       "      <td>1</td>\n",
       "    </tr>\n",
       "    <tr>\n",
       "      <th>93</th>\n",
       "      <td>0.490385</td>\n",
       "      <td>0.052001</td>\n",
       "      <td>0.031482</td>\n",
       "      <td>0.009000</td>\n",
       "      <td>155</td>\n",
       "      <td>0.629942</td>\n",
       "      <td>15</td>\n",
       "      <td>{'n_estimators': 155, 'max_features': 0.629941...</td>\n",
       "      <td>0.869919</td>\n",
       "      <td>0.951220</td>\n",
       "      <td>0.878049</td>\n",
       "      <td>0.902439</td>\n",
       "      <td>0.918033</td>\n",
       "      <td>0.903932</td>\n",
       "      <td>0.029203</td>\n",
       "      <td>2</td>\n",
       "    </tr>\n",
       "    <tr>\n",
       "      <th>72</th>\n",
       "      <td>0.461084</td>\n",
       "      <td>0.042364</td>\n",
       "      <td>0.027484</td>\n",
       "      <td>0.003724</td>\n",
       "      <td>143</td>\n",
       "      <td>0.629942</td>\n",
       "      <td>8</td>\n",
       "      <td>{'n_estimators': 143, 'max_features': 0.629941...</td>\n",
       "      <td>0.878049</td>\n",
       "      <td>0.951220</td>\n",
       "      <td>0.878049</td>\n",
       "      <td>0.902439</td>\n",
       "      <td>0.909836</td>\n",
       "      <td>0.903918</td>\n",
       "      <td>0.026882</td>\n",
       "      <td>3</td>\n",
       "    </tr>\n",
       "    <tr>\n",
       "      <th>67</th>\n",
       "      <td>0.379199</td>\n",
       "      <td>0.037728</td>\n",
       "      <td>0.019200</td>\n",
       "      <td>0.003919</td>\n",
       "      <td>107</td>\n",
       "      <td>0.902106</td>\n",
       "      <td>8</td>\n",
       "      <td>{'n_estimators': 107, 'max_features': 0.902105...</td>\n",
       "      <td>0.869919</td>\n",
       "      <td>0.959350</td>\n",
       "      <td>0.869919</td>\n",
       "      <td>0.894309</td>\n",
       "      <td>0.909836</td>\n",
       "      <td>0.900666</td>\n",
       "      <td>0.033043</td>\n",
       "      <td>4</td>\n",
       "    </tr>\n",
       "    <tr>\n",
       "      <th>92</th>\n",
       "      <td>0.345029</td>\n",
       "      <td>0.018090</td>\n",
       "      <td>0.021429</td>\n",
       "      <td>0.004573</td>\n",
       "      <td>110</td>\n",
       "      <td>0.629942</td>\n",
       "      <td>18</td>\n",
       "      <td>{'n_estimators': 110, 'max_features': 0.629941...</td>\n",
       "      <td>0.861789</td>\n",
       "      <td>0.934959</td>\n",
       "      <td>0.894309</td>\n",
       "      <td>0.902439</td>\n",
       "      <td>0.909836</td>\n",
       "      <td>0.900666</td>\n",
       "      <td>0.023728</td>\n",
       "      <td>4</td>\n",
       "    </tr>\n",
       "    <tr>\n",
       "      <th>...</th>\n",
       "      <td>...</td>\n",
       "      <td>...</td>\n",
       "      <td>...</td>\n",
       "      <td>...</td>\n",
       "      <td>...</td>\n",
       "      <td>...</td>\n",
       "      <td>...</td>\n",
       "      <td>...</td>\n",
       "      <td>...</td>\n",
       "      <td>...</td>\n",
       "      <td>...</td>\n",
       "      <td>...</td>\n",
       "      <td>...</td>\n",
       "      <td>...</td>\n",
       "      <td>...</td>\n",
       "      <td>...</td>\n",
       "    </tr>\n",
       "    <tr>\n",
       "      <th>18</th>\n",
       "      <td>0.486400</td>\n",
       "      <td>0.049934</td>\n",
       "      <td>0.027200</td>\n",
       "      <td>0.003919</td>\n",
       "      <td>155</td>\n",
       "      <td>0.889162</td>\n",
       "      <td>2</td>\n",
       "      <td>{'n_estimators': 155, 'max_features': 0.889162...</td>\n",
       "      <td>0.837398</td>\n",
       "      <td>0.853659</td>\n",
       "      <td>0.845528</td>\n",
       "      <td>0.886179</td>\n",
       "      <td>0.819672</td>\n",
       "      <td>0.848487</td>\n",
       "      <td>0.021952</td>\n",
       "      <td>96</td>\n",
       "    </tr>\n",
       "    <tr>\n",
       "      <th>63</th>\n",
       "      <td>0.350400</td>\n",
       "      <td>0.030942</td>\n",
       "      <td>0.025599</td>\n",
       "      <td>0.003199</td>\n",
       "      <td>125</td>\n",
       "      <td>0.889162</td>\n",
       "      <td>2</td>\n",
       "      <td>{'n_estimators': 125, 'max_features': 0.889162...</td>\n",
       "      <td>0.837398</td>\n",
       "      <td>0.853659</td>\n",
       "      <td>0.813008</td>\n",
       "      <td>0.878049</td>\n",
       "      <td>0.836066</td>\n",
       "      <td>0.843636</td>\n",
       "      <td>0.021536</td>\n",
       "      <td>97</td>\n",
       "    </tr>\n",
       "    <tr>\n",
       "      <th>89</th>\n",
       "      <td>0.359999</td>\n",
       "      <td>0.024787</td>\n",
       "      <td>0.019200</td>\n",
       "      <td>0.003920</td>\n",
       "      <td>127</td>\n",
       "      <td>0.891676</td>\n",
       "      <td>2</td>\n",
       "      <td>{'n_estimators': 127, 'max_features': 0.891675...</td>\n",
       "      <td>0.837398</td>\n",
       "      <td>0.853659</td>\n",
       "      <td>0.813008</td>\n",
       "      <td>0.829268</td>\n",
       "      <td>0.819672</td>\n",
       "      <td>0.830601</td>\n",
       "      <td>0.014203</td>\n",
       "      <td>98</td>\n",
       "    </tr>\n",
       "    <tr>\n",
       "      <th>53</th>\n",
       "      <td>0.348662</td>\n",
       "      <td>0.012966</td>\n",
       "      <td>0.020872</td>\n",
       "      <td>0.006437</td>\n",
       "      <td>127</td>\n",
       "      <td>0.91486</td>\n",
       "      <td>2</td>\n",
       "      <td>{'n_estimators': 127, 'max_features': 0.914860...</td>\n",
       "      <td>0.837398</td>\n",
       "      <td>0.853659</td>\n",
       "      <td>0.813008</td>\n",
       "      <td>0.829268</td>\n",
       "      <td>0.819672</td>\n",
       "      <td>0.830601</td>\n",
       "      <td>0.014203</td>\n",
       "      <td>98</td>\n",
       "    </tr>\n",
       "    <tr>\n",
       "      <th>2</th>\n",
       "      <td>0.374400</td>\n",
       "      <td>0.030943</td>\n",
       "      <td>0.038400</td>\n",
       "      <td>0.005987</td>\n",
       "      <td>127</td>\n",
       "      <td>0.902198</td>\n",
       "      <td>2</td>\n",
       "      <td>{'n_estimators': 127, 'max_features': 0.902197...</td>\n",
       "      <td>0.837398</td>\n",
       "      <td>0.853659</td>\n",
       "      <td>0.813008</td>\n",
       "      <td>0.829268</td>\n",
       "      <td>0.819672</td>\n",
       "      <td>0.830601</td>\n",
       "      <td>0.014203</td>\n",
       "      <td>98</td>\n",
       "    </tr>\n",
       "  </tbody>\n",
       "</table>\n",
       "<p>100 rows × 16 columns</p>\n",
       "</div>"
      ],
      "text/plain": [
       "    mean_fit_time  std_fit_time  mean_score_time  std_score_time  \\\n",
       "61       0.461010      0.046465         0.024241        0.000481   \n",
       "93       0.490385      0.052001         0.031482        0.009000   \n",
       "72       0.461084      0.042364         0.027484        0.003724   \n",
       "67       0.379199      0.037728         0.019200        0.003919   \n",
       "92       0.345029      0.018090         0.021429        0.004573   \n",
       "..            ...           ...              ...             ...   \n",
       "18       0.486400      0.049934         0.027200        0.003919   \n",
       "63       0.350400      0.030942         0.025599        0.003199   \n",
       "89       0.359999      0.024787         0.019200        0.003920   \n",
       "53       0.348662      0.012966         0.020872        0.006437   \n",
       "2        0.374400      0.030943         0.038400        0.005987   \n",
       "\n",
       "   param_n_estimators param_max_features param_max_depth  \\\n",
       "61                143           0.629942              18   \n",
       "93                155           0.629942              15   \n",
       "72                143           0.629942               8   \n",
       "67                107           0.902106               8   \n",
       "92                110           0.629942              18   \n",
       "..                ...                ...             ...   \n",
       "18                155           0.889162               2   \n",
       "63                125           0.889162               2   \n",
       "89                127           0.891676               2   \n",
       "53                127            0.91486               2   \n",
       "2                 127           0.902198               2   \n",
       "\n",
       "                                               params  split0_test_score  \\\n",
       "61  {'n_estimators': 143, 'max_features': 0.629941...           0.869919   \n",
       "93  {'n_estimators': 155, 'max_features': 0.629941...           0.869919   \n",
       "72  {'n_estimators': 143, 'max_features': 0.629941...           0.878049   \n",
       "67  {'n_estimators': 107, 'max_features': 0.902105...           0.869919   \n",
       "92  {'n_estimators': 110, 'max_features': 0.629941...           0.861789   \n",
       "..                                                ...                ...   \n",
       "18  {'n_estimators': 155, 'max_features': 0.889162...           0.837398   \n",
       "63  {'n_estimators': 125, 'max_features': 0.889162...           0.837398   \n",
       "89  {'n_estimators': 127, 'max_features': 0.891675...           0.837398   \n",
       "53  {'n_estimators': 127, 'max_features': 0.914860...           0.837398   \n",
       "2   {'n_estimators': 127, 'max_features': 0.902197...           0.837398   \n",
       "\n",
       "    split1_test_score  split2_test_score  split3_test_score  \\\n",
       "61           0.951220           0.894309           0.902439   \n",
       "93           0.951220           0.878049           0.902439   \n",
       "72           0.951220           0.878049           0.902439   \n",
       "67           0.959350           0.869919           0.894309   \n",
       "92           0.934959           0.894309           0.902439   \n",
       "..                ...                ...                ...   \n",
       "18           0.853659           0.845528           0.886179   \n",
       "63           0.853659           0.813008           0.878049   \n",
       "89           0.853659           0.813008           0.829268   \n",
       "53           0.853659           0.813008           0.829268   \n",
       "2            0.853659           0.813008           0.829268   \n",
       "\n",
       "    split4_test_score  mean_test_score  std_test_score  rank_test_score  \n",
       "61           0.909836         0.905544        0.026494                1  \n",
       "93           0.918033         0.903932        0.029203                2  \n",
       "72           0.909836         0.903918        0.026882                3  \n",
       "67           0.909836         0.900666        0.033043                4  \n",
       "92           0.909836         0.900666        0.023728                4  \n",
       "..                ...              ...             ...              ...  \n",
       "18           0.819672         0.848487        0.021952               96  \n",
       "63           0.836066         0.843636        0.021536               97  \n",
       "89           0.819672         0.830601        0.014203               98  \n",
       "53           0.819672         0.830601        0.014203               98  \n",
       "2            0.819672         0.830601        0.014203               98  \n",
       "\n",
       "[100 rows x 16 columns]"
      ]
     },
     "execution_count": 58,
     "metadata": {},
     "output_type": "execute_result"
    }
   ],
   "source": [
    "# 모델에 각각 접근하여 상위에 있는 모델 순서대로 보거나 정확한 parameter 설정 수치를 볼 수 있음\n",
    "# 좋은 성능이 나오는 구간으로 계속 iteration을 돌릴 필요가 있음\n",
    "# 하이퍼 파라미터 튜닝을 여러 번 할수록 좋은 성능을 얻을 수 있음\n",
    "pd.DataFrame(df.loc[1, \"cv_result\"]).sort_values(by=\"rank_test_score\")\n"
   ]
  }
 ],
 "metadata": {
  "interpreter": {
   "hash": "3e844b5651db8b7a30ae1dbaa031cf9917e618af5177108978cde77e957e5f35"
  },
  "kernelspec": {
   "display_name": "Python 3.8.11 64-bit ('base': conda)",
   "name": "python3"
  },
  "language_info": {
   "codemirror_mode": {
    "name": "ipython",
    "version": 3
   },
   "file_extension": ".py",
   "mimetype": "text/x-python",
   "name": "python",
   "nbconvert_exporter": "python",
   "pygments_lexer": "ipython3",
   "version": "3.8.11"
  },
  "orig_nbformat": 4
 },
 "nbformat": 4,
 "nbformat_minor": 2
}
