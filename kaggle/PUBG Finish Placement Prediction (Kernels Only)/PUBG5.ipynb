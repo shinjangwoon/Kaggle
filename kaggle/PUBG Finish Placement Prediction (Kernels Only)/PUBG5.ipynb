{
 "cells": [
  {
   "cell_type": "code",
   "execution_count": 1,
   "metadata": {},
   "outputs": [],
   "source": [
    "import pandas as pd\n",
    "import numpy as np\n",
    "import matplotlib.pyplot as plt\n",
    "import seaborn as sns\n",
    "%matplotlib inline\n"
   ]
  },
  {
   "cell_type": "code",
   "execution_count": 2,
   "metadata": {},
   "outputs": [],
   "source": [
    "train = pd.read_pickle('train_feature.pkl')"
   ]
  },
  {
   "cell_type": "code",
   "execution_count": 3,
   "metadata": {},
   "outputs": [],
   "source": [
    "from regression_class_add_LGBM_3 import RegressionModels "
   ]
  },
  {
   "cell_type": "code",
   "execution_count": 4,
   "metadata": {},
   "outputs": [],
   "source": [
    "feature, target = train.iloc[:, :-1], train.iloc[:, -1]"
   ]
  },
  {
   "cell_type": "code",
   "execution_count": 5,
   "metadata": {},
   "outputs": [],
   "source": [
    "rm = RegressionModels(feature, target, list(feature.columns))"
   ]
  },
  {
   "cell_type": "code",
   "execution_count": 6,
   "metadata": {},
   "outputs": [],
   "source": [
    "scaled_feature_df = rm.standard_scaler(feature)"
   ]
  },
  {
   "cell_type": "code",
   "execution_count": null,
   "metadata": {},
   "outputs": [],
   "source": [
    "X_train, X_test, y_train, y_test = rm.spliting(scaled_feature_df, target)\n",
    "pred_lgbm, error_lgbm = rm.lightGBM_regressor(X_train, X_test, y_train, y_test,                                                  # train과 test data는 기본적으로 들어가는 요소\n",
    "                                              task = 'train', objective = 'regression', boosting = 'gbdt', learning_rate = 0.01,  # 여기서부터 **kwargs에 들어가는 options\n",
    "                                              num_leaves = 10, num_threads = 4, metric = ['mse', 'mae'], seed = 42,              # metric이 list로 여러개 들어가면 각 지표를 출력해줌\n",
    "                                              max_depth = 16, is_training_metric = True, feature_fraction = 0.9,\n",
    "                                              bagging_fraction = 0.7)\n"
   ]
  }
 ],
 "metadata": {
  "kernelspec": {
   "display_name": "Python 3.8.8 ('base')",
   "language": "python",
   "name": "python3"
  },
  "language_info": {
   "codemirror_mode": {
    "name": "ipython",
    "version": 3
   },
   "file_extension": ".py",
   "mimetype": "text/x-python",
   "name": "python",
   "nbconvert_exporter": "python",
   "pygments_lexer": "ipython3",
   "version": "3.8.13"
  },
  "orig_nbformat": 4,
  "vscode": {
   "interpreter": {
    "hash": "ad2bdc8ecc057115af97d19610ffacc2b4e99fae6737bb82f5d7fb13d2f2c186"
   }
  }
 },
 "nbformat": 4,
 "nbformat_minor": 2
}
