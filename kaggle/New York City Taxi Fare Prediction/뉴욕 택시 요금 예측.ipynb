{
 "cells": [
  {
   "cell_type": "markdown",
   "metadata": {},
   "source": [
    "## 데이터 크기 확인"
   ]
  },
  {
   "cell_type": "code",
   "execution_count": 1,
   "metadata": {},
   "outputs": [
    {
     "name": "stdout",
     "output_type": "stream",
     "text": [
      "The new-york-city-taxi-fare-prediction/train.csv size: \n",
      "File size: 5697178298 bytes\n",
      "File size: 5563650.682 Kilobytes\n",
      "File size: 5433.253 Megabytes\n",
      "File size: 5.306 Gigabytes\n",
      "----------\n",
      "The new-york-city-taxi-fare-prediction/test.csv size: \n",
      "File size: 983020 bytes\n",
      "File size: 959.98 Kilobytes\n",
      "File size: 0.937 Megabytes\n",
      "File size: 0.001 Gigabytes\n",
      "----------\n",
      "The new-york-city-taxi-fare-prediction/sample_submission.csv size: \n",
      "File size: 343271 bytes\n",
      "File size: 335.226 Kilobytes\n",
      "File size: 0.327 Megabytes\n",
      "File size: 0.0 Gigabytes\n",
      "----------\n"
     ]
    }
   ],
   "source": [
    "import os\n",
    "\n",
    "\n",
    "def convert_bytes(file_path, unit=None):\n",
    "  size = os.path.getsize(file_path)\n",
    "  if unit == \"KB\":\n",
    "    return print('File size: ' + str(round(size / 1024, 3)) + ' Kilobytes')\n",
    "  elif unit == \"MB\":\n",
    "    return print('File size: ' + str(round(size / (1024 * 1024), 3)) + ' Megabytes')\n",
    "  elif unit == \"GB\":\n",
    "    return print('File size: ' + str(round(size / (1024 * 1024 * 1024), 3)) + ' Gigabytes')\n",
    "  else:\n",
    "    return print('File size: ' + str(size) + ' bytes')\n",
    "\n",
    "\n",
    "file_list = ['new-york-city-taxi-fare-prediction/train.csv',\n",
    "             'new-york-city-taxi-fare-prediction/test.csv',\n",
    "             'new-york-city-taxi-fare-prediction/sample_submission.csv']\n",
    "for file in file_list:\n",
    "  print(\"The {file} size: \".format(file=file))\n",
    "  convert_bytes(file)\n",
    "  convert_bytes(file, 'KB')\n",
    "  convert_bytes(file, 'MB')\n",
    "  convert_bytes(file, 'GB')\n",
    "  print(\"--\" * 5)\n"
   ]
  },
  {
   "cell_type": "markdown",
   "metadata": {},
   "source": [
    "## 라이브러리 및 데이터 로드"
   ]
  },
  {
   "cell_type": "code",
   "execution_count": null,
   "metadata": {},
   "outputs": [],
   "source": [
    "train.info()"
   ]
  },
  {
   "cell_type": "code",
   "execution_count": null,
   "metadata": {},
   "outputs": [],
   "source": [
    "import numpy as np\n",
    "import pandas as pd\n",
    "import seaborn as sns\n",
    "import matplotlib.pyplot as plt\n",
    "\n",
    "\n",
    "def skip_logic(index, skip_num):\n",
    "    if index % skip_num == 0:\n",
    "        return False\n",
    "    return True\n",
    "\n",
    "\n",
    "train = pd.read_csv('new-york-city-taxi-fare-prediction/train.csv', skiprows=lambda x: skip_logic(x,\n",
    "                    4), parse_dates=[\"pickup_datetime\"])\n",
    "print(train.shape)\n",
    "test = pd.read_csv('new-york-city-taxi-fare-prediction/test.csv')\n",
    "submission = pd.read_csv('new-york-city-taxi-fare-prediction/sample_submission.csv')\n"
   ]
  },
  {
   "cell_type": "code",
   "execution_count": null,
   "metadata": {},
   "outputs": [
    {
     "name": "stdout",
     "output_type": "stream",
     "text": [
      "<class 'pandas.core.frame.DataFrame'>\n",
      "RangeIndex: 13855964 entries, 0 to 13855963\n",
      "Data columns (total 8 columns):\n",
      " #   Column             Dtype              \n",
      "---  ------             -----              \n",
      " 0   key                object             \n",
      " 1   fare_amount        float64            \n",
      " 2   pickup_datetime    datetime64[ns, UTC]\n",
      " 3   pickup_longitude   float64            \n",
      " 4   pickup_latitude    float64            \n",
      " 5   dropoff_longitude  float64            \n",
      " 6   dropoff_latitude   float64            \n",
      " 7   passenger_count    int64              \n",
      "dtypes: datetime64[ns, UTC](1), float64(5), int64(1), object(1)\n",
      "memory usage: 845.7+ MB\n"
     ]
    }
   ],
   "source": [
    "train.info()"
   ]
  },
  {
   "cell_type": "code",
   "execution_count": null,
   "metadata": {},
   "outputs": [
    {
     "name": "stdout",
     "output_type": "stream",
     "text": [
      "<class 'pandas.core.frame.DataFrame'>\n",
      "RangeIndex: 9914 entries, 0 to 9913\n",
      "Data columns (total 7 columns):\n",
      " #   Column             Non-Null Count  Dtype  \n",
      "---  ------             --------------  -----  \n",
      " 0   key                9914 non-null   object \n",
      " 1   pickup_datetime    9914 non-null   object \n",
      " 2   pickup_longitude   9914 non-null   float64\n",
      " 3   pickup_latitude    9914 non-null   float64\n",
      " 4   dropoff_longitude  9914 non-null   float64\n",
      " 5   dropoff_latitude   9914 non-null   float64\n",
      " 6   passenger_count    9914 non-null   int64  \n",
      "dtypes: float64(4), int64(1), object(2)\n",
      "memory usage: 542.3+ KB\n"
     ]
    }
   ],
   "source": [
    "test.info()"
   ]
  },
  {
   "cell_type": "markdown",
   "metadata": {},
   "source": [
    "- 두 데이터를 비교해보면 Fare_Amount가 테스트 데이터에 없는 것을 확인할 수 있음\n",
    "- 종속 변수로 추정"
   ]
  },
  {
   "cell_type": "code",
   "execution_count": null,
   "metadata": {},
   "outputs": [
    {
     "data": {
      "text/html": [
       "<div>\n",
       "<style scoped>\n",
       "    .dataframe tbody tr th:only-of-type {\n",
       "        vertical-align: middle;\n",
       "    }\n",
       "\n",
       "    .dataframe tbody tr th {\n",
       "        vertical-align: top;\n",
       "    }\n",
       "\n",
       "    .dataframe thead th {\n",
       "        text-align: right;\n",
       "    }\n",
       "</style>\n",
       "<table border=\"1\" class=\"dataframe\">\n",
       "  <thead>\n",
       "    <tr style=\"text-align: right;\">\n",
       "      <th></th>\n",
       "      <th>key</th>\n",
       "      <th>fare_amount</th>\n",
       "      <th>pickup_datetime</th>\n",
       "      <th>pickup_longitude</th>\n",
       "      <th>pickup_latitude</th>\n",
       "      <th>dropoff_longitude</th>\n",
       "      <th>dropoff_latitude</th>\n",
       "      <th>passenger_count</th>\n",
       "    </tr>\n",
       "  </thead>\n",
       "  <tbody>\n",
       "    <tr>\n",
       "      <th>0</th>\n",
       "      <td>2012-04-21 04:30:42.0000001</td>\n",
       "      <td>7.7</td>\n",
       "      <td>2012-04-21 04:30:42+00:00</td>\n",
       "      <td>-73.987130</td>\n",
       "      <td>40.733143</td>\n",
       "      <td>-73.991567</td>\n",
       "      <td>40.758092</td>\n",
       "      <td>1</td>\n",
       "    </tr>\n",
       "    <tr>\n",
       "      <th>1</th>\n",
       "      <td>2012-01-04 17:22:00.00000081</td>\n",
       "      <td>16.5</td>\n",
       "      <td>2012-01-04 17:22:00+00:00</td>\n",
       "      <td>-73.951300</td>\n",
       "      <td>40.774138</td>\n",
       "      <td>-73.990095</td>\n",
       "      <td>40.751048</td>\n",
       "      <td>1</td>\n",
       "    </tr>\n",
       "    <tr>\n",
       "      <th>2</th>\n",
       "      <td>2012-12-24 11:24:00.00000098</td>\n",
       "      <td>5.5</td>\n",
       "      <td>2012-12-24 11:24:00+00:00</td>\n",
       "      <td>0.000000</td>\n",
       "      <td>0.000000</td>\n",
       "      <td>0.000000</td>\n",
       "      <td>0.000000</td>\n",
       "      <td>3</td>\n",
       "    </tr>\n",
       "    <tr>\n",
       "      <th>3</th>\n",
       "      <td>2013-11-23 12:57:00.000000190</td>\n",
       "      <td>5.0</td>\n",
       "      <td>2013-11-23 12:57:00+00:00</td>\n",
       "      <td>0.000000</td>\n",
       "      <td>0.000000</td>\n",
       "      <td>0.000000</td>\n",
       "      <td>0.000000</td>\n",
       "      <td>1</td>\n",
       "    </tr>\n",
       "    <tr>\n",
       "      <th>4</th>\n",
       "      <td>2014-12-06 20:36:22.0000008</td>\n",
       "      <td>4.0</td>\n",
       "      <td>2014-12-06 20:36:22+00:00</td>\n",
       "      <td>-73.979815</td>\n",
       "      <td>40.751902</td>\n",
       "      <td>-73.979446</td>\n",
       "      <td>40.755481</td>\n",
       "      <td>1</td>\n",
       "    </tr>\n",
       "  </tbody>\n",
       "</table>\n",
       "</div>"
      ],
      "text/plain": [
       "                             key  fare_amount           pickup_datetime  \\\n",
       "0    2012-04-21 04:30:42.0000001          7.7 2012-04-21 04:30:42+00:00   \n",
       "1   2012-01-04 17:22:00.00000081         16.5 2012-01-04 17:22:00+00:00   \n",
       "2   2012-12-24 11:24:00.00000098          5.5 2012-12-24 11:24:00+00:00   \n",
       "3  2013-11-23 12:57:00.000000190          5.0 2013-11-23 12:57:00+00:00   \n",
       "4    2014-12-06 20:36:22.0000008          4.0 2014-12-06 20:36:22+00:00   \n",
       "\n",
       "   pickup_longitude  pickup_latitude  dropoff_longitude  dropoff_latitude  \\\n",
       "0        -73.987130        40.733143         -73.991567         40.758092   \n",
       "1        -73.951300        40.774138         -73.990095         40.751048   \n",
       "2          0.000000         0.000000           0.000000          0.000000   \n",
       "3          0.000000         0.000000           0.000000          0.000000   \n",
       "4        -73.979815        40.751902         -73.979446         40.755481   \n",
       "\n",
       "   passenger_count  \n",
       "0                1  \n",
       "1                1  \n",
       "2                3  \n",
       "3                1  \n",
       "4                1  "
      ]
     },
     "execution_count": 7,
     "metadata": {},
     "output_type": "execute_result"
    }
   ],
   "source": [
    "train.head()"
   ]
  },
  {
   "cell_type": "code",
   "execution_count": null,
   "metadata": {},
   "outputs": [
    {
     "name": "stdout",
     "output_type": "stream",
     "text": [
      "Minimum Value of train: -300.0\n",
      "Maximum Value of train: 93963.36\n"
     ]
    }
   ],
   "source": [
    "# Fare_Amount의 최댓값과 최솟값 구하기\n",
    "print('Minimum Value of train:', train['fare_amount'].min())\n",
    "print('Maximum Value of train:', train['fare_amount'].max())"
   ]
  },
  {
   "cell_type": "markdown",
   "metadata": {},
   "source": [
    "- -300이 나와 이해하기 어려워짐"
   ]
  },
  {
   "cell_type": "code",
   "execution_count": null,
   "metadata": {},
   "outputs": [
    {
     "name": "stdout",
     "output_type": "stream",
     "text": [
      "Fare Amount<0: 610\n",
      "Fare Amount>0: 13855007\n"
     ]
    }
   ],
   "source": [
    "print('Fare Amount<0:', sum(train['fare_amount']<0))\n",
    "print('Fare Amount>0:', sum(train['fare_amount']>0))"
   ]
  },
  {
   "cell_type": "code",
   "execution_count": null,
   "metadata": {},
   "outputs": [
    {
     "data": {
      "text/plain": [
       "Counter({False: 13855354, True: 610})"
      ]
     },
     "execution_count": 10,
     "metadata": {},
     "output_type": "execute_result"
    }
   ],
   "source": [
    "from collections import Counter\n",
    "Counter(train['fare_amount']<0)"
   ]
  },
  {
   "cell_type": "markdown",
   "metadata": {},
   "source": [
    "- 총 610개의 음수 데이터가 있는 것을 알 수 있음(삭제할 예정)"
   ]
  },
  {
   "cell_type": "code",
   "execution_count": null,
   "metadata": {},
   "outputs": [
    {
     "data": {
      "text/plain": [
       "Counter({False: 13855354})"
      ]
     },
     "execution_count": 11,
     "metadata": {},
     "output_type": "execute_result"
    }
   ],
   "source": [
    "train = train.drop(train[train['fare_amount']<0].index, axis=0).reset_index(drop=True)\n",
    "Counter(train['fare_amount']<0)"
   ]
  },
  {
   "cell_type": "code",
   "execution_count": null,
   "metadata": {},
   "outputs": [
    {
     "name": "stdout",
     "output_type": "stream",
     "text": [
      "Minimum Value of train: 0.0\n",
      "Maximum Value of train: 500.0\n"
     ]
    }
   ],
   "source": [
    "# 극단적인 데이터 제거\n",
    "Counter(train['fare_amount']>500)\n",
    "\n",
    "train = train.drop(train[train['fare_amount'] > 500].index,\n",
    "                   axis=0).reset_index(drop=True)\n",
    "print('Minimum Value of train:', train['fare_amount'].min())\n",
    "print('Maximum Value of train:', train['fare_amount'].max())"
   ]
  },
  {
   "cell_type": "markdown",
   "metadata": {},
   "source": [
    " #### 데이터가 너무 크므로 층화 추출 샘플링을 사용해 표본의 크기를 줄임\n"
   ]
  },
  {
   "cell_type": "code",
   "execution_count": null,
   "metadata": {},
   "outputs": [
    {
     "data": {
      "text/plain": [
       "array([  1,   3,   6,   2,   5,   4,   0, 208, 129,  51,   8,   9],\n",
       "      dtype=int64)"
      ]
     },
     "execution_count": 14,
     "metadata": {},
     "output_type": "execute_result"
    }
   ],
   "source": [
    "train['passenger_count'].unique()"
   ]
  },
  {
   "cell_type": "markdown",
   "metadata": {},
   "source": [
    "- 0명인데 비용이 나온 것과 51명, 129명, 208명은 너무 많다 생각됨 \n",
    "- 6명 이상과 0명은 삭제하는 것이 좋을 것으로 판단"
   ]
  },
  {
   "cell_type": "code",
   "execution_count": null,
   "metadata": {},
   "outputs": [
    {
     "data": {
      "text/plain": [
       "array([1, 3, 6, 2, 5, 4], dtype=int64)"
      ]
     },
     "execution_count": 16,
     "metadata": {},
     "output_type": "execute_result"
    }
   ],
   "source": [
    "train = train.drop(train[train['passenger_count']>6].index, axis=0).reset_index(drop=True)\n",
    "train = train.drop(train[train['passenger_count']==0].index, axis=0).reset_index(drop=True)\n",
    "train['passenger_count'].unique()"
   ]
  },
  {
   "cell_type": "code",
   "execution_count": null,
   "metadata": {},
   "outputs": [
    {
     "data": {
      "text/plain": [
       "1    0.693959\n",
       "2    0.148144\n",
       "5    0.071225\n",
       "3    0.044029\n",
       "4    0.021383\n",
       "6    0.021260\n",
       "Name: passenger_count, dtype: float64"
      ]
     },
     "execution_count": 17,
     "metadata": {},
     "output_type": "execute_result"
    }
   ],
   "source": [
    "# passenger_count의 비율 확인\n",
    "train['passenger_count'].value_counts(normalize=True)"
   ]
  },
  {
   "cell_type": "markdown",
   "metadata": {},
   "source": [
    "- 1명 탑승한 택시 승객의 비율이 약 70퍼에 해당하는 것을 확인"
   ]
  },
  {
   "cell_type": "code",
   "execution_count": null,
   "metadata": {},
   "outputs": [
    {
     "name": "stdout",
     "output_type": "stream",
     "text": [
      "A    0.500000\n",
      "B    0.333333\n",
      "C    0.166667\n",
      "Name: group, dtype: float64\n",
      "(120, 2)\n",
      "A    0.500000\n",
      "B    0.333333\n",
      "C    0.166667\n",
      "Name: group, dtype: float64\n",
      "(36, 2)\n"
     ]
    }
   ],
   "source": [
    "# StratifiedShuf-fleSplit 모듈을 사용해 층화 추출\n",
    "from sklearn.model_selection import StratifiedShuffleSplit\n",
    "\n",
    "sample = pd.DataFrame({'group': np.repeat(['A', 'B', 'C'], (60, 40, 20)),\n",
    "                        'sample_value': np.random.randn(120)})\n",
    "split = StratifiedShuffleSplit(n_splits=1, test_size=0.7, random_state=42)\n",
    "\n",
    "for train_index, test_index in split.split(sample, sample['group']):\n",
    "    strata_train_set = sample.loc[train_index]\n",
    "    test_set = sample.loc[test_index]\n",
    "\n",
    "print(sample['group'].value_counts(normalize=True))\n",
    "print(sample.shape)\n",
    "print(strata_train_set['group'].value_counts(normalize=True))\n",
    "print(strata_train_set.shape)"
   ]
  },
  {
   "cell_type": "markdown",
   "metadata": {},
   "source": [
    "- 위 결과값으로 변수 그룹 내 A, B, C이 동일한 비율로 표본이 추출된 것을 확인할 수 있음"
   ]
  },
  {
   "cell_type": "code",
   "execution_count": null,
   "metadata": {},
   "outputs": [
    {
     "name": "stdout",
     "output_type": "stream",
     "text": [
      "train:\n",
      " 1    0.693959\n",
      "2    0.148144\n",
      "5    0.071225\n",
      "3    0.044029\n",
      "4    0.021383\n",
      "6    0.021260\n",
      "Name: passenger_count, dtype: float64 (13806160, 8)\n",
      "sample:\n",
      " 1    0.693996\n",
      "2    0.148113\n",
      "5    0.071196\n",
      "3    0.044036\n",
      "4    0.021366\n",
      "6    0.021294\n",
      "Name: passenger_count, dtype: float64 (13807, 8)\n"
     ]
    }
   ],
   "source": [
    "# 본 데이터에 적용\n",
    "split = StratifiedShuffleSplit(n_splits=1, test_size=0.001, random_state=42)\n",
    "\n",
    "for large_index, sample_index in split.split(train, train['passenger_count']):\n",
    "    large_df = train.loc[large_index]\n",
    "    sample_df = train.loc[sample_index]\n",
    "\n",
    "print('train:\\n', train['passenger_count'].value_counts(normalize=True), train.shape)\n",
    "print('sample:\\n', sample_df['passenger_count'].value_counts(normalize=True), sample_df.shape)\n"
   ]
  },
  {
   "cell_type": "code",
   "execution_count": null,
   "metadata": {},
   "outputs": [
    {
     "data": {
      "image/png": "[encoded data removed]",
      "text/plain": [
       "<Figure size 720x432 with 1 Axes>"
      ]
     },
     "metadata": {
      "needs_background": "light"
     },
     "output_type": "display_data"
    }
   ],
   "source": [
    "# 시각화\n",
    "fig, ax = plt.subplots(figsize=(10, 6))\n",
    "ax.hist(sample_df['fare_amount'])\n",
    "plt.show()"
   ]
  },
  {
   "cell_type": "markdown",
   "metadata": {},
   "source": [
    "#### 로그 변환\n",
    "- 위도의 범위 -90 ~ 90\n",
    "- 경도의 범위 -180 ~ 180\n",
    "- 위 범위를 벗어나는 값이 있다면 제거"
   ]
  },
  {
   "cell_type": "code",
   "execution_count": null,
   "metadata": {},
   "outputs": [
    {
     "data": {
      "text/plain": [
       "Counter({False: 13806091, True: 69})"
      ]
     },
     "execution_count": 26,
     "metadata": {},
     "output_type": "execute_result"
    }
   ],
   "source": [
    "# 실제 데이터가 있는지 확인\n",
    "\n",
    "Counter(train['pickup_latitude'] < -90) # -90보다 작은 데이터"
   ]
  },
  {
   "cell_type": "code",
   "execution_count": null,
   "metadata": {},
   "outputs": [
    {
     "data": {
      "text/plain": [
       "Counter({False: 13805984, True: 176})"
      ]
     },
     "execution_count": 27,
     "metadata": {},
     "output_type": "execute_result"
    }
   ],
   "source": [
    "Counter(train['pickup_latitude'] > 90)  # 90보다 큰 데이터\n"
   ]
  },
  {
   "cell_type": "markdown",
   "metadata": {},
   "source": [
    "- -90보다 작은 데이터 69개와 90보다 큰 데이터 176개가 있는 것을 확인\n",
    "- 위 데이터들을 삭제시킬겁니다."
   ]
  },
  {
   "cell_type": "code",
   "execution_count": null,
   "metadata": {},
   "outputs": [
    {
     "data": {
      "text/plain": [
       "Counter({False: 13805915})"
      ]
     },
     "execution_count": 28,
     "metadata": {},
     "output_type": "execute_result"
    }
   ],
   "source": [
    "train = train.drop(train[train['pickup_latitude'] < -90].index, axis=0).reset_index(drop=True)\n",
    "train = train.drop(train[train['pickup_latitude'] > 90].index, axis=0).reset_index(drop=True)\n",
    "Counter(train['pickup_latitude'] > 90)"
   ]
  },
  {
   "cell_type": "code",
   "execution_count": null,
   "metadata": {},
   "outputs": [
    {
     "data": {
      "text/plain": [
       "(13805588, 8)"
      ]
     },
     "execution_count": 32,
     "metadata": {},
     "output_type": "execute_result"
    }
   ],
   "source": [
    "train = train.drop(train[train['dropoff_latitude'] < -90].index, axis=0).reset_index(drop=True)\n",
    "train = train.drop(train[train['dropoff_latitude'] > 90].index, axis=0).reset_index(drop=True)\n",
    "train = train.drop(train[train['pickup_longitude'] < -180].index, axis=0).reset_index(drop=True)\n",
    "train = train.drop(train[train['pickup_longitude'] > 180].index, axis=0).reset_index(drop=True)\n",
    "train = train.drop(train[train['dropoff_latitude'] < -180].index, axis=0).reset_index(drop=True)\n",
    "train = train.drop(train[train['dropoff_latitude'] > 180].index, axis=0).reset_index(drop=True)\n",
    "train.shape"
   ]
  },
  {
   "cell_type": "markdown",
   "metadata": {},
   "source": [
    "#### key, pickup_datetime이 날짜 데이터로 기록되는지 확인"
   ]
  },
  {
   "cell_type": "code",
   "execution_count": null,
   "metadata": {},
   "outputs": [
    {
     "data": {
      "text/plain": [
       "0     2012-04-21 04:30:42.0000001\n",
       "1    2012-01-04 17:22:00.00000081\n",
       "2    2012-12-24 11:24:00.00000098\n",
       "Name: key, dtype: object"
      ]
     },
     "execution_count": 33,
     "metadata": {},
     "output_type": "execute_result"
    }
   ],
   "source": [
    "# 우선 key 변수 확인\n",
    "train.iloc[:3, 0]"
   ]
  },
  {
   "cell_type": "code",
   "execution_count": null,
   "metadata": {},
   "outputs": [
    {
     "data": {
      "text/plain": [
       "0   2012-04-21 04:30:42+00:00\n",
       "1   2012-01-04 17:22:00+00:00\n",
       "2   2012-12-24 11:24:00+00:00\n",
       "Name: pickup_datetime, dtype: datetime64[ns, UTC]"
      ]
     },
     "execution_count": 34,
     "metadata": {},
     "output_type": "execute_result"
    }
   ],
   "source": [
    "train.iloc[:3, 2]"
   ]
  },
  {
   "cell_type": "markdown",
   "metadata": {},
   "source": [
    "#### 위도와 경도이 이상치를 제거한 후, 층화 추출을 활용해 sample 데이터만 추출하여 시각화 구현\n"
   ]
  },
  {
   "cell_type": "code",
   "execution_count": null,
   "metadata": {},
   "outputs": [],
   "source": [
    "split = StratifiedShuffleSplit(n_splits=1, test_size=0.001, random_state=42)\n",
    "\n",
    "for large_index, sample_index in split.split(train, train['passenger_count']):\n",
    "  large_df = train.loc[large_index]\n",
    "  sample_df = train.loc[sample_index]\n"
   ]
  },
  {
   "cell_type": "code",
   "execution_count": null,
   "metadata": {},
   "outputs": [
    {
     "name": "stdout",
     "output_type": "stream",
     "text": [
      "Old size: 13806\n",
      "New size: 13494\n"
     ]
    }
   ],
   "source": [
    "'''\n",
    "함수는 필터링 기능을 사용\n",
    "차량을 탑승한 위치의 위도와 경도, 하차한 위치의 위도와 경도를 표시\n",
    "근데 표시한 지도 외에 데이터가 이상치로 존재하면 삭제하는 코드 (일종의 전처리 코드)\n",
    "'''\n",
    "Bounding_Box = (-74.5, -72.8, 40.5, 41.8)\n",
    "\n",
    "\n",
    "def select_within_boundingbox(data, BB):\n",
    "    return (data.pickup_longitude >= BB[0]) & (data.pickup_longitude <= BB[1]) & \\\n",
    "           (data.pickup_latitude >= BB[2]) & (data.pickup_latitude <= BB[3]) & \\\n",
    "           (data.dropoff_longitude >= BB[0]) & (data.dropoff_longitude <= BB[1]) & \\\n",
    "           (data.dropoff_latitude >= BB[2]) & (data.dropoff_latitude <= BB[3])\n",
    "\n",
    "\n",
    "print('Old size: %d' % len(sample_df))\n",
    "sample_df = sample_df[select_within_boundingbox(sample_df, Bounding_Box)]\n",
    "print('New size: %d' % len(sample_df))\n"
   ]
  },
  {
   "cell_type": "code",
   "execution_count": null,
   "metadata": {},
   "outputs": [
    {
     "name": "stdout",
     "output_type": "stream",
     "text": [
      "Old size: 13494\n",
      "New size: 13494\n"
     ]
    }
   ],
   "source": [
    "print('Old size: %d'%len(sample_df))\n",
    "sample_df = sample_df[select_within_boundingbox(sample_df, Bounding_Box)]\n",
    "print('New size: %d'%len(sample_df))"
   ]
  },
  {
   "cell_type": "markdown",
   "metadata": {},
   "source": [
    "### 뉴욕 지도 시각화\n",
    "- 현재 에러로 사진을 못가져옴"
   ]
  },
  {
   "cell_type": "code",
   "execution_count": null,
   "metadata": {},
   "outputs": [],
   "source": [
    "# 뉴욕의 지도만 출력\n",
    "# import ssl\n",
    "# from urllib.request import urlopen\n",
    "# context = ssl._create_unverified_context()\n",
    "\n",
    "# load image of NYC map\n",
    "# Bounding_Box = (-74.5, -72.8, 40.5, 41.8)\n",
    "# NYC_MAP_img_path = 'https://aiblog.nl/download/nyc_-74.5_-72.8_40.5_41.8.png'\n",
    "# NYC_MAP = urlopen(NYC_MAP_img_path, context=context)\n",
    "# nyc_map = plt.imread(NYC_MAP)\n",
    "\n",
    "# load extra image to zoom in on NYC\n",
    "# Bounding_Box_Zoom = (-74.3, -73.7, 40.5, 40.9)\n",
    "# NYC_MAP_ZOOM_img_path = 'https://aiblog.nl/download/nyc_-74.3_-73.7_40.5_40.9.png'\n",
    "# NYC_MAP_ZOOM = urlopen(NYC_MAP_img_path, context=context)\n",
    "# nyc_map_zoom = plt.imread(NYC_MAP_ZOOM)\n",
    "\n",
    "# fig, ax = plt.subplots(1, 2, figsize=(16, 10))\n",
    "# ax[0].imshow(nyc_map, zorder=0, extent=Bounding_Box)\n",
    "# ax[0].set_title(\"NY Map\")\n",
    "\n",
    "# ax[1].imshow(nyc_map_zoom, zorder=0, extent=Bounding_Box_Zoom)\n",
    "# ax[1].set_title(\"NY Map Zoom\")\n",
    "\n",
    "# plt.imshow()\n"
   ]
  },
  {
   "cell_type": "code",
   "execution_count": null,
   "metadata": {},
   "outputs": [],
   "source": []
  }
 ],
 "metadata": {
  "interpreter": {
   "hash": "b3ba2566441a7c06988d0923437866b63cedc61552a5af99d1f4fb67d367b25f"
  },
  "kernelspec": {
   "display_name": "Python 3.8.8 64-bit ('base': conda)",
   "language": "python",
   "name": "python3"
  },
  "language_info": {
   "codemirror_mode": {
    "name": "ipython",
    "version": 3
   },
   "file_extension": ".py",
   "mimetype": "text/x-python",
   "name": "python",
   "nbconvert_exporter": "python",
   "pygments_lexer": "ipython3",
   "version": "3.8.8"
  },
  "orig_nbformat": 4
 },
 "nbformat": 4,
 "nbformat_minor": 2
}
