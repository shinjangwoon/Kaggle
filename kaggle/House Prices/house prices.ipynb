{
 "cells": [
  {
   "cell_type": "markdown",
   "metadata": {},
   "source": [
    "# kaggle competition 다운"
   ]
  },
  {
   "cell_type": "code",
   "execution_count": 1,
   "metadata": {},
   "outputs": [],
   "source": [
    "import os"
   ]
  },
  {
   "cell_type": "code",
   "execution_count": 2,
   "metadata": {},
   "outputs": [
    {
     "name": "stdout",
     "output_type": "stream",
     "text": [
      "usage: kaggle [-h] [-v] {competitions,c,datasets,d,kernels,k,config} ...\n",
      "\n",
      "optional arguments:\n",
      "  -h, --help            show this help message and exit\n",
      "  -v, --version         show program's version number and exit\n",
      "\n",
      "commands:\n",
      "  {competitions,c,datasets,d,kernels,k,config}\n",
      "                        Use one of:\n",
      "                        competitions {list, files, download, submit, submissions, leaderboard}\n",
      "                        datasets {list, files, download, create, version, init, metadata, status}\n",
      "                        config {view, set, unset}\n",
      "    competitions (c)    Commands related to Kaggle competitions\n",
      "    datasets (d)        Commands related to Kaggle datasets\n",
      "    kernels (k)         Commands related to Kaggle kernels\n",
      "    config              Configuration settings\n"
     ]
    }
   ],
   "source": [
    "!kaggle -h"
   ]
  },
  {
   "cell_type": "code",
   "execution_count": 3,
   "metadata": {},
   "outputs": [
    {
     "name": "stderr",
     "output_type": "stream",
     "text": [
      "usage: kaggle [-h] [-v] {competitions,c,datasets,d,kernels,k,config} ...\n",
      "kaggle: error: argument command: invalid choice: 'competition' (choose from 'competitions', 'c', 'datasets', 'd', 'kernels', 'k', 'config')\n"
     ]
    }
   ],
   "source": [
    "!kaggle competition list"
   ]
  },
  {
   "cell_type": "code",
   "execution_count": 4,
   "metadata": {},
   "outputs": [
    {
     "name": "stdout",
     "output_type": "stream",
     "text": [
      "house-prices-advanced-regression-techniques.zip: Skipping, found more recently modified local copy (use --force to force download)\n"
     ]
    }
   ],
   "source": [
    "!kaggle competitions download -c house-prices-advanced-regression-techniques"
   ]
  },
  {
   "cell_type": "markdown",
   "metadata": {},
   "source": [
    "## train, test set 준비"
   ]
  },
  {
   "cell_type": "code",
   "execution_count": 5,
   "metadata": {},
   "outputs": [],
   "source": [
    "import pandas as pd\n",
    "train = pd.read_csv('house-prices-advanced-regression-techniques/train.csv')\n",
    "test = pd.read_csv('house-prices-advanced-regression-techniques/test.csv')\n"
   ]
  },
  {
   "cell_type": "code",
   "execution_count": 6,
   "metadata": {},
   "outputs": [
    {
     "data": {
      "text/plain": [
       "(1460, 81)"
      ]
     },
     "execution_count": 6,
     "metadata": {},
     "output_type": "execute_result"
    }
   ],
   "source": [
    "train.shape\n"
   ]
  },
  {
   "cell_type": "code",
   "execution_count": 7,
   "metadata": {},
   "outputs": [
    {
     "data": {
      "text/plain": [
       "(1459, 80)"
      ]
     },
     "execution_count": 7,
     "metadata": {},
     "output_type": "execute_result"
    }
   ],
   "source": [
    "test.shape\n"
   ]
  },
  {
   "cell_type": "code",
   "execution_count": 8,
   "metadata": {},
   "outputs": [
    {
     "name": "stdout",
     "output_type": "stream",
     "text": [
      "<class 'pandas.core.frame.DataFrame'>\n",
      "RangeIndex: 1460 entries, 0 to 1459\n",
      "Data columns (total 81 columns):\n",
      " #   Column         Non-Null Count  Dtype  \n",
      "---  ------         --------------  -----  \n",
      " 0   Id             1460 non-null   int64  \n",
      " 1   MSSubClass     1460 non-null   int64  \n",
      " 2   MSZoning       1460 non-null   object \n",
      " 3   LotFrontage    1201 non-null   float64\n",
      " 4   LotArea        1460 non-null   int64  \n",
      " 5   Street         1460 non-null   object \n",
      " 6   Alley          91 non-null     object \n",
      " 7   LotShape       1460 non-null   object \n",
      " 8   LandContour    1460 non-null   object \n",
      " 9   Utilities      1460 non-null   object \n",
      " 10  LotConfig      1460 non-null   object \n",
      " 11  LandSlope      1460 non-null   object \n",
      " 12  Neighborhood   1460 non-null   object \n",
      " 13  Condition1     1460 non-null   object \n",
      " 14  Condition2     1460 non-null   object \n",
      " 15  BldgType       1460 non-null   object \n",
      " 16  HouseStyle     1460 non-null   object \n",
      " 17  OverallQual    1460 non-null   int64  \n",
      " 18  OverallCond    1460 non-null   int64  \n",
      " 19  YearBuilt      1460 non-null   int64  \n",
      " 20  YearRemodAdd   1460 non-null   int64  \n",
      " 21  RoofStyle      1460 non-null   object \n",
      " 22  RoofMatl       1460 non-null   object \n",
      " 23  Exterior1st    1460 non-null   object \n",
      " 24  Exterior2nd    1460 non-null   object \n",
      " 25  MasVnrType     1452 non-null   object \n",
      " 26  MasVnrArea     1452 non-null   float64\n",
      " 27  ExterQual      1460 non-null   object \n",
      " 28  ExterCond      1460 non-null   object \n",
      " 29  Foundation     1460 non-null   object \n",
      " 30  BsmtQual       1423 non-null   object \n",
      " 31  BsmtCond       1423 non-null   object \n",
      " 32  BsmtExposure   1422 non-null   object \n",
      " 33  BsmtFinType1   1423 non-null   object \n",
      " 34  BsmtFinSF1     1460 non-null   int64  \n",
      " 35  BsmtFinType2   1422 non-null   object \n",
      " 36  BsmtFinSF2     1460 non-null   int64  \n",
      " 37  BsmtUnfSF      1460 non-null   int64  \n",
      " 38  TotalBsmtSF    1460 non-null   int64  \n",
      " 39  Heating        1460 non-null   object \n",
      " 40  HeatingQC      1460 non-null   object \n",
      " 41  CentralAir     1460 non-null   object \n",
      " 42  Electrical     1459 non-null   object \n",
      " 43  1stFlrSF       1460 non-null   int64  \n",
      " 44  2ndFlrSF       1460 non-null   int64  \n",
      " 45  LowQualFinSF   1460 non-null   int64  \n",
      " 46  GrLivArea      1460 non-null   int64  \n",
      " 47  BsmtFullBath   1460 non-null   int64  \n",
      " 48  BsmtHalfBath   1460 non-null   int64  \n",
      " 49  FullBath       1460 non-null   int64  \n",
      " 50  HalfBath       1460 non-null   int64  \n",
      " 51  BedroomAbvGr   1460 non-null   int64  \n",
      " 52  KitchenAbvGr   1460 non-null   int64  \n",
      " 53  KitchenQual    1460 non-null   object \n",
      " 54  TotRmsAbvGrd   1460 non-null   int64  \n",
      " 55  Functional     1460 non-null   object \n",
      " 56  Fireplaces     1460 non-null   int64  \n",
      " 57  FireplaceQu    770 non-null    object \n",
      " 58  GarageType     1379 non-null   object \n",
      " 59  GarageYrBlt    1379 non-null   float64\n",
      " 60  GarageFinish   1379 non-null   object \n",
      " 61  GarageCars     1460 non-null   int64  \n",
      " 62  GarageArea     1460 non-null   int64  \n",
      " 63  GarageQual     1379 non-null   object \n",
      " 64  GarageCond     1379 non-null   object \n",
      " 65  PavedDrive     1460 non-null   object \n",
      " 66  WoodDeckSF     1460 non-null   int64  \n",
      " 67  OpenPorchSF    1460 non-null   int64  \n",
      " 68  EnclosedPorch  1460 non-null   int64  \n",
      " 69  3SsnPorch      1460 non-null   int64  \n",
      " 70  ScreenPorch    1460 non-null   int64  \n",
      " 71  PoolArea       1460 non-null   int64  \n",
      " 72  PoolQC         7 non-null      object \n",
      " 73  Fence          281 non-null    object \n",
      " 74  MiscFeature    54 non-null     object \n",
      " 75  MiscVal        1460 non-null   int64  \n",
      " 76  MoSold         1460 non-null   int64  \n",
      " 77  YrSold         1460 non-null   int64  \n",
      " 78  SaleType       1460 non-null   object \n",
      " 79  SaleCondition  1460 non-null   object \n",
      " 80  SalePrice      1460 non-null   int64  \n",
      "dtypes: float64(3), int64(35), object(43)\n",
      "memory usage: 924.0+ KB\n"
     ]
    }
   ],
   "source": [
    "train.info()"
   ]
  },
  {
   "cell_type": "code",
   "execution_count": 9,
   "metadata": {},
   "outputs": [
    {
     "name": "stdout",
     "output_type": "stream",
     "text": [
      "<class 'pandas.core.frame.DataFrame'>\n",
      "RangeIndex: 1459 entries, 0 to 1458\n",
      "Data columns (total 80 columns):\n",
      " #   Column         Non-Null Count  Dtype  \n",
      "---  ------         --------------  -----  \n",
      " 0   Id             1459 non-null   int64  \n",
      " 1   MSSubClass     1459 non-null   int64  \n",
      " 2   MSZoning       1455 non-null   object \n",
      " 3   LotFrontage    1232 non-null   float64\n",
      " 4   LotArea        1459 non-null   int64  \n",
      " 5   Street         1459 non-null   object \n",
      " 6   Alley          107 non-null    object \n",
      " 7   LotShape       1459 non-null   object \n",
      " 8   LandContour    1459 non-null   object \n",
      " 9   Utilities      1457 non-null   object \n",
      " 10  LotConfig      1459 non-null   object \n",
      " 11  LandSlope      1459 non-null   object \n",
      " 12  Neighborhood   1459 non-null   object \n",
      " 13  Condition1     1459 non-null   object \n",
      " 14  Condition2     1459 non-null   object \n",
      " 15  BldgType       1459 non-null   object \n",
      " 16  HouseStyle     1459 non-null   object \n",
      " 17  OverallQual    1459 non-null   int64  \n",
      " 18  OverallCond    1459 non-null   int64  \n",
      " 19  YearBuilt      1459 non-null   int64  \n",
      " 20  YearRemodAdd   1459 non-null   int64  \n",
      " 21  RoofStyle      1459 non-null   object \n",
      " 22  RoofMatl       1459 non-null   object \n",
      " 23  Exterior1st    1458 non-null   object \n",
      " 24  Exterior2nd    1458 non-null   object \n",
      " 25  MasVnrType     1443 non-null   object \n",
      " 26  MasVnrArea     1444 non-null   float64\n",
      " 27  ExterQual      1459 non-null   object \n",
      " 28  ExterCond      1459 non-null   object \n",
      " 29  Foundation     1459 non-null   object \n",
      " 30  BsmtQual       1415 non-null   object \n",
      " 31  BsmtCond       1414 non-null   object \n",
      " 32  BsmtExposure   1415 non-null   object \n",
      " 33  BsmtFinType1   1417 non-null   object \n",
      " 34  BsmtFinSF1     1458 non-null   float64\n",
      " 35  BsmtFinType2   1417 non-null   object \n",
      " 36  BsmtFinSF2     1458 non-null   float64\n",
      " 37  BsmtUnfSF      1458 non-null   float64\n",
      " 38  TotalBsmtSF    1458 non-null   float64\n",
      " 39  Heating        1459 non-null   object \n",
      " 40  HeatingQC      1459 non-null   object \n",
      " 41  CentralAir     1459 non-null   object \n",
      " 42  Electrical     1459 non-null   object \n",
      " 43  1stFlrSF       1459 non-null   int64  \n",
      " 44  2ndFlrSF       1459 non-null   int64  \n",
      " 45  LowQualFinSF   1459 non-null   int64  \n",
      " 46  GrLivArea      1459 non-null   int64  \n",
      " 47  BsmtFullBath   1457 non-null   float64\n",
      " 48  BsmtHalfBath   1457 non-null   float64\n",
      " 49  FullBath       1459 non-null   int64  \n",
      " 50  HalfBath       1459 non-null   int64  \n",
      " 51  BedroomAbvGr   1459 non-null   int64  \n",
      " 52  KitchenAbvGr   1459 non-null   int64  \n",
      " 53  KitchenQual    1458 non-null   object \n",
      " 54  TotRmsAbvGrd   1459 non-null   int64  \n",
      " 55  Functional     1457 non-null   object \n",
      " 56  Fireplaces     1459 non-null   int64  \n",
      " 57  FireplaceQu    729 non-null    object \n",
      " 58  GarageType     1383 non-null   object \n",
      " 59  GarageYrBlt    1381 non-null   float64\n",
      " 60  GarageFinish   1381 non-null   object \n",
      " 61  GarageCars     1458 non-null   float64\n",
      " 62  GarageArea     1458 non-null   float64\n",
      " 63  GarageQual     1381 non-null   object \n",
      " 64  GarageCond     1381 non-null   object \n",
      " 65  PavedDrive     1459 non-null   object \n",
      " 66  WoodDeckSF     1459 non-null   int64  \n",
      " 67  OpenPorchSF    1459 non-null   int64  \n",
      " 68  EnclosedPorch  1459 non-null   int64  \n",
      " 69  3SsnPorch      1459 non-null   int64  \n",
      " 70  ScreenPorch    1459 non-null   int64  \n",
      " 71  PoolArea       1459 non-null   int64  \n",
      " 72  PoolQC         3 non-null      object \n",
      " 73  Fence          290 non-null    object \n",
      " 74  MiscFeature    51 non-null     object \n",
      " 75  MiscVal        1459 non-null   int64  \n",
      " 76  MoSold         1459 non-null   int64  \n",
      " 77  YrSold         1459 non-null   int64  \n",
      " 78  SaleType       1458 non-null   object \n",
      " 79  SaleCondition  1459 non-null   object \n",
      "dtypes: float64(11), int64(26), object(43)\n",
      "memory usage: 912.0+ KB\n"
     ]
    }
   ],
   "source": [
    "test.info()"
   ]
  },
  {
   "cell_type": "code",
   "execution_count": 10,
   "metadata": {},
   "outputs": [
    {
     "data": {
      "text/plain": [
       "(1458, 81)"
      ]
     },
     "execution_count": 10,
     "metadata": {},
     "output_type": "execute_result"
    }
   ],
   "source": [
    "# 이상치 제거\n",
    "train.drop(train[(train['OverallQual']<4) & (train['SalePrice']>200000)].index, inplace=True)\n",
    "train.drop(train[(train['OverallCond']<4) & (train['SalePrice']>200000)].index, inplace=True)\n",
    "test.reset_index(drop=True, inplace=True)\n",
    "\n",
    "train.shape"
   ]
  },
  {
   "cell_type": "markdown",
   "metadata": {},
   "source": [
    "## 종속 변수의 로그 변환\n"
   ]
  },
  {
   "cell_type": "code",
   "execution_count": 11,
   "metadata": {},
   "outputs": [
    {
     "name": "stdout",
     "output_type": "stream",
     "text": [
      "The value of mu before log transformation is: 180761.24142661178\n",
      "The value of sigma before log transformation is: 79270.93617295024\n"
     ]
    },
    {
     "name": "stderr",
     "output_type": "stream",
     "text": [
      "<ipython-input-11-7dad7a638f58>:18: UserWarning: Matplotlib is currently using module://ipykernel.pylab.backend_inline, which is a non-GUI backend, so cannot show the figure.\n",
      "  fig.show()\n"
     ]
    },
    {
     "data": {
      "image/png": "[encoded data removed]",
      "text/plain": [
       "<Figure size 720x432 with 1 Axes>"
      ]
     },
     "metadata": {
      "needs_background": "light"
     },
     "output_type": "display_data"
    }
   ],
   "source": [
    "import seaborn as sns\n",
    "import matplotlib.pyplot as plt\n",
    "from scipy.stats import norm\n",
    "\n",
    "(mu, sigma) = norm.fit(train['SalePrice'])\n",
    "print('The value of mu before log transformation is:', mu)\n",
    "print('The value of sigma before log transformation is:', sigma)\n",
    "\n",
    "fig, ax = plt.subplots(figsize=(10, 6))\n",
    "sns.histplot(train['SalePrice'], color='b', stat='probability')\n",
    "ax.xaxis.grid(False)\n",
    "ax.set(ylabel='Frequency')\n",
    "ax.set(xlabel='SalePrice')\n",
    "ax.set(title='SalePrice distribution')\n",
    "\n",
    "plt.axvline(mu, color='r', linestyle='--')\n",
    "plt.text(mu+10000, 0.11, 'Mean of SalePrice', rotation=0, color='r')\n",
    "fig.show()"
   ]
  },
  {
   "cell_type": "markdown",
   "metadata": {},
   "source": [
    "* 주택 가격이 정규 분포를 이루지 않는 것을 알 수 있음"
   ]
  },
  {
   "cell_type": "code",
   "execution_count": 12,
   "metadata": {},
   "outputs": [
    {
     "name": "stdout",
     "output_type": "stream",
     "text": [
      "The value of mu before log transformation is: 12.0233397799989\n",
      "The value of sigma before log transformation is: 0.3989191793099824\n"
     ]
    },
    {
     "name": "stderr",
     "output_type": "stream",
     "text": [
      "<ipython-input-12-4ca9b6466d84>:19: UserWarning: Matplotlib is currently using module://ipykernel.pylab.backend_inline, which is a non-GUI backend, so cannot show the figure.\n",
      "  fig.show()\n"
     ]
    },
    {
     "data": {
      "image/png": "[encoded data removed]",
      "text/plain": [
       "<Figure size 720x432 with 1 Axes>"
      ]
     },
     "metadata": {
      "needs_background": "light"
     },
     "output_type": "display_data"
    }
   ],
   "source": [
    "# np.log1p() 활용\n",
    "import numpy as np\n",
    "train['SalePrice']=np.log1p(train['SalePrice'])\n",
    "\n",
    "(mu, sigma) = norm.fit(train['SalePrice'])\n",
    "print('The value of mu before log transformation is:', mu)\n",
    "print('The value of sigma before log transformation is:', sigma)\n",
    "\n",
    "fig, ax = plt.subplots(figsize=(10, 6))\n",
    "sns.histplot(train['SalePrice'], color='b', stat='probability')\n",
    "ax.xaxis.grid(False)\n",
    "ax.set(ylabel='Frequency')\n",
    "ax.set(xlabel='SalePrice')\n",
    "ax.set(title='SalePrice distribution')\n",
    "\n",
    "plt.axvline(mu, color='r', linestyle='--')\n",
    "plt.text(mu+0.05, 0.111, 'Mean of SalePrice', rotation=0, color='r')\n",
    "plt.ylim(0, 0.12)\n",
    "fig.show()\n"
   ]
  },
  {
   "cell_type": "markdown",
   "metadata": {},
   "source": [
    "## 데이터 합치기"
   ]
  },
  {
   "cell_type": "code",
   "execution_count": 13,
   "metadata": {},
   "outputs": [
    {
     "data": {
      "text/plain": [
       "((1458, 80), (1459, 79))"
      ]
     },
     "execution_count": 13,
     "metadata": {},
     "output_type": "execute_result"
    }
   ],
   "source": [
    "train_ID = train['Id']\n",
    "test_ID = test['Id']\n",
    "train.drop(['Id'], axis=1, inplace=True)\n",
    "test.drop(['Id'], axis=1, inplace=True)\n",
    "train.shape, test.shape"
   ]
  },
  {
   "cell_type": "code",
   "execution_count": 14,
   "metadata": {},
   "outputs": [
    {
     "data": {
      "text/plain": [
       "((1458, 79), (1459, 79), (1458,))"
      ]
     },
     "execution_count": 14,
     "metadata": {},
     "output_type": "execute_result"
    }
   ],
   "source": [
    "y = train['SalePrice'].reset_index(drop=True)\n",
    "train = train.drop('SalePrice', axis=1)\n",
    "train.shape, test.shape, y.shape\n",
    "# 변수의 개수 동일 확인"
   ]
  },
  {
   "cell_type": "code",
   "execution_count": 15,
   "metadata": {},
   "outputs": [
    {
     "data": {
      "text/html": [
       "<div>\n",
       "<style scoped>\n",
       "    .dataframe tbody tr th:only-of-type {\n",
       "        vertical-align: middle;\n",
       "    }\n",
       "\n",
       "    .dataframe tbody tr th {\n",
       "        vertical-align: top;\n",
       "    }\n",
       "\n",
       "    .dataframe thead th {\n",
       "        text-align: right;\n",
       "    }\n",
       "</style>\n",
       "<table border=\"1\" class=\"dataframe\">\n",
       "  <thead>\n",
       "    <tr style=\"text-align: right;\">\n",
       "      <th></th>\n",
       "      <th>MSSubClass</th>\n",
       "      <th>MSZoning</th>\n",
       "      <th>LotFrontage</th>\n",
       "      <th>LotArea</th>\n",
       "      <th>Street</th>\n",
       "      <th>Alley</th>\n",
       "      <th>LotShape</th>\n",
       "      <th>LandContour</th>\n",
       "      <th>Utilities</th>\n",
       "      <th>LotConfig</th>\n",
       "      <th>...</th>\n",
       "      <th>ScreenPorch</th>\n",
       "      <th>PoolArea</th>\n",
       "      <th>PoolQC</th>\n",
       "      <th>Fence</th>\n",
       "      <th>MiscFeature</th>\n",
       "      <th>MiscVal</th>\n",
       "      <th>MoSold</th>\n",
       "      <th>YrSold</th>\n",
       "      <th>SaleType</th>\n",
       "      <th>SaleCondition</th>\n",
       "    </tr>\n",
       "  </thead>\n",
       "  <tbody>\n",
       "    <tr>\n",
       "      <th>0</th>\n",
       "      <td>60</td>\n",
       "      <td>RL</td>\n",
       "      <td>65.0</td>\n",
       "      <td>8450</td>\n",
       "      <td>Pave</td>\n",
       "      <td>NaN</td>\n",
       "      <td>Reg</td>\n",
       "      <td>Lvl</td>\n",
       "      <td>AllPub</td>\n",
       "      <td>Inside</td>\n",
       "      <td>...</td>\n",
       "      <td>0</td>\n",
       "      <td>0</td>\n",
       "      <td>NaN</td>\n",
       "      <td>NaN</td>\n",
       "      <td>NaN</td>\n",
       "      <td>0</td>\n",
       "      <td>2</td>\n",
       "      <td>2008</td>\n",
       "      <td>WD</td>\n",
       "      <td>Normal</td>\n",
       "    </tr>\n",
       "    <tr>\n",
       "      <th>1</th>\n",
       "      <td>20</td>\n",
       "      <td>RL</td>\n",
       "      <td>80.0</td>\n",
       "      <td>9600</td>\n",
       "      <td>Pave</td>\n",
       "      <td>NaN</td>\n",
       "      <td>Reg</td>\n",
       "      <td>Lvl</td>\n",
       "      <td>AllPub</td>\n",
       "      <td>FR2</td>\n",
       "      <td>...</td>\n",
       "      <td>0</td>\n",
       "      <td>0</td>\n",
       "      <td>NaN</td>\n",
       "      <td>NaN</td>\n",
       "      <td>NaN</td>\n",
       "      <td>0</td>\n",
       "      <td>5</td>\n",
       "      <td>2007</td>\n",
       "      <td>WD</td>\n",
       "      <td>Normal</td>\n",
       "    </tr>\n",
       "    <tr>\n",
       "      <th>2</th>\n",
       "      <td>60</td>\n",
       "      <td>RL</td>\n",
       "      <td>68.0</td>\n",
       "      <td>11250</td>\n",
       "      <td>Pave</td>\n",
       "      <td>NaN</td>\n",
       "      <td>IR1</td>\n",
       "      <td>Lvl</td>\n",
       "      <td>AllPub</td>\n",
       "      <td>Inside</td>\n",
       "      <td>...</td>\n",
       "      <td>0</td>\n",
       "      <td>0</td>\n",
       "      <td>NaN</td>\n",
       "      <td>NaN</td>\n",
       "      <td>NaN</td>\n",
       "      <td>0</td>\n",
       "      <td>9</td>\n",
       "      <td>2008</td>\n",
       "      <td>WD</td>\n",
       "      <td>Normal</td>\n",
       "    </tr>\n",
       "    <tr>\n",
       "      <th>3</th>\n",
       "      <td>70</td>\n",
       "      <td>RL</td>\n",
       "      <td>60.0</td>\n",
       "      <td>9550</td>\n",
       "      <td>Pave</td>\n",
       "      <td>NaN</td>\n",
       "      <td>IR1</td>\n",
       "      <td>Lvl</td>\n",
       "      <td>AllPub</td>\n",
       "      <td>Corner</td>\n",
       "      <td>...</td>\n",
       "      <td>0</td>\n",
       "      <td>0</td>\n",
       "      <td>NaN</td>\n",
       "      <td>NaN</td>\n",
       "      <td>NaN</td>\n",
       "      <td>0</td>\n",
       "      <td>2</td>\n",
       "      <td>2006</td>\n",
       "      <td>WD</td>\n",
       "      <td>Abnorml</td>\n",
       "    </tr>\n",
       "    <tr>\n",
       "      <th>4</th>\n",
       "      <td>60</td>\n",
       "      <td>RL</td>\n",
       "      <td>84.0</td>\n",
       "      <td>14260</td>\n",
       "      <td>Pave</td>\n",
       "      <td>NaN</td>\n",
       "      <td>IR1</td>\n",
       "      <td>Lvl</td>\n",
       "      <td>AllPub</td>\n",
       "      <td>FR2</td>\n",
       "      <td>...</td>\n",
       "      <td>0</td>\n",
       "      <td>0</td>\n",
       "      <td>NaN</td>\n",
       "      <td>NaN</td>\n",
       "      <td>NaN</td>\n",
       "      <td>0</td>\n",
       "      <td>12</td>\n",
       "      <td>2008</td>\n",
       "      <td>WD</td>\n",
       "      <td>Normal</td>\n",
       "    </tr>\n",
       "    <tr>\n",
       "      <th>...</th>\n",
       "      <td>...</td>\n",
       "      <td>...</td>\n",
       "      <td>...</td>\n",
       "      <td>...</td>\n",
       "      <td>...</td>\n",
       "      <td>...</td>\n",
       "      <td>...</td>\n",
       "      <td>...</td>\n",
       "      <td>...</td>\n",
       "      <td>...</td>\n",
       "      <td>...</td>\n",
       "      <td>...</td>\n",
       "      <td>...</td>\n",
       "      <td>...</td>\n",
       "      <td>...</td>\n",
       "      <td>...</td>\n",
       "      <td>...</td>\n",
       "      <td>...</td>\n",
       "      <td>...</td>\n",
       "      <td>...</td>\n",
       "      <td>...</td>\n",
       "    </tr>\n",
       "    <tr>\n",
       "      <th>2912</th>\n",
       "      <td>160</td>\n",
       "      <td>RM</td>\n",
       "      <td>21.0</td>\n",
       "      <td>1936</td>\n",
       "      <td>Pave</td>\n",
       "      <td>NaN</td>\n",
       "      <td>Reg</td>\n",
       "      <td>Lvl</td>\n",
       "      <td>AllPub</td>\n",
       "      <td>Inside</td>\n",
       "      <td>...</td>\n",
       "      <td>0</td>\n",
       "      <td>0</td>\n",
       "      <td>NaN</td>\n",
       "      <td>NaN</td>\n",
       "      <td>NaN</td>\n",
       "      <td>0</td>\n",
       "      <td>6</td>\n",
       "      <td>2006</td>\n",
       "      <td>WD</td>\n",
       "      <td>Normal</td>\n",
       "    </tr>\n",
       "    <tr>\n",
       "      <th>2913</th>\n",
       "      <td>160</td>\n",
       "      <td>RM</td>\n",
       "      <td>21.0</td>\n",
       "      <td>1894</td>\n",
       "      <td>Pave</td>\n",
       "      <td>NaN</td>\n",
       "      <td>Reg</td>\n",
       "      <td>Lvl</td>\n",
       "      <td>AllPub</td>\n",
       "      <td>Inside</td>\n",
       "      <td>...</td>\n",
       "      <td>0</td>\n",
       "      <td>0</td>\n",
       "      <td>NaN</td>\n",
       "      <td>NaN</td>\n",
       "      <td>NaN</td>\n",
       "      <td>0</td>\n",
       "      <td>4</td>\n",
       "      <td>2006</td>\n",
       "      <td>WD</td>\n",
       "      <td>Abnorml</td>\n",
       "    </tr>\n",
       "    <tr>\n",
       "      <th>2914</th>\n",
       "      <td>20</td>\n",
       "      <td>RL</td>\n",
       "      <td>160.0</td>\n",
       "      <td>20000</td>\n",
       "      <td>Pave</td>\n",
       "      <td>NaN</td>\n",
       "      <td>Reg</td>\n",
       "      <td>Lvl</td>\n",
       "      <td>AllPub</td>\n",
       "      <td>Inside</td>\n",
       "      <td>...</td>\n",
       "      <td>0</td>\n",
       "      <td>0</td>\n",
       "      <td>NaN</td>\n",
       "      <td>NaN</td>\n",
       "      <td>NaN</td>\n",
       "      <td>0</td>\n",
       "      <td>9</td>\n",
       "      <td>2006</td>\n",
       "      <td>WD</td>\n",
       "      <td>Abnorml</td>\n",
       "    </tr>\n",
       "    <tr>\n",
       "      <th>2915</th>\n",
       "      <td>85</td>\n",
       "      <td>RL</td>\n",
       "      <td>62.0</td>\n",
       "      <td>10441</td>\n",
       "      <td>Pave</td>\n",
       "      <td>NaN</td>\n",
       "      <td>Reg</td>\n",
       "      <td>Lvl</td>\n",
       "      <td>AllPub</td>\n",
       "      <td>Inside</td>\n",
       "      <td>...</td>\n",
       "      <td>0</td>\n",
       "      <td>0</td>\n",
       "      <td>NaN</td>\n",
       "      <td>MnPrv</td>\n",
       "      <td>Shed</td>\n",
       "      <td>700</td>\n",
       "      <td>7</td>\n",
       "      <td>2006</td>\n",
       "      <td>WD</td>\n",
       "      <td>Normal</td>\n",
       "    </tr>\n",
       "    <tr>\n",
       "      <th>2916</th>\n",
       "      <td>60</td>\n",
       "      <td>RL</td>\n",
       "      <td>74.0</td>\n",
       "      <td>9627</td>\n",
       "      <td>Pave</td>\n",
       "      <td>NaN</td>\n",
       "      <td>Reg</td>\n",
       "      <td>Lvl</td>\n",
       "      <td>AllPub</td>\n",
       "      <td>Inside</td>\n",
       "      <td>...</td>\n",
       "      <td>0</td>\n",
       "      <td>0</td>\n",
       "      <td>NaN</td>\n",
       "      <td>NaN</td>\n",
       "      <td>NaN</td>\n",
       "      <td>0</td>\n",
       "      <td>11</td>\n",
       "      <td>2006</td>\n",
       "      <td>WD</td>\n",
       "      <td>Normal</td>\n",
       "    </tr>\n",
       "  </tbody>\n",
       "</table>\n",
       "<p>2917 rows × 79 columns</p>\n",
       "</div>"
      ],
      "text/plain": [
       "      MSSubClass MSZoning  LotFrontage  LotArea Street Alley LotShape  \\\n",
       "0             60       RL         65.0     8450   Pave   NaN      Reg   \n",
       "1             20       RL         80.0     9600   Pave   NaN      Reg   \n",
       "2             60       RL         68.0    11250   Pave   NaN      IR1   \n",
       "3             70       RL         60.0     9550   Pave   NaN      IR1   \n",
       "4             60       RL         84.0    14260   Pave   NaN      IR1   \n",
       "...          ...      ...          ...      ...    ...   ...      ...   \n",
       "2912         160       RM         21.0     1936   Pave   NaN      Reg   \n",
       "2913         160       RM         21.0     1894   Pave   NaN      Reg   \n",
       "2914          20       RL        160.0    20000   Pave   NaN      Reg   \n",
       "2915          85       RL         62.0    10441   Pave   NaN      Reg   \n",
       "2916          60       RL         74.0     9627   Pave   NaN      Reg   \n",
       "\n",
       "     LandContour Utilities LotConfig  ... ScreenPorch PoolArea PoolQC  Fence  \\\n",
       "0            Lvl    AllPub    Inside  ...           0        0    NaN    NaN   \n",
       "1            Lvl    AllPub       FR2  ...           0        0    NaN    NaN   \n",
       "2            Lvl    AllPub    Inside  ...           0        0    NaN    NaN   \n",
       "3            Lvl    AllPub    Corner  ...           0        0    NaN    NaN   \n",
       "4            Lvl    AllPub       FR2  ...           0        0    NaN    NaN   \n",
       "...          ...       ...       ...  ...         ...      ...    ...    ...   \n",
       "2912         Lvl    AllPub    Inside  ...           0        0    NaN    NaN   \n",
       "2913         Lvl    AllPub    Inside  ...           0        0    NaN    NaN   \n",
       "2914         Lvl    AllPub    Inside  ...           0        0    NaN    NaN   \n",
       "2915         Lvl    AllPub    Inside  ...           0        0    NaN  MnPrv   \n",
       "2916         Lvl    AllPub    Inside  ...           0        0    NaN    NaN   \n",
       "\n",
       "     MiscFeature MiscVal  MoSold  YrSold  SaleType  SaleCondition  \n",
       "0            NaN       0       2    2008        WD         Normal  \n",
       "1            NaN       0       5    2007        WD         Normal  \n",
       "2            NaN       0       9    2008        WD         Normal  \n",
       "3            NaN       0       2    2006        WD        Abnorml  \n",
       "4            NaN       0      12    2008        WD         Normal  \n",
       "...          ...     ...     ...     ...       ...            ...  \n",
       "2912         NaN       0       6    2006        WD         Normal  \n",
       "2913         NaN       0       4    2006        WD        Abnorml  \n",
       "2914         NaN       0       9    2006        WD        Abnorml  \n",
       "2915        Shed     700       7    2006        WD         Normal  \n",
       "2916         NaN       0      11    2006        WD         Normal  \n",
       "\n",
       "[2917 rows x 79 columns]"
      ]
     },
     "execution_count": 15,
     "metadata": {},
     "output_type": "execute_result"
    }
   ],
   "source": [
    "all_df = pd.concat([train, test]).reset_index(drop=True)\n",
    "all_df"
   ]
  },
  {
   "cell_type": "markdown",
   "metadata": {},
   "source": [
    "## 결측치 처리"
   ]
  },
  {
   "cell_type": "code",
   "execution_count": 16,
   "metadata": {},
   "outputs": [
    {
     "name": "stdout",
     "output_type": "stream",
     "text": [
      "결측치 데이터 칼럼과 건수:\n",
      "               Missing Ratio Data Type\n",
      "PoolQC            99.657182    object\n",
      "MiscFeature       96.400411    object\n",
      "Alley             93.212204    object\n",
      "Fence             80.425094    object\n",
      "FireplaceQu       48.680151    object\n",
      "LotFrontage       16.626671   float64\n",
      "GarageFinish       5.450806    object\n",
      "GarageQual         5.450806    object\n",
      "GarageCond         5.450806    object\n",
      "GarageYrBlt        5.450806   float64\n",
      "GarageType         5.382242    object\n",
      "BsmtExposure       2.811107    object\n",
      "BsmtCond           2.811107    object\n",
      "BsmtQual           2.776826    object\n",
      "BsmtFinType2       2.742544    object\n",
      "BsmtFinType1       2.708262    object\n",
      "MasVnrType         0.788481    object\n",
      "MasVnrArea         0.754200   float64\n",
      "MSZoning           0.137127    object\n",
      "BsmtFullBath       0.068564   float64\n"
     ]
    }
   ],
   "source": [
    "# 결측치를 확인해 비율로 계산한 뒤 내림차순으로 정렬함\n",
    "def check_na(data, head_num=10):\n",
    "    isnull_na=(data.isnull().sum()/len(data))*100\n",
    "    data_na=isnull_na.drop(isnull_na[isnull_na==0].index).sort_values(ascending=False)\n",
    "    missing_data=pd.DataFrame({'Missing Ratio':data_na,\n",
    "                                'Data Type': data.dtypes[data_na.index]})\n",
    "    print('결측치 데이터 칼럼과 건수:\\n', missing_data.head(head_num))\n",
    "check_na(all_df, 20)"
   ]
  },
  {
   "cell_type": "code",
   "execution_count": 17,
   "metadata": {},
   "outputs": [
    {
     "name": "stdout",
     "output_type": "stream",
     "text": [
      "결측치 데이터 칼럼과 건수:\n",
      "               Missing Ratio Data Type\n",
      "GarageCond         5.450806    object\n",
      "GarageQual         5.450806    object\n",
      "GarageYrBlt        5.450806   float64\n",
      "GarageFinish       5.450806    object\n",
      "GarageType         5.382242    object\n",
      "BsmtCond           2.811107    object\n",
      "BsmtExposure       2.811107    object\n",
      "BsmtQual           2.776826    object\n",
      "BsmtFinType2       2.742544    object\n",
      "BsmtFinType1       2.708262    object\n",
      "MasVnrType         0.788481    object\n",
      "MasVnrArea         0.754200   float64\n",
      "MSZoning           0.137127    object\n",
      "Functional         0.068564    object\n",
      "Utilities          0.068564    object\n",
      "BsmtFullBath       0.068564   float64\n",
      "BsmtHalfBath       0.068564   float64\n",
      "GarageArea         0.034282   float64\n",
      "GarageCars         0.034282   float64\n",
      "TotalBsmtSF        0.034282   float64\n"
     ]
    }
   ],
   "source": [
    "# 변수 제거\n",
    "all_df.drop(['PoolQC', 'MiscFeature', 'Alley', 'Fence', 'FireplaceQu', 'LotFrontage'], axis=1, inplace=True)\n",
    "check_na(all_df, 20)"
   ]
  },
  {
   "cell_type": "code",
   "execution_count": 18,
   "metadata": {},
   "outputs": [
    {
     "name": "stdout",
     "output_type": "stream",
     "text": [
      "all_vars: 43\n",
      "final_cat_vars: 38\n",
      "결측치 데이터 칼럼과 건수:\n",
      "               Missing Ratio Data Type\n",
      "GarageYrBlt        5.450806   float64\n",
      "MasVnrArea         0.754200   float64\n",
      "BsmtFullBath       0.068564   float64\n",
      "BsmtHalfBath       0.068564   float64\n",
      "BsmtFinSF1         0.034282   float64\n",
      "BsmtFinSF2         0.034282   float64\n",
      "BsmtUnfSF          0.034282   float64\n",
      "TotalBsmtSF        0.034282   float64\n",
      "GarageCars         0.034282   float64\n",
      "GarageArea         0.034282   float64\n"
     ]
    }
   ],
   "source": [
    "# 문자열 데이터 변환\n",
    "import numpy as np\n",
    "\n",
    "cat_all_vars = train.select_dtypes(exclude=[np.number])\n",
    "print('all_vars:', len(list(cat_all_vars))) \n",
    "\n",
    "final_cat_vars=[]\n",
    "for v in cat_all_vars:\n",
    "    if v not in ['PoolQC', 'MiscFeature', 'Alley', 'Fence', 'FireplaceQu', 'LotFrontage']:\n",
    "        final_cat_vars.append(v)\n",
    "print('final_cat_vars:', len(final_cat_vars))\n",
    "\n",
    "for i in final_cat_vars:\n",
    "    all_df[i] = all_df[i].fillna(all_df[i].mode()[0])\n",
    "\n",
    "check_na(all_df, 20)"
   ]
  },
  {
   "cell_type": "code",
   "execution_count": 19,
   "metadata": {},
   "outputs": [
    {
     "name": "stdout",
     "output_type": "stream",
     "text": [
      "all_vars: 36\n",
      "final_cat_vars: 35\n",
      "결측치 데이터 칼럼과 건수:\n",
      " Empty DataFrame\n",
      "Columns: [Missing Ratio, Data Type]\n",
      "Index: []\n"
     ]
    }
   ],
   "source": [
    "# 수치형 데이터 \n",
    "\n",
    "num_all_vars = list(train.select_dtypes(include=[np.number]))\n",
    "print('all_vars:', len(num_all_vars))\n",
    "\n",
    "num_all_vars.remove('LotFrontage')\n",
    "print('final_cat_vars:', len(num_all_vars))\n",
    "\n",
    "for i in num_all_vars:\n",
    "    all_df[i].fillna(value=all_df[i].median(), inplace=True)\n",
    "\n",
    "check_na(all_df, 20)\n"
   ]
  },
  {
   "cell_type": "code",
   "execution_count": 20,
   "metadata": {},
   "outputs": [
    {
     "data": {
      "text/plain": [
       "MiscVal          21.939672\n",
       "PoolArea         16.892477\n",
       "LotArea          12.867139\n",
       "LowQualFinSF     12.084539\n",
       "3SsnPorch        11.372080\n",
       "KitchenAbvGr      4.318923\n",
       "BsmtFinSF2        4.144503\n",
       "EnclosedPorch     4.013741\n",
       "ScreenPorch       3.945101\n",
       "BsmtHalfBath      3.929996\n",
       "MasVnrArea        2.615714\n",
       "OpenPorchSF       2.534326\n",
       "WoodDeckSF        1.841876\n",
       "1stFlrSF          1.469798\n",
       "BsmtFinSF1        1.429239\n",
       "MSSubClass        1.374726\n",
       "GrLivArea         1.271773\n",
       "TotalBsmtSF       1.165468\n",
       "BsmtUnfSF         0.919795\n",
       "2ndFlrSF          0.860643\n",
       "TotRmsAbvGrd      0.760404\n",
       "Fireplaces        0.734449\n",
       "HalfBath          0.695072\n",
       "BsmtFullBath      0.626733\n",
       "OverallCond       0.584601\n",
       "BedroomAbvGr      0.329555\n",
       "GarageArea        0.241611\n",
       "OverallQual       0.196514\n",
       "MoSold            0.195229\n",
       "FullBath          0.164226\n",
       "YrSold            0.132129\n",
       "GarageCars       -0.218309\n",
       "GarageYrBlt      -0.398311\n",
       "YearRemodAdd     -0.451063\n",
       "YearBuilt        -0.600023\n",
       "dtype: float64"
      ]
     },
     "execution_count": 20,
     "metadata": {},
     "output_type": "execute_result"
    }
   ],
   "source": [
    "# 수치형 데이터의 왜도 (내림차순으로 정렬)\n",
    "from scipy.stats import skew\n",
    "\n",
    "def find_skew(x):\n",
    "    return skew(x)\n",
    "skew_features = all_df[num_all_vars].apply(find_skew).sort_values(ascending=False)\n",
    "skew_features"
   ]
  },
  {
   "cell_type": "code",
   "execution_count": 21,
   "metadata": {},
   "outputs": [
    {
     "data": {
      "image/png": "[encoded data removed]",
      "text/plain": [
       "<Figure size 720x432 with 1 Axes>"
      ]
     },
     "metadata": {
      "needs_background": "light"
     },
     "output_type": "display_data"
    }
   ],
   "source": [
    "# 시각화\n",
    "skewnewss_index = list(skew_features.index)\n",
    "skewnewss_index.remove('LotArea')\n",
    "all_numeric_df = all_df.loc[:, skewnewss_index]\n",
    "\n",
    "fig, ax = plt.subplots(figsize=(10, 6))\n",
    "ax.set_xlim(0, all_numeric_df.max().sort_values(ascending=False)[0])\n",
    "ax=sns.boxplot(data=all_numeric_df[skewnewss_index], orient='h', palette='Set1')\n",
    "ax.xaxis.grid(False)\n",
    "ax.set(ylabel='Feature names')\n",
    "ax.set(xlabel='Numeric values')\n",
    "ax.set(title='Numeric Distribution of Feature Before Box-Cox Transformation')\n",
    "sns.despine(trim=True, left=True)"
   ]
  },
  {
   "cell_type": "markdown",
   "metadata": {},
   "source": [
    "* 왜도가 높으면 높을수록 box가 잘 나타나지 않는 것을 볼 수 있음.\n",
    "* 이렇게 가공되지 않은 수치형 변수들을 입력 변수로 활용하면\n",
    " 특히 수치형 데이터를 예측해야 하는 시점에서 선형 회귀와 같은 알고리즘을 사용할 때 입력값이 왜곡되어 떨어질 수도 있음\n",
    "* 이러한 경우 Box-Cox Transformation을 시도"
   ]
  },
  {
   "cell_type": "code",
   "execution_count": 22,
   "metadata": {},
   "outputs": [
    {
     "name": "stdout",
     "output_type": "stream",
     "text": [
      "before Box-Cox Transformation: \n",
      "    MiscVal  PoolArea  LotArea  LowQualFinSF  3SsnPorch  KitchenAbvGr  \\\n",
      "0        0         0     8450             0          0             1   \n",
      "1        0         0     9600             0          0             1   \n",
      "2        0         0    11250             0          0             1   \n",
      "3        0         0     9550             0          0             1   \n",
      "4        0         0    14260             0          0             1   \n",
      "\n",
      "   BsmtFinSF2  EnclosedPorch  ScreenPorch  BsmtHalfBath  MasVnrArea  \\\n",
      "0         0.0              0            0           0.0       196.0   \n",
      "1         0.0              0            0           1.0         0.0   \n",
      "2         0.0              0            0           0.0       162.0   \n",
      "3         0.0            272            0           0.0         0.0   \n",
      "4         0.0              0            0           0.0       350.0   \n",
      "\n",
      "   OpenPorchSF  WoodDeckSF  1stFlrSF  BsmtFinSF1  MSSubClass  GrLivArea  \\\n",
      "0           61           0       856       706.0          60       1710   \n",
      "1            0         298      1262       978.0          20       1262   \n",
      "2           42           0       920       486.0          60       1786   \n",
      "3           35           0       961       216.0          70       1717   \n",
      "4           84         192      1145       655.0          60       2198   \n",
      "\n",
      "   TotalBsmtSF  \n",
      "0        856.0  \n",
      "1       1262.0  \n",
      "2        920.0  \n",
      "3        756.0  \n",
      "4       1145.0  \n",
      "after Box-Cox Transformation: \n",
      "    MiscVal  PoolArea    LotArea  LowQualFinSF  3SsnPorch  KitchenAbvGr  \\\n",
      "0      0.0       0.0  13.454344           0.0        0.0      0.751171   \n",
      "1      0.0       0.0  13.725427           0.0        0.0      0.751171   \n",
      "2      0.0       0.0  14.066408           0.0        0.0      0.751171   \n",
      "3      0.0       0.0  13.714276           0.0        0.0      0.751171   \n",
      "4      0.0       0.0  14.584552           0.0        0.0      0.751171   \n",
      "\n",
      "   BsmtFinSF2  EnclosedPorch  ScreenPorch  BsmtHalfBath  MasVnrArea  \\\n",
      "0         0.0       0.000000          0.0      0.000000   19.354903   \n",
      "1         0.0       0.000000          0.0      0.710895    0.000000   \n",
      "2         0.0       0.000000          0.0      0.000000   17.700377   \n",
      "3         0.0      15.969111          0.0      0.000000    0.000000   \n",
      "4         0.0       0.000000          0.0      0.000000   25.288039   \n",
      "\n",
      "   OpenPorchSF  WoodDeckSF  1stFlrSF  BsmtFinSF1  MSSubClass  GrLivArea  \\\n",
      "0    12.013310    0.000000  5.352552  117.769556    6.505897   7.219263   \n",
      "1     0.000000   56.354939  5.588156  146.691766    4.252612   6.933523   \n",
      "2     9.851937    0.000000  5.396805   91.512847    6.505897   7.260109   \n",
      "3     8.924100    0.000000  5.423455   52.746067    6.869386   7.223101   \n",
      "4    14.185079   42.362008  5.529711  111.959417    6.505897   7.454891   \n",
      "\n",
      "   TotalBsmtSF  \n",
      "0   294.614906  \n",
      "1   404.051526  \n",
      "2   312.423531  \n",
      "3   266.274258  \n",
      "4   373.304528  \n"
     ]
    },
    {
     "name": "stderr",
     "output_type": "stream",
     "text": [
      "C:\\ProgramData\\Anaconda3\\lib\\site-packages\\scipy\\stats\\stats.py:3913: PearsonRConstantInputWarning: An input array is constant; the correlation coefficent is not defined.\n",
      "  warnings.warn(PearsonRConstantInputWarning())\n",
      "C:\\ProgramData\\Anaconda3\\lib\\site-packages\\scipy\\stats\\stats.py:3943: PearsonRNearConstantInputWarning: An input array is nearly constant; the computed correlation coefficent may be inaccurate.\n",
      "  warnings.warn(PearsonRNearConstantInputWarning())\n"
     ]
    }
   ],
   "source": [
    "from scipy.special import boxcox1p\n",
    "from scipy.stats import boxcox_normmax\n",
    "\n",
    "high_skew = skew_features[skew_features>1]\n",
    "high_skew_index = high_skew.index\n",
    "print('before Box-Cox Transformation: \\n', all_df[high_skew_index].head())\n",
    "\n",
    "for num_var in high_skew_index:\n",
    "    all_df[num_var]=boxcox1p(all_df[num_var], boxcox_normmax(all_df[num_var]+1))\n",
    "\n",
    "print('after Box-Cox Transformation: \\n' , all_df[high_skew_index].head())\n"
   ]
  },
  {
   "cell_type": "markdown",
   "metadata": {},
   "source": [
    "## 도출 변수 생성"
   ]
  },
  {
   "cell_type": "code",
   "execution_count": 23,
   "metadata": {},
   "outputs": [
    {
     "name": "stdout",
     "output_type": "stream",
     "text": [
      "(2917, 74)\n"
     ]
    }
   ],
   "source": [
    "# 새로운 변수 생성 후 기존 변수 삭제 \n",
    "all_df['TotalSF']=all_df['TotalBsmtSF']+all_df['1stFlrSF']+all_df['2ndFlrSF']\n",
    "all_df.drop(['TotalBsmtSF', '1stFlrSF', '2ndFlrSF'], axis=1)\n",
    "\n",
    "print(all_df.shape)"
   ]
  },
  {
   "cell_type": "code",
   "execution_count": 24,
   "metadata": {},
   "outputs": [
    {
     "name": "stdout",
     "output_type": "stream",
     "text": [
      "(2917, 68)\n"
     ]
    }
   ],
   "source": [
    "# 0.5는 Half의 의미를 포함하는 것으로 추가함\n",
    "all_df['Total_Bathrooms']=(all_df['FullBath']+(0.5*all_df['HalfBath'])+all_df['BsmtFullBath']+(0.5*all_df['BsmtHalfBath']))\n",
    "\n",
    "all_df['Total_porch_sf']=(all_df['OpenPorchSF']+all_df['3SsnPorch']+all_df['EnclosedPorch']+all_df['ScreenPorch'])\n",
    "\n",
    "all_df = all_df.drop(['FullBath', 'HalfBath', 'BsmtFullBath', 'BsmtHalfBath',\n",
    "                      'OpenPorchSF', '3SsnPorch', 'EnclosedPorch', 'ScreenPorch'], axis=1)\n",
    "\n",
    "print(all_df.shape)\n"
   ]
  },
  {
   "cell_type": "code",
   "execution_count": 25,
   "metadata": {},
   "outputs": [
    {
     "name": "stdout",
     "output_type": "stream",
     "text": [
      "MSSubClass is not related with Year\n",
      "LotFrontage is not related with Year\n",
      "LotArea is not related with Year\n",
      "OverallQual is not related with Year\n",
      "OverallCond is not related with Year\n",
      "MasVnrArea is not related with Year\n",
      "BsmtFinSF1 is not related with Year\n",
      "BsmtFinSF2 is not related with Year\n",
      "BsmtUnfSF is not related with Year\n",
      "TotalBsmtSF is not related with Year\n",
      "1stFlrSF is not related with Year\n",
      "2ndFlrSF is not related with Year\n",
      "LowQualFinSF is not related with Year\n",
      "GrLivArea is not related with Year\n",
      "BsmtFullBath is not related with Year\n",
      "BsmtHalfBath is not related with Year\n",
      "FullBath is not related with Year\n",
      "HalfBath is not related with Year\n",
      "BedroomAbvGr is not related with Year\n",
      "KitchenAbvGr is not related with Year\n",
      "TotRmsAbvGrd is not related with Year\n",
      "Fireplaces is not related with Year\n",
      "GarageCars is not related with Year\n",
      "GarageArea is not related with Year\n",
      "WoodDeckSF is not related with Year\n",
      "OpenPorchSF is not related with Year\n",
      "EnclosedPorch is not related with Year\n",
      "3SsnPorch is not related with Year\n",
      "ScreenPorch is not related with Year\n",
      "PoolArea is not related with Year\n",
      "MiscVal is not related with Year\n",
      "MoSold is not related with Year\n",
      "['YearBuilt', 'YearRemodAdd', 'GarageYrBlt', 'YrSold']\n"
     ]
    }
   ],
   "source": [
    "# 연도와 관련 있는 변수를 추출\n",
    "\n",
    "num_all_vars=list(train.select_dtypes(include=[np.number]))\n",
    "year_feature=[]\n",
    "for var in num_all_vars:\n",
    "    if 'Yr' in var:\n",
    "        year_feature.append(var)\n",
    "    elif 'Year' in var:\n",
    "        year_feature.append(var)\n",
    "    else:\n",
    "        print(var, 'is not related with Year')\n",
    "print(year_feature)"
   ]
  },
  {
   "cell_type": "code",
   "execution_count": 26,
   "metadata": {},
   "outputs": [
    {
     "data": {
      "image/png": "[encoded data removed]",
      "text/plain": [
       "<Figure size 720x432 with 3 Axes>"
      ]
     },
     "metadata": {
      "needs_background": "light"
     },
     "output_type": "display_data"
    }
   ],
   "source": [
    "# SalePrice와 연관지어서 시각화 \n",
    "fig, ax= plt.subplots(3, 1, figsize=(10, 6), sharex=True, sharey=True)\n",
    "for i, var in enumerate(year_feature):\n",
    "    if var != 'YrSold':\n",
    "        ax[i].scatter(train[var], y, alpha=0.3)\n",
    "        ax[i].set_title('{}'.format(var), size=15)\n",
    "        ax[i].set_ylabel('SalePrice', size=15, labelpad=12.5)\n",
    "plt.tight_layout()\n",
    "plt.show()"
   ]
  },
  {
   "cell_type": "markdown",
   "metadata": {},
   "source": [
    "* 2000년대로 올수록 SalePrice의 가격이 모두 우측으로 상향하는 것을 볼 수 있음\n",
    "* 리모델링만 기준삼고 나머지 변수는 삭제합니다"
   ]
  },
  {
   "cell_type": "code",
   "execution_count": 27,
   "metadata": {},
   "outputs": [
    {
     "name": "stdout",
     "output_type": "stream",
     "text": [
      "(2917, 66)\n"
     ]
    }
   ],
   "source": [
    "all_df=all_df.drop(['YearBuilt', 'GarageYrBlt'], axis=1)\n",
    "print(all_df.shape)"
   ]
  },
  {
   "cell_type": "code",
   "execution_count": 28,
   "metadata": {},
   "outputs": [
    {
     "name": "stderr",
     "output_type": "stream",
     "text": [
      "<ipython-input-28-db3c3f886b37>:7: UserWarning: Matplotlib is currently using module://ipykernel.pylab.backend_inline, which is a non-GUI backend, so cannot show the figure.\n",
      "  fig.show()\n"
     ]
    },
    {
     "data": {
      "image/png": "[encoded data removed]",
      "text/plain": [
       "<Figure size 720x432 with 1 Axes>"
      ]
     },
     "metadata": {
      "needs_background": "light"
     },
     "output_type": "display_data"
    }
   ],
   "source": [
    "# YrSold와 YearRemodAdd 연도 차이 값에 대한 도출 변수 생성 \n",
    "# 도출된 값이 클수록 SalePrice의 값이 하향하는 그래프 기대\n",
    "YearSinceRemodel=train['YrSold'].astype(int)-train['YearRemodAdd'].astype(int)\n",
    "\n",
    "fig, ax=plt.subplots(figsize=(10, 6))\n",
    "ax.scatter(YearSinceRemodel, y, alpha=0.3)\n",
    "fig.show()"
   ]
  },
  {
   "cell_type": "code",
   "execution_count": 29,
   "metadata": {},
   "outputs": [
    {
     "name": "stdout",
     "output_type": "stream",
     "text": [
      "(2917, 65)\n"
     ]
    }
   ],
   "source": [
    "# 차이 값 저장하는 코드 작성 후, YrSold와 YearRemodAdd 변수 삭제\n",
    "\n",
    "all_df['YearSinceRemodel']=all_df['YrSold'].astype(int)-all_df['YearRemodAdd'].astype(int)\n",
    "\n",
    "all_df=all_df.drop(['YrSold', 'YearRemodAdd'], axis=1)\n",
    "\n",
    "print(all_df.shape)\n"
   ]
  },
  {
   "cell_type": "markdown",
   "metadata": {},
   "source": [
    "## 더미 변수의 응용"
   ]
  },
  {
   "cell_type": "code",
   "execution_count": 30,
   "metadata": {},
   "outputs": [
    {
     "data": {
      "text/plain": [
       "0.000000    2904\n",
       "4.721829       1\n",
       "6.048366       1\n",
       "5.922801       1\n",
       "5.913421       1\n",
       "5.718338       1\n",
       "5.843016       1\n",
       "5.945809       1\n",
       "5.854879       1\n",
       "5.130821       1\n",
       "5.553561       1\n",
       "6.231252       1\n",
       "5.786591       1\n",
       "6.161330       1\n",
       "Name: PoolArea, dtype: int64"
      ]
     },
     "execution_count": 30,
     "metadata": {},
     "output_type": "execute_result"
    }
   ],
   "source": [
    "all_df['PoolArea'].value_counts()"
   ]
  },
  {
   "cell_type": "code",
   "execution_count": 31,
   "metadata": {},
   "outputs": [
    {
     "data": {
      "text/plain": [
       "0    2904\n",
       "1      13\n",
       "Name: PoolArea, dtype: int64"
      ]
     },
     "execution_count": 31,
     "metadata": {},
     "output_type": "execute_result"
    }
   ],
   "source": [
    "# Data Binding - 연속형 변수를 재그룹화하는 개념\n",
    "def count_dummy(x):\n",
    "    if x>0:\n",
    "        return 1\n",
    "    else:\n",
    "        return 0\n",
    "\n",
    "all_df['PoolArea']=all_df['PoolArea'].apply(count_dummy)\n",
    "all_df['PoolArea'].value_counts()"
   ]
  },
  {
   "cell_type": "code",
   "execution_count": 32,
   "metadata": {},
   "outputs": [
    {
     "data": {
      "text/plain": [
       "1    2760\n",
       "0     157\n",
       "Name: GarageArea, dtype: int64"
      ]
     },
     "execution_count": 32,
     "metadata": {},
     "output_type": "execute_result"
    }
   ],
   "source": [
    "# GarageArea 변수와 Fireplaces 변수에도 적용\n",
    "all_df['GarageArea'] = all_df['GarageArea'].apply(count_dummy)\n",
    "all_df['GarageArea'].value_counts()"
   ]
  },
  {
   "cell_type": "code",
   "execution_count": 33,
   "metadata": {},
   "outputs": [
    {
     "data": {
      "text/plain": [
       "1    1497\n",
       "0    1420\n",
       "Name: Fireplaces, dtype: int64"
      ]
     },
     "execution_count": 33,
     "metadata": {},
     "output_type": "execute_result"
    }
   ],
   "source": [
    "all_df['Fireplaces'] = all_df['Fireplaces'].apply(count_dummy)\n",
    "all_df['Fireplaces'].value_counts()\n"
   ]
  },
  {
   "cell_type": "code",
   "execution_count": 34,
   "metadata": {},
   "outputs": [
    {
     "name": "stdout",
     "output_type": "stream",
     "text": [
      "['Apple', 'Chicken', 'Broccoli'] ===> [0 2 1]\n"
     ]
    }
   ],
   "source": [
    "# Label Encoding - 문자열 데이터를 각 범주의 개수에 따라 숫자로 변환\n",
    "# ex) FoodName 내 값의 개수가 10개 -> 1~10으로 변환되어 저장\n",
    "\n",
    "from sklearn.preprocessing import LabelEncoder\n",
    "\n",
    "temp = pd.DataFrame({'Food_Name': ['Apple', 'Chicken', 'Broccoli'],\n",
    "                      'Calories': [95, 231, 50]})\n",
    "\n",
    "encoder=LabelEncoder()\n",
    "encoder.fit(temp['Food_Name'])\n",
    "labels = encoder.transform(temp['Food_Name'])\n",
    "print(list(temp['Food_Name']), \"===>\", labels)"
   ]
  },
  {
   "cell_type": "code",
   "execution_count": 35,
   "metadata": {},
   "outputs": [
    {
     "name": "stdout",
     "output_type": "stream",
     "text": [
      "['Apple', 'Chicken', 'Broccoli'] ===> [[0.0], [2.0], [1.0]]\n"
     ]
    }
   ],
   "source": [
    "# OrdinalEncoding - 입력하는 형태를 배열로 바꿔야 하며, 반환값의 형태로 실수형이 출력\n",
    "\n",
    "from sklearn.preprocessing import OrdinalEncoder\n",
    "\n",
    "temp = pd.DataFrame({'Food_Name': ['Apple', 'Chicken', 'Broccoli'],\n",
    "                     'Calories': [95, 231, 50]})\n",
    "\n",
    "encoder = OrdinalEncoder()\n",
    "labels = encoder.fit_transform(temp[['Food_Name']])\n",
    "print(list(temp['Food_Name']), \"===>\", labels.tolist())\n"
   ]
  },
  {
   "cell_type": "code",
   "execution_count": 36,
   "metadata": {},
   "outputs": [
    {
     "name": "stdout",
     "output_type": "stream",
     "text": [
      "  Food_Name  Food_No\n",
      "0     Apple        3\n",
      "1   Chicken        1\n",
      "2  Broccoli        2\n"
     ]
    }
   ],
   "source": [
    "import pandas as pd\n",
    "temp = pd.DataFrame({'Food_Name': ['Apple', 'Chicken', 'Broccoli'],\n",
    "                     'Calories': [95, 231, 50]})\n",
    "\n",
    "temp[['Food_No']] = temp.Food_Name.replace(to_replace=['Chicken', 'Broccoli', 'Apple'],\n",
    "                                           value=[1, 2, 3])\n",
    "\n",
    "print(temp[['Food_Name', 'Food_No']])\n"
   ]
  },
  {
   "cell_type": "code",
   "execution_count": 37,
   "metadata": {},
   "outputs": [
    {
     "name": "stdout",
     "output_type": "stream",
     "text": [
      "   Calories  Food_Name_Apple  Food_Name_Broccoli  Food_Name_Chicken\n",
      "0        95                1                   0                  0\n",
      "1       231                0                   0                  1\n",
      "2        50                0                   1                  0\n",
      "(3, 4)\n"
     ]
    }
   ],
   "source": [
    "import pandas as pd\n",
    "\n",
    "temp = pd.DataFrame({'Food_Name': ['Apple', 'Chicken', 'Broccoli'],\n",
    "                     'Calories': [95, 231, 50]})\n",
    "\n",
    "temp = pd.get_dummies(temp)\n",
    "print(temp)\n",
    "print(temp.shape)\n"
   ]
  },
  {
   "cell_type": "code",
   "execution_count": 38,
   "metadata": {},
   "outputs": [
    {
     "data": {
      "text/plain": [
       "(2917, 261)"
      ]
     },
     "execution_count": 38,
     "metadata": {},
     "output_type": "execute_result"
    }
   ],
   "source": [
    "all_df = pd.get_dummies(all_df).reset_index(drop=True)\n",
    "all_df.shape\n"
   ]
  },
  {
   "cell_type": "markdown",
   "metadata": {},
   "source": [
    "## 머신러닝 모형 학습 및 평가"
   ]
  },
  {
   "cell_type": "code",
   "execution_count": 39,
   "metadata": {},
   "outputs": [
    {
     "data": {
      "text/plain": [
       "((1458, 261), (1458,), (1459, 261))"
      ]
     },
     "execution_count": 39,
     "metadata": {},
     "output_type": "execute_result"
    }
   ],
   "source": [
    "# 데이터셋 분리 및 교차 검증\n",
    "X = all_df.iloc[:len(y), :]\n",
    "X_test = all_df.iloc[len(y):, :]\n",
    "X.shape, y.shape, X_test.shape\n"
   ]
  },
  {
   "cell_type": "code",
   "execution_count": 40,
   "metadata": {},
   "outputs": [
    {
     "data": {
      "text/plain": [
       "((1093, 261), (365, 261), (1093,), (365,))"
      ]
     },
     "execution_count": 40,
     "metadata": {},
     "output_type": "execute_result"
    }
   ],
   "source": [
    "from sklearn.model_selection import train_test_split\n",
    "X_train, X_test, y_train, y_test = train_test_split(\n",
    "    X, y, test_size=0.25, random_state=0)\n",
    "X_train.shape, X_test.shape, y_train.shape, y_test.shape\n"
   ]
  },
  {
   "cell_type": "markdown",
   "metadata": {},
   "source": [
    "### 평가지표"
   ]
  },
  {
   "cell_type": "code",
   "execution_count": 41,
   "metadata": {},
   "outputs": [],
   "source": [
    "# MAE\n",
    "import numpy as np\n",
    "\n",
    "\n",
    "def mean_absolute_error(y_true, y_pred):\n",
    "\n",
    "  error = 0\n",
    "  for yt, yp in zip(y_true, y_pred):\n",
    "    error = error + np.abs(yt-yp)\n",
    "\n",
    "  mae = error / len(y_true)\n",
    "  return mae\n"
   ]
  },
  {
   "cell_type": "code",
   "execution_count": 42,
   "metadata": {},
   "outputs": [],
   "source": [
    "# MSE\n",
    "import numpy as np\n",
    "\n",
    "\n",
    "def mean_squared_error(y_true, y_pred):\n",
    "\n",
    "  error = 0\n",
    "  for yt, yp in zip(y_true, y_pred):\n",
    "    error = error + (yt - yp) ** 2\n",
    "\n",
    "  mse = error / len(y_true)\n",
    "  return mse\n"
   ]
  },
  {
   "cell_type": "code",
   "execution_count": 43,
   "metadata": {},
   "outputs": [],
   "source": [
    "# RMSE\n",
    "import numpy as np\n",
    "\n",
    "\n",
    "def root_rmse_squared_error(y_true, ypred):\n",
    "  error = 0\n",
    "\n",
    "  for yt, yp in zip(y_true, y_pred):\n",
    "    error = error + (yt - yp) ** 2\n",
    "\n",
    "  mse = error / len(y_true)\n",
    "  rmse = np.round(np.sqrt(mse), 3)\n",
    "  return rmse\n"
   ]
  },
  {
   "cell_type": "code",
   "execution_count": 44,
   "metadata": {},
   "outputs": [
    {
     "name": "stdout",
     "output_type": "stream",
     "text": [
      "MAE: 21.0\n",
      "MSE: 443.0\n",
      "RMSE: 21.048\n"
     ]
    }
   ],
   "source": [
    "# Test 1\n",
    "y_true = [400, 300, 800]\n",
    "y_pred = [380, 320, 777]\n",
    "\n",
    "print(\"MAE:\", mean_absolute_error(y_true, y_pred))\n",
    "print(\"MSE:\", mean_squared_error(y_true, y_pred))\n",
    "print(\"RMSE:\", root_rmse_squared_error(y_true, y_pred))\n"
   ]
  },
  {
   "cell_type": "code",
   "execution_count": 45,
   "metadata": {},
   "outputs": [
    {
     "name": "stdout",
     "output_type": "stream",
     "text": [
      "MAE: 90.75\n",
      "MSE: 22832.25\n",
      "RMSE: 151.103\n"
     ]
    }
   ],
   "source": [
    "# Test 2\n",
    "y_true = [400, 300, 800, 900]\n",
    "y_pred = [380, 320, 777, 600]\n",
    "\n",
    "print(\"MAE:\", mean_absolute_error(y_true, y_pred))\n",
    "print(\"MSE:\", mean_squared_error(y_true, y_pred))\n",
    "print(\"RMSE:\", root_rmse_squared_error(y_true, y_pred))\n"
   ]
  },
  {
   "cell_type": "code",
   "execution_count": 46,
   "metadata": {},
   "outputs": [],
   "source": [
    "# RMSE\n",
    "from sklearn.metrics import mean_squared_error\n",
    "\n",
    "\n",
    "def rmsle(y_true, y_pred):\n",
    "    return np.sqrt(mean_squared_error(y_true, y_pred))\n"
   ]
  },
  {
   "cell_type": "markdown",
   "metadata": {},
   "source": [
    "## 모형 정의 및 검증 평가\n"
   ]
  },
  {
   "cell_type": "code",
   "execution_count": 63,
   "metadata": {},
   "outputs": [],
   "source": [
    "from sklearn.metrics import mean_squared_error\n",
    "from sklearn.model_selection import KFold, cross_val_score\n",
    "from sklearn.linear_model import LinearRegression\n",
    "\n",
    "\n",
    "def cv_rmse(model, n_folds=5):\n",
    "    cv = KFold(n_splits=n_folds, random_state=42, shuffle=True)\n",
    "    rmse_list = np.sqrt(-cross_val_score(model, X, y,\n",
    "                        scoring='neg_mean_squared_error', cv=cv))\n",
    "    print('CV RMSE value list:', np.round(rmse_list, 4))\n",
    "    print('CV RMSE mean value:', np.round(np.mean(rmse_list), 4))\n",
    "    return (rmse_list)\n",
    "\n",
    "\n",
    "n_folds = 5\n",
    "rmse_scores = {}\n",
    "lr_model = LinearRegression()\n"
   ]
  },
  {
   "cell_type": "code",
   "execution_count": 64,
   "metadata": {},
   "outputs": [
    {
     "name": "stdout",
     "output_type": "stream",
     "text": [
      "CV RMSE value list: [  3698.9735  10501.1926  47737.4103 269031.6096   6553.2519]\n",
      "CV RMSE mean value: 67504.4876\n",
      "linear regression - mean: 67504.4876 (std: 102019.1067)\n"
     ]
    }
   ],
   "source": [
    "score = cv_rmse(lr_model, n_folds)\n",
    "print(\n",
    "    \"linear regression - mean: {:.4f} (std: {:.4f})\".format(score.mean(), score.std()))\n",
    "rmse_scores['linear regression'] = (score.mean(), score.std())\n"
   ]
  },
  {
   "cell_type": "markdown",
   "metadata": {},
   "source": [
    "## 첫번째 최종 예측 값 제출"
   ]
  },
  {
   "cell_type": "code",
   "execution_count": 49,
   "metadata": {},
   "outputs": [
    {
     "name": "stdout",
     "output_type": "stream",
     "text": [
      "[116863. 157901. 187931. ... 175204. 115955. 217724.]\n"
     ]
    },
    {
     "name": "stderr",
     "output_type": "stream",
     "text": [
      "<ipython-input-49-b202750c01c7>:8: RuntimeWarning: overflow encountered in expm1\n",
      "  final_preds = np.floor(np.expm1(lr_model_fit.predict(X_test)))\n"
     ]
    }
   ],
   "source": [
    "from sklearn.model_selection import cross_val_predict\n",
    "\n",
    "X = all_df.iloc[:len(y), :]\n",
    "X_test = all_df.iloc[len(y):, :]\n",
    "X.shape, y.shape, X_test.shape\n",
    "\n",
    "lr_model_fit = lr_model.fit(X, y)\n",
    "final_preds = np.floor(np.expm1(lr_model_fit.predict(X_test)))\n",
    "print(final_preds)\n"
   ]
  },
  {
   "cell_type": "code",
   "execution_count": 51,
   "metadata": {},
   "outputs": [
    {
     "name": "stdout",
     "output_type": "stream",
     "text": [
      "     Id  SalePrice\n",
      "0  1461   116863.0\n",
      "1  1462   157901.0\n",
      "2  1463   187931.0\n",
      "3  1464   197369.0\n",
      "4  1465   200221.0\n"
     ]
    }
   ],
   "source": [
    "submission = pd.read_csv(\n",
    "    \"house-prices-advanced-regression-techniques/sample_submission.csv\")\n",
    "submission.iloc[:, 1] = final_preds\n",
    "print(submission.head())\n",
    "submission.to_csv(\"The_first_regression.csv\", index=False)\n"
   ]
  },
  {
   "cell_type": "code",
   "execution_count": 52,
   "metadata": {},
   "outputs": [],
   "source": [
    "### 모형 알고리즘 추가\n",
    "from sklearn.ensemble import RandomForestRegressor, GradientBoostingRegressor\n",
    "from sklearn.tree import DecisionTreeRegressor\n",
    "from sklearn.linear_model import LinearRegression\n",
    "\n",
    "# LinearRegresison\n",
    "lr_model = LinearRegression()\n",
    "\n",
    "# Tree Decision \n",
    "tree_model = DecisionTreeRegressor()\n",
    "\n",
    "# Random Forest Regressor\n",
    "rf_model = RandomForestRegressor()\n",
    "\n",
    "# Gradient Boosting Regressor\n",
    "gbr_model = GradientBoostingRegressor()"
   ]
  },
  {
   "cell_type": "code",
   "execution_count": 62,
   "metadata": {},
   "outputs": [
    {
     "name": "stdout",
     "output_type": "stream",
     "text": [
      "CV RMSE value list: [  3698.9735  10501.1926  47737.4103 269031.6096   6553.2519]\n",
      "CV RMSE mean value: 67504.4876\n",
      "linear regression - mean: 67504.4876 (std: 102019.1067)\n"
     ]
    }
   ],
   "source": [
    "score = cv_rmse(lr_model, n_folds)\n",
    "print(\n",
    "    \"linear regression - mean: {:.4f} (std: {:.4f})\".format(score.mean(), score.std()))\n",
    "rmse_scores['linear regression'] = (score.mean(), score.std())\n"
   ]
  },
  {
   "cell_type": "code",
   "execution_count": 57,
   "metadata": {},
   "outputs": [
    {
     "name": "stdout",
     "output_type": "stream",
     "text": [
      "CV RMSE value list: [0.2088 0.1977 0.2215 0.2026 0.1742]\n",
      "CV RMSE mean value: 0.201\n",
      "Decision Tree Regressor - mean: 0.2010 (std: 0.0156)\n"
     ]
    }
   ],
   "source": [
    "score = cv_rmse(tree_model, n_folds)\n",
    "print(\n",
    "    \"Decision Tree Regressor - mean: {:.4f} (std: {:.4f})\".format(score.mean(), score.std()))\n",
    "rmse_scores['Decision Tree Regressor'] = (score.mean(), score.std())\n"
   ]
  },
  {
   "cell_type": "code",
   "execution_count": 58,
   "metadata": {},
   "outputs": [
    {
     "name": "stdout",
     "output_type": "stream",
     "text": [
      "CV RMSE value list: [0.1471 0.1536 0.1452 0.1367 0.1261]\n",
      "CV RMSE mean value: 0.1418\n",
      "RandomForest Regressor - mean: 0.1418 (std: 0.0095)\n"
     ]
    }
   ],
   "source": [
    "score = cv_rmse(rf_model, n_folds)\n",
    "print(\n",
    "    \"RandomForest Regressor - mean: {:.4f} (std: {:.4f})\".format(score.mean(), score.std()))\n",
    "rmse_scores['RandomForest Regressor'] = (score.mean(), score.std())\n"
   ]
  },
  {
   "cell_type": "code",
   "execution_count": 59,
   "metadata": {},
   "outputs": [
    {
     "name": "stdout",
     "output_type": "stream",
     "text": [
      "CV RMSE value list: [0.1408 0.1375 0.1369 0.1218 0.1143]\n",
      "CV RMSE mean value: 0.1303\n",
      "Gradient Boosting Regressor - mean: 0.1303 (std: 0.0103)\n"
     ]
    }
   ],
   "source": [
    "score = cv_rmse(gbr_model, n_folds)\n",
    "print(\n",
    "    \"Gradient Boosting Regressor - mean: {:.4f} (std: {:.4f})\".format(score.mean(), score.std()))\n",
    "rmse_scores['Gradient Boosting Regressor'] = (score.mean(), score.std())\n"
   ]
  },
  {
   "cell_type": "code",
   "execution_count": 60,
   "metadata": {},
   "outputs": [
    {
     "name": "stderr",
     "output_type": "stream",
     "text": [
      "<ipython-input-60-195374f3034b>:16: UserWarning: Matplotlib is currently using module://ipykernel.pylab.backend_inline, which is a non-GUI backend, so cannot show the figure.\n",
      "  fig.show()\n"
     ]
    },
    {
     "ename": "ValueError",
     "evalue": "Image size of 657x88069163 pixels is too large. It must be less than 2^16 in each direction.",
     "output_type": "error",
     "traceback": [
      "\u001b[1;31m---------------------------------------------------------------------------\u001b[0m",
      "\u001b[1;31mValueError\u001b[0m                                Traceback (most recent call last)",
      "\u001b[1;32mC:\\ProgramData\\Anaconda3\\lib\\site-packages\\IPython\\core\\formatters.py\u001b[0m in \u001b[0;36m__call__\u001b[1;34m(self, obj)\u001b[0m\n\u001b[0;32m    339\u001b[0m                 \u001b[1;32mpass\u001b[0m\u001b[1;33m\u001b[0m\u001b[1;33m\u001b[0m\u001b[0m\n\u001b[0;32m    340\u001b[0m             \u001b[1;32melse\u001b[0m\u001b[1;33m:\u001b[0m\u001b[1;33m\u001b[0m\u001b[1;33m\u001b[0m\u001b[0m\n\u001b[1;32m--> 341\u001b[1;33m                 \u001b[1;32mreturn\u001b[0m \u001b[0mprinter\u001b[0m\u001b[1;33m(\u001b[0m\u001b[0mobj\u001b[0m\u001b[1;33m)\u001b[0m\u001b[1;33m\u001b[0m\u001b[1;33m\u001b[0m\u001b[0m\n\u001b[0m\u001b[0;32m    342\u001b[0m             \u001b[1;31m# Finally look for special method names\u001b[0m\u001b[1;33m\u001b[0m\u001b[1;33m\u001b[0m\u001b[1;33m\u001b[0m\u001b[0m\n\u001b[0;32m    343\u001b[0m             \u001b[0mmethod\u001b[0m \u001b[1;33m=\u001b[0m \u001b[0mget_real_method\u001b[0m\u001b[1;33m(\u001b[0m\u001b[0mobj\u001b[0m\u001b[1;33m,\u001b[0m \u001b[0mself\u001b[0m\u001b[1;33m.\u001b[0m\u001b[0mprint_method\u001b[0m\u001b[1;33m)\u001b[0m\u001b[1;33m\u001b[0m\u001b[1;33m\u001b[0m\u001b[0m\n",
      "\u001b[1;32mC:\\ProgramData\\Anaconda3\\lib\\site-packages\\IPython\\core\\pylabtools.py\u001b[0m in \u001b[0;36m<lambda>\u001b[1;34m(fig)\u001b[0m\n\u001b[0;32m    246\u001b[0m \u001b[1;33m\u001b[0m\u001b[0m\n\u001b[0;32m    247\u001b[0m     \u001b[1;32mif\u001b[0m \u001b[1;34m'png'\u001b[0m \u001b[1;32min\u001b[0m \u001b[0mformats\u001b[0m\u001b[1;33m:\u001b[0m\u001b[1;33m\u001b[0m\u001b[1;33m\u001b[0m\u001b[0m\n\u001b[1;32m--> 248\u001b[1;33m         \u001b[0mpng_formatter\u001b[0m\u001b[1;33m.\u001b[0m\u001b[0mfor_type\u001b[0m\u001b[1;33m(\u001b[0m\u001b[0mFigure\u001b[0m\u001b[1;33m,\u001b[0m \u001b[1;32mlambda\u001b[0m \u001b[0mfig\u001b[0m\u001b[1;33m:\u001b[0m \u001b[0mprint_figure\u001b[0m\u001b[1;33m(\u001b[0m\u001b[0mfig\u001b[0m\u001b[1;33m,\u001b[0m \u001b[1;34m'png'\u001b[0m\u001b[1;33m,\u001b[0m \u001b[1;33m**\u001b[0m\u001b[0mkwargs\u001b[0m\u001b[1;33m)\u001b[0m\u001b[1;33m)\u001b[0m\u001b[1;33m\u001b[0m\u001b[1;33m\u001b[0m\u001b[0m\n\u001b[0m\u001b[0;32m    249\u001b[0m     \u001b[1;32mif\u001b[0m \u001b[1;34m'retina'\u001b[0m \u001b[1;32min\u001b[0m \u001b[0mformats\u001b[0m \u001b[1;32mor\u001b[0m \u001b[1;34m'png2x'\u001b[0m \u001b[1;32min\u001b[0m \u001b[0mformats\u001b[0m\u001b[1;33m:\u001b[0m\u001b[1;33m\u001b[0m\u001b[1;33m\u001b[0m\u001b[0m\n\u001b[0;32m    250\u001b[0m         \u001b[0mpng_formatter\u001b[0m\u001b[1;33m.\u001b[0m\u001b[0mfor_type\u001b[0m\u001b[1;33m(\u001b[0m\u001b[0mFigure\u001b[0m\u001b[1;33m,\u001b[0m \u001b[1;32mlambda\u001b[0m \u001b[0mfig\u001b[0m\u001b[1;33m:\u001b[0m \u001b[0mretina_figure\u001b[0m\u001b[1;33m(\u001b[0m\u001b[0mfig\u001b[0m\u001b[1;33m,\u001b[0m \u001b[1;33m**\u001b[0m\u001b[0mkwargs\u001b[0m\u001b[1;33m)\u001b[0m\u001b[1;33m)\u001b[0m\u001b[1;33m\u001b[0m\u001b[1;33m\u001b[0m\u001b[0m\n",
      "\u001b[1;32mC:\\ProgramData\\Anaconda3\\lib\\site-packages\\IPython\\core\\pylabtools.py\u001b[0m in \u001b[0;36mprint_figure\u001b[1;34m(fig, fmt, bbox_inches, **kwargs)\u001b[0m\n\u001b[0;32m    130\u001b[0m         \u001b[0mFigureCanvasBase\u001b[0m\u001b[1;33m(\u001b[0m\u001b[0mfig\u001b[0m\u001b[1;33m)\u001b[0m\u001b[1;33m\u001b[0m\u001b[1;33m\u001b[0m\u001b[0m\n\u001b[0;32m    131\u001b[0m \u001b[1;33m\u001b[0m\u001b[0m\n\u001b[1;32m--> 132\u001b[1;33m     \u001b[0mfig\u001b[0m\u001b[1;33m.\u001b[0m\u001b[0mcanvas\u001b[0m\u001b[1;33m.\u001b[0m\u001b[0mprint_figure\u001b[0m\u001b[1;33m(\u001b[0m\u001b[0mbytes_io\u001b[0m\u001b[1;33m,\u001b[0m \u001b[1;33m**\u001b[0m\u001b[0mkw\u001b[0m\u001b[1;33m)\u001b[0m\u001b[1;33m\u001b[0m\u001b[1;33m\u001b[0m\u001b[0m\n\u001b[0m\u001b[0;32m    133\u001b[0m     \u001b[0mdata\u001b[0m \u001b[1;33m=\u001b[0m \u001b[0mbytes_io\u001b[0m\u001b[1;33m.\u001b[0m\u001b[0mgetvalue\u001b[0m\u001b[1;33m(\u001b[0m\u001b[1;33m)\u001b[0m\u001b[1;33m\u001b[0m\u001b[1;33m\u001b[0m\u001b[0m\n\u001b[0;32m    134\u001b[0m     \u001b[1;32mif\u001b[0m \u001b[0mfmt\u001b[0m \u001b[1;33m==\u001b[0m \u001b[1;34m'svg'\u001b[0m\u001b[1;33m:\u001b[0m\u001b[1;33m\u001b[0m\u001b[1;33m\u001b[0m\u001b[0m\n",
      "\u001b[1;32mC:\\ProgramData\\Anaconda3\\lib\\site-packages\\matplotlib\\backend_bases.py\u001b[0m in \u001b[0;36mprint_figure\u001b[1;34m(self, filename, dpi, facecolor, edgecolor, orientation, format, bbox_inches, pad_inches, bbox_extra_artists, backend, **kwargs)\u001b[0m\n\u001b[0;32m   2208\u001b[0m \u001b[1;33m\u001b[0m\u001b[0m\n\u001b[0;32m   2209\u001b[0m             \u001b[1;32mtry\u001b[0m\u001b[1;33m:\u001b[0m\u001b[1;33m\u001b[0m\u001b[1;33m\u001b[0m\u001b[0m\n\u001b[1;32m-> 2210\u001b[1;33m                 result = print_method(\n\u001b[0m\u001b[0;32m   2211\u001b[0m                     \u001b[0mfilename\u001b[0m\u001b[1;33m,\u001b[0m\u001b[1;33m\u001b[0m\u001b[1;33m\u001b[0m\u001b[0m\n\u001b[0;32m   2212\u001b[0m                     \u001b[0mdpi\u001b[0m\u001b[1;33m=\u001b[0m\u001b[0mdpi\u001b[0m\u001b[1;33m,\u001b[0m\u001b[1;33m\u001b[0m\u001b[1;33m\u001b[0m\u001b[0m\n",
      "\u001b[1;32mC:\\ProgramData\\Anaconda3\\lib\\site-packages\\matplotlib\\backend_bases.py\u001b[0m in \u001b[0;36mwrapper\u001b[1;34m(*args, **kwargs)\u001b[0m\n\u001b[0;32m   1637\u001b[0m             \u001b[0mkwargs\u001b[0m\u001b[1;33m.\u001b[0m\u001b[0mpop\u001b[0m\u001b[1;33m(\u001b[0m\u001b[0marg\u001b[0m\u001b[1;33m)\u001b[0m\u001b[1;33m\u001b[0m\u001b[1;33m\u001b[0m\u001b[0m\n\u001b[0;32m   1638\u001b[0m \u001b[1;33m\u001b[0m\u001b[0m\n\u001b[1;32m-> 1639\u001b[1;33m         \u001b[1;32mreturn\u001b[0m \u001b[0mfunc\u001b[0m\u001b[1;33m(\u001b[0m\u001b[1;33m*\u001b[0m\u001b[0margs\u001b[0m\u001b[1;33m,\u001b[0m \u001b[1;33m**\u001b[0m\u001b[0mkwargs\u001b[0m\u001b[1;33m)\u001b[0m\u001b[1;33m\u001b[0m\u001b[1;33m\u001b[0m\u001b[0m\n\u001b[0m\u001b[0;32m   1640\u001b[0m \u001b[1;33m\u001b[0m\u001b[0m\n\u001b[0;32m   1641\u001b[0m     \u001b[1;32mreturn\u001b[0m \u001b[0mwrapper\u001b[0m\u001b[1;33m\u001b[0m\u001b[1;33m\u001b[0m\u001b[0m\n",
      "\u001b[1;32mC:\\ProgramData\\Anaconda3\\lib\\site-packages\\matplotlib\\backends\\backend_agg.py\u001b[0m in \u001b[0;36mprint_png\u001b[1;34m(self, filename_or_obj, metadata, pil_kwargs, *args)\u001b[0m\n\u001b[0;32m    507\u001b[0m             \u001b[1;33m*\u001b[0m\u001b[0mmetadata\u001b[0m\u001b[1;33m*\u001b[0m\u001b[1;33m,\u001b[0m \u001b[0mincluding\u001b[0m \u001b[0mthe\u001b[0m \u001b[0mdefault\u001b[0m \u001b[1;34m'Software'\u001b[0m \u001b[0mkey\u001b[0m\u001b[1;33m.\u001b[0m\u001b[1;33m\u001b[0m\u001b[1;33m\u001b[0m\u001b[0m\n\u001b[0;32m    508\u001b[0m         \"\"\"\n\u001b[1;32m--> 509\u001b[1;33m         \u001b[0mFigureCanvasAgg\u001b[0m\u001b[1;33m.\u001b[0m\u001b[0mdraw\u001b[0m\u001b[1;33m(\u001b[0m\u001b[0mself\u001b[0m\u001b[1;33m)\u001b[0m\u001b[1;33m\u001b[0m\u001b[1;33m\u001b[0m\u001b[0m\n\u001b[0m\u001b[0;32m    510\u001b[0m         mpl.image.imsave(\n\u001b[0;32m    511\u001b[0m             \u001b[0mfilename_or_obj\u001b[0m\u001b[1;33m,\u001b[0m \u001b[0mself\u001b[0m\u001b[1;33m.\u001b[0m\u001b[0mbuffer_rgba\u001b[0m\u001b[1;33m(\u001b[0m\u001b[1;33m)\u001b[0m\u001b[1;33m,\u001b[0m \u001b[0mformat\u001b[0m\u001b[1;33m=\u001b[0m\u001b[1;34m\"png\"\u001b[0m\u001b[1;33m,\u001b[0m \u001b[0morigin\u001b[0m\u001b[1;33m=\u001b[0m\u001b[1;34m\"upper\"\u001b[0m\u001b[1;33m,\u001b[0m\u001b[1;33m\u001b[0m\u001b[1;33m\u001b[0m\u001b[0m\n",
      "\u001b[1;32mC:\\ProgramData\\Anaconda3\\lib\\site-packages\\matplotlib\\backends\\backend_agg.py\u001b[0m in \u001b[0;36mdraw\u001b[1;34m(self)\u001b[0m\n\u001b[0;32m    400\u001b[0m     \u001b[1;32mdef\u001b[0m \u001b[0mdraw\u001b[0m\u001b[1;33m(\u001b[0m\u001b[0mself\u001b[0m\u001b[1;33m)\u001b[0m\u001b[1;33m:\u001b[0m\u001b[1;33m\u001b[0m\u001b[1;33m\u001b[0m\u001b[0m\n\u001b[0;32m    401\u001b[0m         \u001b[1;31m# docstring inherited\u001b[0m\u001b[1;33m\u001b[0m\u001b[1;33m\u001b[0m\u001b[1;33m\u001b[0m\u001b[0m\n\u001b[1;32m--> 402\u001b[1;33m         \u001b[0mself\u001b[0m\u001b[1;33m.\u001b[0m\u001b[0mrenderer\u001b[0m \u001b[1;33m=\u001b[0m \u001b[0mself\u001b[0m\u001b[1;33m.\u001b[0m\u001b[0mget_renderer\u001b[0m\u001b[1;33m(\u001b[0m\u001b[0mcleared\u001b[0m\u001b[1;33m=\u001b[0m\u001b[1;32mTrue\u001b[0m\u001b[1;33m)\u001b[0m\u001b[1;33m\u001b[0m\u001b[1;33m\u001b[0m\u001b[0m\n\u001b[0m\u001b[0;32m    403\u001b[0m         \u001b[1;31m# Acquire a lock on the shared font cache.\u001b[0m\u001b[1;33m\u001b[0m\u001b[1;33m\u001b[0m\u001b[1;33m\u001b[0m\u001b[0m\n\u001b[0;32m    404\u001b[0m         \u001b[1;32mwith\u001b[0m \u001b[0mRendererAgg\u001b[0m\u001b[1;33m.\u001b[0m\u001b[0mlock\u001b[0m\u001b[1;33m,\u001b[0m\u001b[0;31m \u001b[0m\u001b[0;31m\\\u001b[0m\u001b[1;33m\u001b[0m\u001b[1;33m\u001b[0m\u001b[0m\n",
      "\u001b[1;32mC:\\ProgramData\\Anaconda3\\lib\\site-packages\\matplotlib\\backends\\backend_agg.py\u001b[0m in \u001b[0;36mget_renderer\u001b[1;34m(self, cleared)\u001b[0m\n\u001b[0;32m    416\u001b[0m                           and getattr(self, \"_lastKey\", None) == key)\n\u001b[0;32m    417\u001b[0m         \u001b[1;32mif\u001b[0m \u001b[1;32mnot\u001b[0m \u001b[0mreuse_renderer\u001b[0m\u001b[1;33m:\u001b[0m\u001b[1;33m\u001b[0m\u001b[1;33m\u001b[0m\u001b[0m\n\u001b[1;32m--> 418\u001b[1;33m             \u001b[0mself\u001b[0m\u001b[1;33m.\u001b[0m\u001b[0mrenderer\u001b[0m \u001b[1;33m=\u001b[0m \u001b[0mRendererAgg\u001b[0m\u001b[1;33m(\u001b[0m\u001b[0mw\u001b[0m\u001b[1;33m,\u001b[0m \u001b[0mh\u001b[0m\u001b[1;33m,\u001b[0m \u001b[0mself\u001b[0m\u001b[1;33m.\u001b[0m\u001b[0mfigure\u001b[0m\u001b[1;33m.\u001b[0m\u001b[0mdpi\u001b[0m\u001b[1;33m)\u001b[0m\u001b[1;33m\u001b[0m\u001b[1;33m\u001b[0m\u001b[0m\n\u001b[0m\u001b[0;32m    419\u001b[0m             \u001b[0mself\u001b[0m\u001b[1;33m.\u001b[0m\u001b[0m_lastKey\u001b[0m \u001b[1;33m=\u001b[0m \u001b[0mkey\u001b[0m\u001b[1;33m\u001b[0m\u001b[1;33m\u001b[0m\u001b[0m\n\u001b[0;32m    420\u001b[0m         \u001b[1;32melif\u001b[0m \u001b[0mcleared\u001b[0m\u001b[1;33m:\u001b[0m\u001b[1;33m\u001b[0m\u001b[1;33m\u001b[0m\u001b[0m\n",
      "\u001b[1;32mC:\\ProgramData\\Anaconda3\\lib\\site-packages\\matplotlib\\backends\\backend_agg.py\u001b[0m in \u001b[0;36m__init__\u001b[1;34m(self, width, height, dpi)\u001b[0m\n\u001b[0;32m     94\u001b[0m         \u001b[0mself\u001b[0m\u001b[1;33m.\u001b[0m\u001b[0mwidth\u001b[0m \u001b[1;33m=\u001b[0m \u001b[0mwidth\u001b[0m\u001b[1;33m\u001b[0m\u001b[1;33m\u001b[0m\u001b[0m\n\u001b[0;32m     95\u001b[0m         \u001b[0mself\u001b[0m\u001b[1;33m.\u001b[0m\u001b[0mheight\u001b[0m \u001b[1;33m=\u001b[0m \u001b[0mheight\u001b[0m\u001b[1;33m\u001b[0m\u001b[1;33m\u001b[0m\u001b[0m\n\u001b[1;32m---> 96\u001b[1;33m         \u001b[0mself\u001b[0m\u001b[1;33m.\u001b[0m\u001b[0m_renderer\u001b[0m \u001b[1;33m=\u001b[0m \u001b[0m_RendererAgg\u001b[0m\u001b[1;33m(\u001b[0m\u001b[0mint\u001b[0m\u001b[1;33m(\u001b[0m\u001b[0mwidth\u001b[0m\u001b[1;33m)\u001b[0m\u001b[1;33m,\u001b[0m \u001b[0mint\u001b[0m\u001b[1;33m(\u001b[0m\u001b[0mheight\u001b[0m\u001b[1;33m)\u001b[0m\u001b[1;33m,\u001b[0m \u001b[0mdpi\u001b[0m\u001b[1;33m)\u001b[0m\u001b[1;33m\u001b[0m\u001b[1;33m\u001b[0m\u001b[0m\n\u001b[0m\u001b[0;32m     97\u001b[0m         \u001b[0mself\u001b[0m\u001b[1;33m.\u001b[0m\u001b[0m_filter_renderers\u001b[0m \u001b[1;33m=\u001b[0m \u001b[1;33m[\u001b[0m\u001b[1;33m]\u001b[0m\u001b[1;33m\u001b[0m\u001b[1;33m\u001b[0m\u001b[0m\n\u001b[0;32m     98\u001b[0m \u001b[1;33m\u001b[0m\u001b[0m\n",
      "\u001b[1;31mValueError\u001b[0m: Image size of 657x88069163 pixels is too large. It must be less than 2^16 in each direction."
     ]
    },
    {
     "data": {
      "text/plain": [
       "<Figure size 720x432 with 1 Axes>"
      ]
     },
     "metadata": {
      "needs_background": "light"
     },
     "output_type": "display_data"
    }
   ],
   "source": [
    "fig, ax = plt.subplots(figsize=(10, 6))\n",
    "\n",
    "ax = sns.pointplot(x=list(rmse_scores.keys()), y=[\n",
    "                   score for score, _ in rmse_scores.values()], markers=['o'], linestyles=['-'], ax=ax)\n",
    "for i, score in enumerate(rmse_scores.values()):\n",
    "    ax.text(i, score[0] + 0.002, '{:.6f}'.format(score[0]),\n",
    "            horizontalalignment='left', size='large', color='black', weight='semibold')\n",
    "\n",
    "ax.set_ylabel('Score (RMSE)', size=20, labelpad=12.5)\n",
    "ax.set_xlabel('Model', size=20, labelpad=12.5)\n",
    "ax.tick_params(axis='x', labelsize=13.5, rotation=10)\n",
    "ax.tick_params(axis='y', labelsize=12.5)\n",
    "ax.set_ylim(0, 0.25)\n",
    "ax.set_title('Rmse Scores of Models without Blended_Predictions', size=20)\n",
    "\n",
    "fig.show()\n"
   ]
  },
  {
   "cell_type": "code",
   "execution_count": null,
   "metadata": {},
   "outputs": [],
   "source": []
  }
 ],
 "metadata": {
  "interpreter": {
   "hash": "b3ba2566441a7c06988d0923437866b63cedc61552a5af99d1f4fb67d367b25f"
  },
  "kernelspec": {
   "display_name": "Python 3.8.8 64-bit ('base': conda)",
   "language": "python",
   "name": "python3"
  },
  "language_info": {
   "codemirror_mode": {
    "name": "ipython",
    "version": 3
   },
   "file_extension": ".py",
   "mimetype": "text/x-python",
   "name": "python",
   "nbconvert_exporter": "python",
   "pygments_lexer": "ipython3",
   "version": "3.8.8"
  },
  "orig_nbformat": 4
 },
 "nbformat": 4,
 "nbformat_minor": 2
}
