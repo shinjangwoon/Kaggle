{
 "cells": [
  {
   "cell_type": "code",
   "execution_count": 3,
   "source": [
    "!pip install kaggle"
   ],
   "outputs": [
    {
     "output_type": "stream",
     "name": "stdout",
     "text": [
      "Collecting kaggle\n",
      "  Downloading kaggle-1.5.12.tar.gz (58 kB)\n",
      "Requirement already satisfied: six>=1.10 in c:\\users\\wkddn\\anaconda3\\lib\\site-packages (from kaggle) (1.16.0)\n",
      "Requirement already satisfied: certifi in c:\\users\\wkddn\\anaconda3\\lib\\site-packages (from kaggle) (2021.5.30)\n",
      "Requirement already satisfied: python-dateutil in c:\\users\\wkddn\\anaconda3\\lib\\site-packages (from kaggle) (2.8.2)\n",
      "Requirement already satisfied: requests in c:\\users\\wkddn\\anaconda3\\lib\\site-packages (from kaggle) (2.26.0)\n",
      "Requirement already satisfied: tqdm in c:\\users\\wkddn\\anaconda3\\lib\\site-packages (from kaggle) (4.62.2)\n",
      "Collecting python-slugify\n",
      "  Downloading python_slugify-5.0.2-py2.py3-none-any.whl (6.7 kB)\n",
      "Requirement already satisfied: urllib3 in c:\\users\\wkddn\\anaconda3\\lib\\site-packages (from kaggle) (1.26.6)\n",
      "Collecting text-unidecode>=1.3\n",
      "  Downloading text_unidecode-1.3-py2.py3-none-any.whl (78 kB)\n",
      "Requirement already satisfied: charset-normalizer~=2.0.0 in c:\\users\\wkddn\\anaconda3\\lib\\site-packages (from requests->kaggle) (2.0.4)\n",
      "Requirement already satisfied: idna<4,>=2.5 in c:\\users\\wkddn\\anaconda3\\lib\\site-packages (from requests->kaggle) (3.2)\n",
      "Requirement already satisfied: colorama in c:\\users\\wkddn\\anaconda3\\lib\\site-packages (from tqdm->kaggle) (0.4.4)\n",
      "Building wheels for collected packages: kaggle\n",
      "  Building wheel for kaggle (setup.py): started\n",
      "  Building wheel for kaggle (setup.py): finished with status 'done'\n",
      "  Created wheel for kaggle: filename=kaggle-1.5.12-py3-none-any.whl size=73051 sha256=71e9ca666f8975bc08a64d90917f4c5e8f23be71779be6b035e165e7563cbd6f\n",
      "  Stored in directory: c:\\users\\wkddn\\appdata\\local\\pip\\cache\\wheels\\29\\da\\11\\144cc25aebdaeb4931b231e25fd34b394e6a5725cbb2f50106\n",
      "Successfully built kaggle\n",
      "Installing collected packages: text-unidecode, python-slugify, kaggle\n",
      "Successfully installed kaggle-1.5.12 python-slugify-5.0.2 text-unidecode-1.3\n"
     ]
    }
   ],
   "metadata": {}
  },
  {
   "cell_type": "code",
   "execution_count": 4,
   "source": [
    "!pip show kaggle"
   ],
   "outputs": [
    {
     "output_type": "stream",
     "name": "stdout",
     "text": [
      "Name: kaggle\n",
      "Version: 1.5.12\n",
      "Summary: Kaggle API\n",
      "Home-page: https://github.com/Kaggle/kaggle-api\n",
      "Author: Kaggle\n",
      "Author-email: support@kaggle.com\n",
      "License: Apache 2.0\n",
      "Location: c:\\users\\wkddn\\anaconda3\\lib\\site-packages\n",
      "Requires: certifi, tqdm, requests, six, python-dateutil, python-slugify, urllib3\n",
      "Required-by: \n"
     ]
    }
   ],
   "metadata": {}
  },
  {
   "cell_type": "code",
   "execution_count": 21,
   "source": [
    "!kaggle competitions list -s health"
   ],
   "outputs": [
    {
     "output_type": "stream",
     "name": "stdout",
     "text": [
      "ref                                                  deadline             category       reward  teamCount  userHasEntered  \n",
      "---------------------------------------------------  -------------------  ----------  ---------  ---------  --------------  \n",
      "nfl-health-and-safety-helmet-assignment              2021-11-02 23:59:00  Featured     $100,000        519           False  \n",
      "hhp                                                  2013-04-04 07:00:00  Featured     $500,000       1350           False  \n",
      "rsna-miccai-brain-tumor-radiogenomic-classification  2021-10-15 23:59:00  Featured      $30,000       1216           False  \n",
      "ventilator-pressure-prediction                       2021-11-03 23:59:00  Research       $7,500        353           False  \n",
      "datasciencebowl                                      2015-03-16 23:59:00  Featured     $175,000       1049           False  \n",
      "stanford-covid-vaccine                               2020-10-06 23:59:00  Research      $25,000       1636           False  \n",
      "hubmap-kidney-segmentation                           2021-05-10 23:59:00  Research      $60,000       1200           False  \n",
      "osic-pulmonary-fibrosis-progression                  2020-10-06 23:59:00  Featured      $55,000       2097           False  \n",
      "histopathologic-cancer-detection                     2019-03-30 23:59:00  Playground  Knowledge       1149           False  \n",
      "rsna-str-pulmonary-embolism-detection                2020-10-26 23:59:00  Featured      $30,000        784           False  \n",
      "melbourne-university-seizure-prediction              2016-12-01 23:59:00  Research      $20,000        477           False  \n",
      "covid19-global-forecasting-week-1                    2020-03-25 23:59:00  Research    Knowledge        545           False  \n",
      "aptos2019-blindness-detection                        2019-09-07 23:59:00  Featured      $50,000       2928           False  \n",
      "lish-moa                                             2020-11-30 23:59:00  Research      $30,000       4373           False  \n",
      "ultrasound-nerve-segmentation                        2016-08-18 23:59:00  Featured     $100,000        922           False  \n",
      "vinbigdata-chest-xray-abnormalities-detection        2021-03-30 23:59:00  Featured      $50,000       1275           False  \n",
      "prostate-cancer-grade-assessment                     2020-07-22 23:59:00  Featured      $25,000       1010           False  \n",
      "trends-assessment-prediction                         2020-06-29 23:59:00  Research      $25,000       1047           False  \n",
      "covid19-global-forecasting-week-4                    2020-04-15 23:59:00  Research    Knowledge        472           False  \n",
      "covid19-global-forecasting-week-3                    2020-04-08 23:59:00  Research    Knowledge        452           False  \n"
     ]
    }
   ],
   "metadata": {}
  },
  {
   "cell_type": "code",
   "execution_count": 28,
   "source": [
    "!kaggle competitions list -s tutorial"
   ],
   "outputs": [
    {
     "output_type": "stream",
     "name": "stdout",
     "text": [
      "ref                                                             deadline             category            reward  teamCount  userHasEntered  \n",
      "--------------------------------------------------------------  -------------------  ---------------  ---------  ---------  --------------  \n",
      "word2vec-nlp-tutorial                                           2015-06-30 23:59:00  Getting Started  Knowledge        577           False  \n",
      "pycon-2015-tutorial-predict-closed-questions-on-stack-overflow  2015-08-04 23:59:00  Playground         $20,000          0           False  \n"
     ]
    }
   ],
   "metadata": {}
  },
  {
   "cell_type": "code",
   "execution_count": 27,
   "source": [
    "!kaggle competitions {list, files, download, submit, submissions}\r\n"
   ],
   "outputs": [
    {
     "output_type": "stream",
     "name": "stderr",
     "text": [
      "usage: kaggle competitions [-h]\n",
      "                           {list,files,download,submit,submissions,leaderboard}\n",
      "                           ...\n",
      "kaggle competitions: error: argument command: invalid choice: '{list,' (choose from 'list', 'files', 'download', 'submit', 'submissions', 'leaderboard')\n"
     ]
    }
   ],
   "metadata": {}
  },
  {
   "cell_type": "code",
   "execution_count": 29,
   "source": [
    "!kaggle competitions download -c titanic"
   ],
   "outputs": [
    {
     "output_type": "stream",
     "name": "stdout",
     "text": [
      "Downloading titanic.zip to c:\\Users\\wkddn\\OneDrive\\문서\\GitHub\\Kaggle\n",
      "\n"
     ]
    },
    {
     "output_type": "stream",
     "name": "stderr",
     "text": [
      "\n",
      "  0%|          | 0.00/34.1k [00:00<?, ?B/s]\n",
      "100%|██████████| 34.1k/34.1k [00:00<00:00, 4.81MB/s]\n"
     ]
    }
   ],
   "metadata": {}
  },
  {
   "cell_type": "code",
   "execution_count": 33,
   "source": [
    "!kaggle competitions download -c titanic -p ./kaggle/titanic/titanic_data\r\n"
   ],
   "outputs": [
    {
     "output_type": "stream",
     "name": "stdout",
     "text": [
      "Downloading titanic.zip to ./kaggle/titanic/titanic_data\n",
      "\n"
     ]
    },
    {
     "output_type": "stream",
     "name": "stderr",
     "text": [
      "\n",
      "  0%|          | 0.00/34.1k [00:00<?, ?B/s]\n",
      "100%|██████████| 34.1k/34.1k [00:00<00:00, 5.24MB/s]\n"
     ]
    }
   ],
   "metadata": {}
  },
  {
   "cell_type": "code",
   "execution_count": 32,
   "source": [
    "!kaggle competitions files -c titanic"
   ],
   "outputs": [
    {
     "output_type": "stream",
     "name": "stdout",
     "text": [
      "name                   size  creationDate         \n",
      "---------------------  ----  -------------------  \n",
      "test.csv               28KB  2018-04-09 05:33:22  \n",
      "train.csv              60KB  2018-04-09 05:33:22  \n",
      "gender_submission.csv   3KB  2018-04-09 05:33:22  \n"
     ]
    }
   ],
   "metadata": {}
  }
 ],
 "metadata": {
  "orig_nbformat": 4,
  "language_info": {
   "name": "python",
   "version": "3.8.11",
   "mimetype": "text/x-python",
   "codemirror_mode": {
    "name": "ipython",
    "version": 3
   },
   "pygments_lexer": "ipython3",
   "nbconvert_exporter": "python",
   "file_extension": ".py"
  },
  "kernelspec": {
   "name": "python3",
   "display_name": "Python 3.8.11 64-bit ('base': conda)"
  },
  "interpreter": {
   "hash": "3e844b5651db8b7a30ae1dbaa031cf9917e618af5177108978cde77e957e5f35"
  }
 },
 "nbformat": 4,
 "nbformat_minor": 2
}